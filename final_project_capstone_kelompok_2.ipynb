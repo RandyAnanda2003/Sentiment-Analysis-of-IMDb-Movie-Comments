{
  "cells": [
    {
      "cell_type": "markdown",
      "source": [
        "## INTRODUCTION"
      ],
      "metadata": {
        "id": "4cQ-n_h-bLNp"
      }
    },
    {
      "cell_type": "markdown",
      "source": [
        "\n",
        "*   Randy Aulia Ananda Ruslani, Politeknik Negeri Jakarta, Teknik Informatika, Batch 7\n",
        "*   Mahesa Airul Rohman Putra Wantono, universitas wanita internasional, informatika, batch 7\n",
        "* Irsyad Fadhil Makarim, Universitas Pembangunan Nasional \"Veteran\" Jawa Timur, Informatika, Batch 7\n",
        "* Muhammad Farrel Al-Wafi Frizzy, Universitas Sriwijaya, Sistem Informasi, Batch 7\n",
        "* Alif Suryadi, Universitas Putra Indonesia YPTK Padang, Teknik Informatika, Batch 7\n",
        "\n"
      ],
      "metadata": {
        "id": "-vcsnJg9bPqc"
      }
    },
    {
      "cell_type": "markdown",
      "source": [],
      "metadata": {
        "id": "chZvHzZGGtU5"
      }
    },
    {
      "cell_type": "markdown",
      "source": [
        "## PROBLEM STATEMENT"
      ],
      "metadata": {
        "id": "DUnoYLbSccZw"
      }
    },
    {
      "cell_type": "markdown",
      "source": [
        "Penilaian berbasis bintang sering kali bias atau tidak mencerminkan isi komentar, sehingga dapat memengaruhi akurasi sistem rekomendasi film di IMDb. Sebagai alternatif, penilaian film dapat didukung oleh analisis sentimen komentar. Namun, banyaknya komentar memerlukan model analisis sentimen yang cepat dan dapat diintegrasikan dengan sistem rekomendasi untuk meningkatkan akurasi. oleh karena itu, pada capstone kali ini, kami mencoba untuk mengembangkan sebuah model NLP yang dapat menganalisis sentimen komentar pada platform IMDb berbasis algoritma Biderectional LSTM"
      ],
      "metadata": {
        "id": "m2QsPBCCeEHY"
      }
    },
    {
      "cell_type": "code",
      "source": [
        "!pip install tensorflow==2.14"
      ],
      "metadata": {
        "id": "5LpF8wVTy7HO",
        "colab": {
          "base_uri": "https://localhost:8080/"
        },
        "outputId": "71294f59-6667-4ce1-859e-b435af3c835b"
      },
      "execution_count": 1,
      "outputs": [
        {
          "output_type": "stream",
          "name": "stdout",
          "text": [
            "Collecting tensorflow==2.14\n",
            "  Downloading tensorflow-2.14.0-cp310-cp310-manylinux_2_17_x86_64.manylinux2014_x86_64.whl.metadata (4.1 kB)\n",
            "Requirement already satisfied: absl-py>=1.0.0 in /usr/local/lib/python3.10/dist-packages (from tensorflow==2.14) (1.4.0)\n",
            "Requirement already satisfied: astunparse>=1.6.0 in /usr/local/lib/python3.10/dist-packages (from tensorflow==2.14) (1.6.3)\n",
            "Requirement already satisfied: flatbuffers>=23.5.26 in /usr/local/lib/python3.10/dist-packages (from tensorflow==2.14) (24.3.25)\n",
            "Requirement already satisfied: gast!=0.5.0,!=0.5.1,!=0.5.2,>=0.2.1 in /usr/local/lib/python3.10/dist-packages (from tensorflow==2.14) (0.6.0)\n",
            "Requirement already satisfied: google-pasta>=0.1.1 in /usr/local/lib/python3.10/dist-packages (from tensorflow==2.14) (0.2.0)\n",
            "Requirement already satisfied: h5py>=2.9.0 in /usr/local/lib/python3.10/dist-packages (from tensorflow==2.14) (3.12.1)\n",
            "Requirement already satisfied: libclang>=13.0.0 in /usr/local/lib/python3.10/dist-packages (from tensorflow==2.14) (18.1.1)\n",
            "Collecting ml-dtypes==0.2.0 (from tensorflow==2.14)\n",
            "  Downloading ml_dtypes-0.2.0-cp310-cp310-manylinux_2_17_x86_64.manylinux2014_x86_64.whl.metadata (20 kB)\n",
            "Requirement already satisfied: numpy>=1.23.5 in /usr/local/lib/python3.10/dist-packages (from tensorflow==2.14) (1.26.4)\n",
            "Requirement already satisfied: opt-einsum>=2.3.2 in /usr/local/lib/python3.10/dist-packages (from tensorflow==2.14) (3.4.0)\n",
            "Requirement already satisfied: packaging in /usr/local/lib/python3.10/dist-packages (from tensorflow==2.14) (24.2)\n",
            "Requirement already satisfied: protobuf!=4.21.0,!=4.21.1,!=4.21.2,!=4.21.3,!=4.21.4,!=4.21.5,<5.0.0dev,>=3.20.3 in /usr/local/lib/python3.10/dist-packages (from tensorflow==2.14) (4.25.5)\n",
            "Requirement already satisfied: setuptools in /usr/local/lib/python3.10/dist-packages (from tensorflow==2.14) (75.1.0)\n",
            "Requirement already satisfied: six>=1.12.0 in /usr/local/lib/python3.10/dist-packages (from tensorflow==2.14) (1.17.0)\n",
            "Requirement already satisfied: termcolor>=1.1.0 in /usr/local/lib/python3.10/dist-packages (from tensorflow==2.14) (2.5.0)\n",
            "Requirement already satisfied: typing-extensions>=3.6.6 in /usr/local/lib/python3.10/dist-packages (from tensorflow==2.14) (4.12.2)\n",
            "Collecting wrapt<1.15,>=1.11.0 (from tensorflow==2.14)\n",
            "  Downloading wrapt-1.14.1-cp310-cp310-manylinux_2_5_x86_64.manylinux1_x86_64.manylinux_2_17_x86_64.manylinux2014_x86_64.whl.metadata (6.7 kB)\n",
            "Requirement already satisfied: tensorflow-io-gcs-filesystem>=0.23.1 in /usr/local/lib/python3.10/dist-packages (from tensorflow==2.14) (0.37.1)\n",
            "Requirement already satisfied: grpcio<2.0,>=1.24.3 in /usr/local/lib/python3.10/dist-packages (from tensorflow==2.14) (1.68.1)\n",
            "Collecting tensorboard<2.15,>=2.14 (from tensorflow==2.14)\n",
            "  Downloading tensorboard-2.14.1-py3-none-any.whl.metadata (1.7 kB)\n",
            "Collecting tensorflow-estimator<2.15,>=2.14.0 (from tensorflow==2.14)\n",
            "  Downloading tensorflow_estimator-2.14.0-py2.py3-none-any.whl.metadata (1.3 kB)\n",
            "Collecting keras<2.15,>=2.14.0 (from tensorflow==2.14)\n",
            "  Downloading keras-2.14.0-py3-none-any.whl.metadata (2.4 kB)\n",
            "Requirement already satisfied: wheel<1.0,>=0.23.0 in /usr/local/lib/python3.10/dist-packages (from astunparse>=1.6.0->tensorflow==2.14) (0.45.1)\n",
            "Requirement already satisfied: google-auth<3,>=1.6.3 in /usr/local/lib/python3.10/dist-packages (from tensorboard<2.15,>=2.14->tensorflow==2.14) (2.27.0)\n",
            "Collecting google-auth-oauthlib<1.1,>=0.5 (from tensorboard<2.15,>=2.14->tensorflow==2.14)\n",
            "  Downloading google_auth_oauthlib-1.0.0-py2.py3-none-any.whl.metadata (2.7 kB)\n",
            "Requirement already satisfied: markdown>=2.6.8 in /usr/local/lib/python3.10/dist-packages (from tensorboard<2.15,>=2.14->tensorflow==2.14) (3.7)\n",
            "Requirement already satisfied: requests<3,>=2.21.0 in /usr/local/lib/python3.10/dist-packages (from tensorboard<2.15,>=2.14->tensorflow==2.14) (2.32.3)\n",
            "Requirement already satisfied: tensorboard-data-server<0.8.0,>=0.7.0 in /usr/local/lib/python3.10/dist-packages (from tensorboard<2.15,>=2.14->tensorflow==2.14) (0.7.2)\n",
            "Requirement already satisfied: werkzeug>=1.0.1 in /usr/local/lib/python3.10/dist-packages (from tensorboard<2.15,>=2.14->tensorflow==2.14) (3.1.3)\n",
            "Requirement already satisfied: cachetools<6.0,>=2.0.0 in /usr/local/lib/python3.10/dist-packages (from google-auth<3,>=1.6.3->tensorboard<2.15,>=2.14->tensorflow==2.14) (5.5.0)\n",
            "Requirement already satisfied: pyasn1-modules>=0.2.1 in /usr/local/lib/python3.10/dist-packages (from google-auth<3,>=1.6.3->tensorboard<2.15,>=2.14->tensorflow==2.14) (0.4.1)\n",
            "Requirement already satisfied: rsa<5,>=3.1.4 in /usr/local/lib/python3.10/dist-packages (from google-auth<3,>=1.6.3->tensorboard<2.15,>=2.14->tensorflow==2.14) (4.9)\n",
            "Requirement already satisfied: requests-oauthlib>=0.7.0 in /usr/local/lib/python3.10/dist-packages (from google-auth-oauthlib<1.1,>=0.5->tensorboard<2.15,>=2.14->tensorflow==2.14) (1.3.1)\n",
            "Requirement already satisfied: charset-normalizer<4,>=2 in /usr/local/lib/python3.10/dist-packages (from requests<3,>=2.21.0->tensorboard<2.15,>=2.14->tensorflow==2.14) (3.4.0)\n",
            "Requirement already satisfied: idna<4,>=2.5 in /usr/local/lib/python3.10/dist-packages (from requests<3,>=2.21.0->tensorboard<2.15,>=2.14->tensorflow==2.14) (3.10)\n",
            "Requirement already satisfied: urllib3<3,>=1.21.1 in /usr/local/lib/python3.10/dist-packages (from requests<3,>=2.21.0->tensorboard<2.15,>=2.14->tensorflow==2.14) (2.2.3)\n",
            "Requirement already satisfied: certifi>=2017.4.17 in /usr/local/lib/python3.10/dist-packages (from requests<3,>=2.21.0->tensorboard<2.15,>=2.14->tensorflow==2.14) (2024.12.14)\n",
            "Requirement already satisfied: MarkupSafe>=2.1.1 in /usr/local/lib/python3.10/dist-packages (from werkzeug>=1.0.1->tensorboard<2.15,>=2.14->tensorflow==2.14) (3.0.2)\n",
            "Requirement already satisfied: pyasn1<0.7.0,>=0.4.6 in /usr/local/lib/python3.10/dist-packages (from pyasn1-modules>=0.2.1->google-auth<3,>=1.6.3->tensorboard<2.15,>=2.14->tensorflow==2.14) (0.6.1)\n",
            "Requirement already satisfied: oauthlib>=3.0.0 in /usr/local/lib/python3.10/dist-packages (from requests-oauthlib>=0.7.0->google-auth-oauthlib<1.1,>=0.5->tensorboard<2.15,>=2.14->tensorflow==2.14) (3.2.2)\n",
            "Downloading tensorflow-2.14.0-cp310-cp310-manylinux_2_17_x86_64.manylinux2014_x86_64.whl (489.8 MB)\n",
            "\u001b[2K   \u001b[90m━━━━━━━━━━━━━━━━━━━━━━━━━━━━━━━━━━━━━━━━\u001b[0m \u001b[32m489.8/489.8 MB\u001b[0m \u001b[31m3.2 MB/s\u001b[0m eta \u001b[36m0:00:00\u001b[0m\n",
            "\u001b[?25hDownloading ml_dtypes-0.2.0-cp310-cp310-manylinux_2_17_x86_64.manylinux2014_x86_64.whl (1.0 MB)\n",
            "\u001b[2K   \u001b[90m━━━━━━━━━━━━━━━━━━━━━━━━━━━━━━━━━━━━━━━━\u001b[0m \u001b[32m1.0/1.0 MB\u001b[0m \u001b[31m51.1 MB/s\u001b[0m eta \u001b[36m0:00:00\u001b[0m\n",
            "\u001b[?25hDownloading keras-2.14.0-py3-none-any.whl (1.7 MB)\n",
            "\u001b[2K   \u001b[90m━━━━━━━━━━━━━━━━━━━━━━━━━━━━━━━━━━━━━━━━\u001b[0m \u001b[32m1.7/1.7 MB\u001b[0m \u001b[31m69.8 MB/s\u001b[0m eta \u001b[36m0:00:00\u001b[0m\n",
            "\u001b[?25hDownloading tensorboard-2.14.1-py3-none-any.whl (5.5 MB)\n",
            "\u001b[2K   \u001b[90m━━━━━━━━━━━━━━━━━━━━━━━━━━━━━━━━━━━━━━━━\u001b[0m \u001b[32m5.5/5.5 MB\u001b[0m \u001b[31m84.4 MB/s\u001b[0m eta \u001b[36m0:00:00\u001b[0m\n",
            "\u001b[?25hDownloading tensorflow_estimator-2.14.0-py2.py3-none-any.whl (440 kB)\n",
            "\u001b[2K   \u001b[90m━━━━━━━━━━━━━━━━━━━━━━━━━━━━━━━━━━━━━━━━\u001b[0m \u001b[32m440.7/440.7 kB\u001b[0m \u001b[31m28.1 MB/s\u001b[0m eta \u001b[36m0:00:00\u001b[0m\n",
            "\u001b[?25hDownloading wrapt-1.14.1-cp310-cp310-manylinux_2_5_x86_64.manylinux1_x86_64.manylinux_2_17_x86_64.manylinux2014_x86_64.whl (77 kB)\n",
            "\u001b[2K   \u001b[90m━━━━━━━━━━━━━━━━━━━━━━━━━━━━━━━━━━━━━━━━\u001b[0m \u001b[32m77.9/77.9 kB\u001b[0m \u001b[31m6.3 MB/s\u001b[0m eta \u001b[36m0:00:00\u001b[0m\n",
            "\u001b[?25hDownloading google_auth_oauthlib-1.0.0-py2.py3-none-any.whl (18 kB)\n",
            "Installing collected packages: wrapt, tensorflow-estimator, ml-dtypes, keras, google-auth-oauthlib, tensorboard, tensorflow\n",
            "  Attempting uninstall: wrapt\n",
            "    Found existing installation: wrapt 1.17.0\n",
            "    Uninstalling wrapt-1.17.0:\n",
            "      Successfully uninstalled wrapt-1.17.0\n",
            "  Attempting uninstall: ml-dtypes\n",
            "    Found existing installation: ml-dtypes 0.4.1\n",
            "    Uninstalling ml-dtypes-0.4.1:\n",
            "      Successfully uninstalled ml-dtypes-0.4.1\n",
            "  Attempting uninstall: keras\n",
            "    Found existing installation: keras 3.5.0\n",
            "    Uninstalling keras-3.5.0:\n",
            "      Successfully uninstalled keras-3.5.0\n",
            "  Attempting uninstall: google-auth-oauthlib\n",
            "    Found existing installation: google-auth-oauthlib 1.2.1\n",
            "    Uninstalling google-auth-oauthlib-1.2.1:\n",
            "      Successfully uninstalled google-auth-oauthlib-1.2.1\n",
            "  Attempting uninstall: tensorboard\n",
            "    Found existing installation: tensorboard 2.17.1\n",
            "    Uninstalling tensorboard-2.17.1:\n",
            "      Successfully uninstalled tensorboard-2.17.1\n",
            "  Attempting uninstall: tensorflow\n",
            "    Found existing installation: tensorflow 2.17.1\n",
            "    Uninstalling tensorflow-2.17.1:\n",
            "      Successfully uninstalled tensorflow-2.17.1\n",
            "\u001b[31mERROR: pip's dependency resolver does not currently take into account all the packages that are installed. This behaviour is the source of the following dependency conflicts.\n",
            "tensorstore 0.1.71 requires ml_dtypes>=0.3.1, but you have ml-dtypes 0.2.0 which is incompatible.\n",
            "tf-keras 2.17.0 requires tensorflow<2.18,>=2.17, but you have tensorflow 2.14.0 which is incompatible.\u001b[0m\u001b[31m\n",
            "\u001b[0mSuccessfully installed google-auth-oauthlib-1.0.0 keras-2.14.0 ml-dtypes-0.2.0 tensorboard-2.14.1 tensorflow-2.14.0 tensorflow-estimator-2.14.0 wrapt-1.14.1\n"
          ]
        }
      ]
    },
    {
      "cell_type": "markdown",
      "metadata": {
        "id": "Zcc-ksYbznIe"
      },
      "source": [
        "#IMPORT LIBRARY"
      ]
    },
    {
      "cell_type": "code",
      "execution_count": 2,
      "metadata": {
        "id": "MbL16WnawtA_"
      },
      "outputs": [],
      "source": [
        "import pandas as pd\n",
        "import numpy as np\n",
        "import re\n",
        "import string\n",
        "import spacy\n",
        "import nltk\n",
        "import gensim\n",
        "import matplotlib.pyplot as plt\n",
        "from nltk.corpus import stopwords\n",
        "from tensorflow.keras.models import Sequential\n",
        "from tensorflow.keras.layers import LSTM, Bidirectional, Embedding, Dense, Dropout, GRU\n",
        "from tensorflow.keras.callbacks import EarlyStopping,ReduceLROnPlateau\n",
        "from tensorflow.keras.optimizers import Adam\n",
        "from tensorflow.keras.utils import to_categorical\n",
        "from tensorflow.keras.preprocessing.text import Tokenizer\n",
        "from tensorflow.keras.preprocessing.sequence import pad_sequences\n",
        "import tensorflow_datasets as tfds\n",
        "from sklearn.model_selection import train_test_split\n",
        "from sklearn.metrics import classification_report\n",
        "from sklearn.utils.class_weight import compute_class_weight\n"
      ]
    },
    {
      "cell_type": "markdown",
      "metadata": {
        "id": "iXdvGh6bz2Hw"
      },
      "source": [
        "#LOADING DATA"
      ]
    },
    {
      "cell_type": "code",
      "source": [
        "# The dataset is already downloaded for you. For downloading you can use the code below.\n",
        "# imdb = tfds.load(\"imdb_reviews\", as_supervised=True, data_dir=\"../data/\", download=False)\n",
        "imdb = tfds.load(\"imdb_reviews\", as_supervised=True, download=True)\n"
      ],
      "metadata": {
        "id": "TL8jk5M9QvgH",
        "colab": {
          "base_uri": "https://localhost:8080/",
          "height": 136,
          "referenced_widgets": [
            "9a9088babebc4652bc11d18f19156cba",
            "63f49a03ec41469d96141ed576dc97eb",
            "eef6e365485b498e8aaa701cb95a8cc7",
            "191f419086474c3a91de2c0d52c0600c",
            "6d07dc105d3647d797acf6724bfafe67",
            "3c5994e079534f6f9110f2ebe7fadb25",
            "20bfba960444438b93b4fa1da3d513b5",
            "c299e9d596114924bcae9d3c3d4188ce",
            "654dcb18afaf4d308976ae4c8f1036a4",
            "1ecfd92b75984fa189ae1ca4a53d0f44",
            "0d5d087016d24e178642454e0d2b00f3",
            "9d782d489dd8441699dd6c65e62d44b2",
            "40ea8c962e25417ba694202381bb3726",
            "df2e9f51e7624344b3ad94cdc58a44fc",
            "025a57f3e7fe407d8f86d4bb0fe9ae2c",
            "818cb79449d14f8a9f0d6ced88ad2237",
            "40c1c6d4bd8a48ab837cd4d8e3c8c8c5",
            "3d9e3a9cabc8457a8c0f2de1c82819b0",
            "5e06e2dec1244f2d98b727277176781c",
            "c4faf9dabd94450d871ebab56e9d17d6",
            "0dfa704a46494e22b948bc9d47474254",
            "d608b9f8940344f78e5950cdf3c7bf9b",
            "e4d9ac53dc6944e7b26a890400a89144",
            "eb06f33ca89f43bdb3324d70750cf831",
            "6856874e0e13404c9067a3e922dc4f6d",
            "43a258daf6ce43249936bc0b110bff43",
            "3e59e2d493394d578fd782996f00a992",
            "34a5c6bc508d4395982daa9e4bc95230",
            "ce63959bfa334117855b0eaef515a36f",
            "51675d03178b4a33bb373ef91ea822fe",
            "4671c2495cc04092bbf0e3372494088c",
            "cf111859000d4914af955127a0ca7f53",
            "0c18d1a7bcab4862be5ff057a1719b27",
            "aa33e0dded984e539402b0d67bfb6964",
            "38eeb52cec754e619bbd3c01455e6098",
            "db592718bd27408dbcc69ee77547eaff",
            "0a8913eb01224d1a92f71a826982d15d",
            "4a91aeafc3e0471b8cf0f8de374ebbbf",
            "f030a22e84b9480fa0dcf47c776218e0",
            "20048d961bd2499380e2f571f6cc300a",
            "21a42b4df3d24c0196482876021ff123",
            "9dc2951ab3524641a148219f25f42f58",
            "ac3a7702330f4645a8f3ecb8795fb035",
            "f0b05f79cb444120b3b8a9a5e6c8bede",
            "349da7d9ef094a50a269c54474a4ad6a",
            "51037ca4f049462e8775ccdba8e20adf",
            "01764990fe5940a7b44ccd911cc3a3d8",
            "2164f50f836543f8b42922385324e282",
            "d07c5c5e7f8840278ef9d5ba467f8c77",
            "243f420f44884e25892ddb842c2d2c44",
            "1dbe76b87d8f43a39bebdc282b4dea35",
            "bfc835525c0649f0bd4d0e2dd0e6016a",
            "cb8d895c2c734358a428d0a3dff5b987",
            "cff4d49b7dcb4179bef6ca55cfaebb96",
            "7c66af3cee424e409e00dd0f3d7438b6",
            "1b5336210cf143c4819f902c45d3887d",
            "10981b6322bd4bb187bcd2616861907b",
            "2c22cb983b714ab3a60e1416f4b2cb6f",
            "d05542e5e22b408898814b7e1be814aa",
            "94bb4412c64a4675b6f31a99b1198197",
            "454479318565426da671451a8c58190c",
            "cba681690ba84e63979602888c7b3e3c",
            "5d470e7101994818ba0c9096937cc310",
            "42fde6a8ed5c4562a9a1604ae2d43f9f",
            "ec38eb7ff4e940cf8d06576076b1662b",
            "6cefaf7d924a48648344218cdd76e76c",
            "37d229d13ea2444894523353e0e5166c",
            "b3e1dda7d2a84624be05a9f76f155188",
            "e377ed783bcb48ac9212d8342388bf3f",
            "22cf67653bf34fa98151a87439996346",
            "084aab4116ed45d18a8c803bccd41036",
            "98f398d62f76467ba641c54458547c43",
            "b52effac96344ed9bd8a60c395790815",
            "1921a7f3038342c4bd5d9bd0528c3dc6",
            "c6854bed6b884b7ab8986d26136c9fce",
            "5a380d2187614030b47cd5e0152f981b",
            "23bd113e9bdf4b6580f64c833b9ba97b",
            "b8b13a85eede4023887a410a325dad1a",
            "da5d1e4776af44d5879d69026eb07886",
            "f1d901e750234450a6265e39589fd49a",
            "d2d0e3d62c3a47d4af33f0ebe07059d8",
            "d1a95544b2dc4d5da24c5cf0e7bf1ca7",
            "52903b4d1f374fdab0bce187486a4273",
            "212553a6c17643c39f34b45e57718c3c",
            "8c97975392914deaa8af69a85e2ebfbe",
            "0a0d5c644e5d443e9ff8169b1c12e88d",
            "efa00ccac10145e89cdbc533421d7645",
            "4992b4e9a8274577b46e45ce2c2e1726",
            "d09db7a76f5247f6ab79b541bac6f57d",
            "3f6b86ef32524154bfb989f697740c7d",
            "8bda6d2b7f0d4567a2051a9b4b0864f7",
            "7dc33af25e5848c68a87abcb5672e595",
            "39ed728293184138a65b248ab00c3b28",
            "1d275f11899145959a591d75ce27609a",
            "3e220cc4da8b40e9a7bb1bbde0ead364",
            "fd80faf6fb2d498d82bc8ee11456a983",
            "0859cab817744b6a82a5d3de2dc2f816",
            "60ea60c4eba94da6a66b739da33141c1",
            "9d92237417ef4acdbb10b3bc13889654"
          ]
        },
        "outputId": "6e5a7144-04c8-4a1b-acd0-67ae46665650"
      },
      "execution_count": 3,
      "outputs": [
        {
          "output_type": "stream",
          "name": "stdout",
          "text": [
            "Downloading and preparing dataset 80.23 MiB (download: 80.23 MiB, generated: Unknown size, total: 80.23 MiB) to /root/tensorflow_datasets/imdb_reviews/plain_text/1.0.0...\n"
          ]
        },
        {
          "output_type": "display_data",
          "data": {
            "text/plain": [
              "Dl Completed...: 0 url [00:00, ? url/s]"
            ],
            "application/vnd.jupyter.widget-view+json": {
              "version_major": 2,
              "version_minor": 0,
              "model_id": "9a9088babebc4652bc11d18f19156cba"
            }
          },
          "metadata": {}
        },
        {
          "output_type": "display_data",
          "data": {
            "text/plain": [
              "Dl Size...: 0 MiB [00:00, ? MiB/s]"
            ],
            "application/vnd.jupyter.widget-view+json": {
              "version_major": 2,
              "version_minor": 0,
              "model_id": "9d782d489dd8441699dd6c65e62d44b2"
            }
          },
          "metadata": {}
        },
        {
          "output_type": "display_data",
          "data": {
            "text/plain": [
              "Generating splits...:   0%|          | 0/3 [00:00<?, ? splits/s]"
            ],
            "application/vnd.jupyter.widget-view+json": {
              "version_major": 2,
              "version_minor": 0,
              "model_id": "e4d9ac53dc6944e7b26a890400a89144"
            }
          },
          "metadata": {}
        },
        {
          "output_type": "display_data",
          "data": {
            "text/plain": [
              "Generating train examples...:   0%|          | 0/25000 [00:00<?, ? examples/s]"
            ],
            "application/vnd.jupyter.widget-view+json": {
              "version_major": 2,
              "version_minor": 0,
              "model_id": "aa33e0dded984e539402b0d67bfb6964"
            }
          },
          "metadata": {}
        },
        {
          "output_type": "display_data",
          "data": {
            "text/plain": [
              "Shuffling /root/tensorflow_datasets/imdb_reviews/plain_text/incomplete.IO1EI3_1.0.0/imdb_reviews-train.tfrecor…"
            ],
            "application/vnd.jupyter.widget-view+json": {
              "version_major": 2,
              "version_minor": 0,
              "model_id": "349da7d9ef094a50a269c54474a4ad6a"
            }
          },
          "metadata": {}
        },
        {
          "output_type": "display_data",
          "data": {
            "text/plain": [
              "Generating test examples...:   0%|          | 0/25000 [00:00<?, ? examples/s]"
            ],
            "application/vnd.jupyter.widget-view+json": {
              "version_major": 2,
              "version_minor": 0,
              "model_id": "1b5336210cf143c4819f902c45d3887d"
            }
          },
          "metadata": {}
        },
        {
          "output_type": "display_data",
          "data": {
            "text/plain": [
              "Shuffling /root/tensorflow_datasets/imdb_reviews/plain_text/incomplete.IO1EI3_1.0.0/imdb_reviews-test.tfrecord…"
            ],
            "application/vnd.jupyter.widget-view+json": {
              "version_major": 2,
              "version_minor": 0,
              "model_id": "37d229d13ea2444894523353e0e5166c"
            }
          },
          "metadata": {}
        },
        {
          "output_type": "display_data",
          "data": {
            "text/plain": [
              "Generating unsupervised examples...:   0%|          | 0/50000 [00:00<?, ? examples/s]"
            ],
            "application/vnd.jupyter.widget-view+json": {
              "version_major": 2,
              "version_minor": 0,
              "model_id": "b8b13a85eede4023887a410a325dad1a"
            }
          },
          "metadata": {}
        },
        {
          "output_type": "display_data",
          "data": {
            "text/plain": [
              "Shuffling /root/tensorflow_datasets/imdb_reviews/plain_text/incomplete.IO1EI3_1.0.0/imdb_reviews-unsupervised.…"
            ],
            "application/vnd.jupyter.widget-view+json": {
              "version_major": 2,
              "version_minor": 0,
              "model_id": "d09db7a76f5247f6ab79b541bac6f57d"
            }
          },
          "metadata": {}
        },
        {
          "output_type": "stream",
          "name": "stdout",
          "text": [
            "Dataset imdb_reviews downloaded and prepared to /root/tensorflow_datasets/imdb_reviews/plain_text/1.0.0. Subsequent calls will reuse this data.\n"
          ]
        }
      ]
    },
    {
      "cell_type": "code",
      "source": [
        "# Get the train and test sets\n",
        "train_dataset = imdb['train']"
      ],
      "metadata": {
        "id": "RyD5PRblQ6zx"
      },
      "execution_count": 4,
      "outputs": []
    },
    {
      "cell_type": "code",
      "execution_count": 5,
      "metadata": {
        "id": "T47g-Nkmzd0b"
      },
      "outputs": [],
      "source": [
        "df = pd.DataFrame(train_dataset)\n",
        "# df.rename(columns={\n",
        "#     'text':'content',\n",
        "#     'label':'sentiment'\n",
        "#     },inplace=True)\n"
      ]
    },
    {
      "cell_type": "code",
      "source": [
        "\n",
        "def extract_text(tensor):\n",
        "    # Mengambil teks dari byte string, misalnya tf.Tensor(b'Your review text')\n",
        "    text = tensor.numpy().decode('utf-8')  # Mengonversi byte string ke string\n",
        "    # Ambil teks sebelum 'shape()'\n",
        "    text_before_shape = text.split('shape(')[0].strip()\n",
        "    return text_before_shape\n",
        "def extract_label(tensor):\n",
        "    # Mengambil teks dari byte string, misalnya tf.Tensor(b'Your review text')\n",
        "    label = tensor.numpy()\n",
        "    # Ambil teks sebelum 'shape()'\n",
        "    return label\n",
        "\n",
        "# Terapkan fungsi untuk ekstrak teks pada kolom pertama\n",
        "df['review_text'] = df[0].apply(extract_text)\n",
        "\n",
        "# Ambil data label dari review, misalnya, kita anggap label ada di kolom kedua (1)\n",
        "df['label'] = df[1].apply(extract_label)  # Mengambil label dari kolom kedua (sesuai data asli kamu)\n",
        "\n",
        "# Lihat hasilnya\n",
        "print(df[['review_text', 'label']].head())\n"
      ],
      "metadata": {
        "id": "HIS5HIxYTauh",
        "colab": {
          "base_uri": "https://localhost:8080/"
        },
        "outputId": "6cab18d7-dd94-44a2-fe17-ed2da7eab225"
      },
      "execution_count": 6,
      "outputs": [
        {
          "output_type": "stream",
          "name": "stdout",
          "text": [
            "                                         review_text  label\n",
            "0  This was an absolutely terrible movie. Don't b...      0\n",
            "1  I have been known to fall asleep during films,...      0\n",
            "2  Mann photographs the Alberta Rocky Mountains i...      0\n",
            "3  This is the kind of film for a snowy Sunday af...      1\n",
            "4  As others have mentioned, all the women that g...      1\n"
          ]
        }
      ]
    },
    {
      "cell_type": "code",
      "source": [
        "pd.set_option('display.max_colwidth', None) # hanya untuk memperbesar tampilan output"
      ],
      "metadata": {
        "id": "PcCdCkpnMVzG"
      },
      "execution_count": 71,
      "outputs": []
    },
    {
      "cell_type": "code",
      "execution_count": 8,
      "metadata": {
        "id": "G5xGskHw1JmC",
        "colab": {
          "base_uri": "https://localhost:8080/",
          "height": 293
        },
        "outputId": "8c104048-2edc-4041-96d6-3586f3814e41"
      },
      "outputs": [
        {
          "output_type": "stream",
          "name": "stderr",
          "text": [
            "<ipython-input-8-cbdf09081ae2>:2: SettingWithCopyWarning: \n",
            "A value is trying to be set on a copy of a slice from a DataFrame\n",
            "\n",
            "See the caveats in the documentation: https://pandas.pydata.org/pandas-docs/stable/user_guide/indexing.html#returning-a-view-versus-a-copy\n",
            "  df.rename(columns={\n"
          ]
        },
        {
          "output_type": "execute_result",
          "data": {
            "text/plain": [
              "                                             content  sentiment\n",
              "0  This was an absolutely terrible movie. Don't b...          0\n",
              "1  I have been known to fall asleep during films,...          0\n",
              "2  Mann photographs the Alberta Rocky Mountains i...          0\n",
              "3  This is the kind of film for a snowy Sunday af...          1\n",
              "4  As others have mentioned, all the women that g...          1"
            ],
            "text/html": [
              "\n",
              "  <div id=\"df-b1f7964e-1923-4174-bf50-c5a2aa3d5dd6\" class=\"colab-df-container\">\n",
              "    <div>\n",
              "<style scoped>\n",
              "    .dataframe tbody tr th:only-of-type {\n",
              "        vertical-align: middle;\n",
              "    }\n",
              "\n",
              "    .dataframe tbody tr th {\n",
              "        vertical-align: top;\n",
              "    }\n",
              "\n",
              "    .dataframe thead th {\n",
              "        text-align: right;\n",
              "    }\n",
              "</style>\n",
              "<table border=\"1\" class=\"dataframe\">\n",
              "  <thead>\n",
              "    <tr style=\"text-align: right;\">\n",
              "      <th></th>\n",
              "      <th>content</th>\n",
              "      <th>sentiment</th>\n",
              "    </tr>\n",
              "  </thead>\n",
              "  <tbody>\n",
              "    <tr>\n",
              "      <th>0</th>\n",
              "      <td>This was an absolutely terrible movie. Don't b...</td>\n",
              "      <td>0</td>\n",
              "    </tr>\n",
              "    <tr>\n",
              "      <th>1</th>\n",
              "      <td>I have been known to fall asleep during films,...</td>\n",
              "      <td>0</td>\n",
              "    </tr>\n",
              "    <tr>\n",
              "      <th>2</th>\n",
              "      <td>Mann photographs the Alberta Rocky Mountains i...</td>\n",
              "      <td>0</td>\n",
              "    </tr>\n",
              "    <tr>\n",
              "      <th>3</th>\n",
              "      <td>This is the kind of film for a snowy Sunday af...</td>\n",
              "      <td>1</td>\n",
              "    </tr>\n",
              "    <tr>\n",
              "      <th>4</th>\n",
              "      <td>As others have mentioned, all the women that g...</td>\n",
              "      <td>1</td>\n",
              "    </tr>\n",
              "  </tbody>\n",
              "</table>\n",
              "</div>\n",
              "    <div class=\"colab-df-buttons\">\n",
              "\n",
              "  <div class=\"colab-df-container\">\n",
              "    <button class=\"colab-df-convert\" onclick=\"convertToInteractive('df-b1f7964e-1923-4174-bf50-c5a2aa3d5dd6')\"\n",
              "            title=\"Convert this dataframe to an interactive table.\"\n",
              "            style=\"display:none;\">\n",
              "\n",
              "  <svg xmlns=\"http://www.w3.org/2000/svg\" height=\"24px\" viewBox=\"0 -960 960 960\">\n",
              "    <path d=\"M120-120v-720h720v720H120Zm60-500h600v-160H180v160Zm220 220h160v-160H400v160Zm0 220h160v-160H400v160ZM180-400h160v-160H180v160Zm440 0h160v-160H620v160ZM180-180h160v-160H180v160Zm440 0h160v-160H620v160Z\"/>\n",
              "  </svg>\n",
              "    </button>\n",
              "\n",
              "  <style>\n",
              "    .colab-df-container {\n",
              "      display:flex;\n",
              "      gap: 12px;\n",
              "    }\n",
              "\n",
              "    .colab-df-convert {\n",
              "      background-color: #E8F0FE;\n",
              "      border: none;\n",
              "      border-radius: 50%;\n",
              "      cursor: pointer;\n",
              "      display: none;\n",
              "      fill: #1967D2;\n",
              "      height: 32px;\n",
              "      padding: 0 0 0 0;\n",
              "      width: 32px;\n",
              "    }\n",
              "\n",
              "    .colab-df-convert:hover {\n",
              "      background-color: #E2EBFA;\n",
              "      box-shadow: 0px 1px 2px rgba(60, 64, 67, 0.3), 0px 1px 3px 1px rgba(60, 64, 67, 0.15);\n",
              "      fill: #174EA6;\n",
              "    }\n",
              "\n",
              "    .colab-df-buttons div {\n",
              "      margin-bottom: 4px;\n",
              "    }\n",
              "\n",
              "    [theme=dark] .colab-df-convert {\n",
              "      background-color: #3B4455;\n",
              "      fill: #D2E3FC;\n",
              "    }\n",
              "\n",
              "    [theme=dark] .colab-df-convert:hover {\n",
              "      background-color: #434B5C;\n",
              "      box-shadow: 0px 1px 3px 1px rgba(0, 0, 0, 0.15);\n",
              "      filter: drop-shadow(0px 1px 2px rgba(0, 0, 0, 0.3));\n",
              "      fill: #FFFFFF;\n",
              "    }\n",
              "  </style>\n",
              "\n",
              "    <script>\n",
              "      const buttonEl =\n",
              "        document.querySelector('#df-b1f7964e-1923-4174-bf50-c5a2aa3d5dd6 button.colab-df-convert');\n",
              "      buttonEl.style.display =\n",
              "        google.colab.kernel.accessAllowed ? 'block' : 'none';\n",
              "\n",
              "      async function convertToInteractive(key) {\n",
              "        const element = document.querySelector('#df-b1f7964e-1923-4174-bf50-c5a2aa3d5dd6');\n",
              "        const dataTable =\n",
              "          await google.colab.kernel.invokeFunction('convertToInteractive',\n",
              "                                                    [key], {});\n",
              "        if (!dataTable) return;\n",
              "\n",
              "        const docLinkHtml = 'Like what you see? Visit the ' +\n",
              "          '<a target=\"_blank\" href=https://colab.research.google.com/notebooks/data_table.ipynb>data table notebook</a>'\n",
              "          + ' to learn more about interactive tables.';\n",
              "        element.innerHTML = '';\n",
              "        dataTable['output_type'] = 'display_data';\n",
              "        await google.colab.output.renderOutput(dataTable, element);\n",
              "        const docLink = document.createElement('div');\n",
              "        docLink.innerHTML = docLinkHtml;\n",
              "        element.appendChild(docLink);\n",
              "      }\n",
              "    </script>\n",
              "  </div>\n",
              "\n",
              "\n",
              "<div id=\"df-6ac7e146-35ea-490f-89b9-efde394f260c\">\n",
              "  <button class=\"colab-df-quickchart\" onclick=\"quickchart('df-6ac7e146-35ea-490f-89b9-efde394f260c')\"\n",
              "            title=\"Suggest charts\"\n",
              "            style=\"display:none;\">\n",
              "\n",
              "<svg xmlns=\"http://www.w3.org/2000/svg\" height=\"24px\"viewBox=\"0 0 24 24\"\n",
              "     width=\"24px\">\n",
              "    <g>\n",
              "        <path d=\"M19 3H5c-1.1 0-2 .9-2 2v14c0 1.1.9 2 2 2h14c1.1 0 2-.9 2-2V5c0-1.1-.9-2-2-2zM9 17H7v-7h2v7zm4 0h-2V7h2v10zm4 0h-2v-4h2v4z\"/>\n",
              "    </g>\n",
              "</svg>\n",
              "  </button>\n",
              "\n",
              "<style>\n",
              "  .colab-df-quickchart {\n",
              "      --bg-color: #E8F0FE;\n",
              "      --fill-color: #1967D2;\n",
              "      --hover-bg-color: #E2EBFA;\n",
              "      --hover-fill-color: #174EA6;\n",
              "      --disabled-fill-color: #AAA;\n",
              "      --disabled-bg-color: #DDD;\n",
              "  }\n",
              "\n",
              "  [theme=dark] .colab-df-quickchart {\n",
              "      --bg-color: #3B4455;\n",
              "      --fill-color: #D2E3FC;\n",
              "      --hover-bg-color: #434B5C;\n",
              "      --hover-fill-color: #FFFFFF;\n",
              "      --disabled-bg-color: #3B4455;\n",
              "      --disabled-fill-color: #666;\n",
              "  }\n",
              "\n",
              "  .colab-df-quickchart {\n",
              "    background-color: var(--bg-color);\n",
              "    border: none;\n",
              "    border-radius: 50%;\n",
              "    cursor: pointer;\n",
              "    display: none;\n",
              "    fill: var(--fill-color);\n",
              "    height: 32px;\n",
              "    padding: 0;\n",
              "    width: 32px;\n",
              "  }\n",
              "\n",
              "  .colab-df-quickchart:hover {\n",
              "    background-color: var(--hover-bg-color);\n",
              "    box-shadow: 0 1px 2px rgba(60, 64, 67, 0.3), 0 1px 3px 1px rgba(60, 64, 67, 0.15);\n",
              "    fill: var(--button-hover-fill-color);\n",
              "  }\n",
              "\n",
              "  .colab-df-quickchart-complete:disabled,\n",
              "  .colab-df-quickchart-complete:disabled:hover {\n",
              "    background-color: var(--disabled-bg-color);\n",
              "    fill: var(--disabled-fill-color);\n",
              "    box-shadow: none;\n",
              "  }\n",
              "\n",
              "  .colab-df-spinner {\n",
              "    border: 2px solid var(--fill-color);\n",
              "    border-color: transparent;\n",
              "    border-bottom-color: var(--fill-color);\n",
              "    animation:\n",
              "      spin 1s steps(1) infinite;\n",
              "  }\n",
              "\n",
              "  @keyframes spin {\n",
              "    0% {\n",
              "      border-color: transparent;\n",
              "      border-bottom-color: var(--fill-color);\n",
              "      border-left-color: var(--fill-color);\n",
              "    }\n",
              "    20% {\n",
              "      border-color: transparent;\n",
              "      border-left-color: var(--fill-color);\n",
              "      border-top-color: var(--fill-color);\n",
              "    }\n",
              "    30% {\n",
              "      border-color: transparent;\n",
              "      border-left-color: var(--fill-color);\n",
              "      border-top-color: var(--fill-color);\n",
              "      border-right-color: var(--fill-color);\n",
              "    }\n",
              "    40% {\n",
              "      border-color: transparent;\n",
              "      border-right-color: var(--fill-color);\n",
              "      border-top-color: var(--fill-color);\n",
              "    }\n",
              "    60% {\n",
              "      border-color: transparent;\n",
              "      border-right-color: var(--fill-color);\n",
              "    }\n",
              "    80% {\n",
              "      border-color: transparent;\n",
              "      border-right-color: var(--fill-color);\n",
              "      border-bottom-color: var(--fill-color);\n",
              "    }\n",
              "    90% {\n",
              "      border-color: transparent;\n",
              "      border-bottom-color: var(--fill-color);\n",
              "    }\n",
              "  }\n",
              "</style>\n",
              "\n",
              "  <script>\n",
              "    async function quickchart(key) {\n",
              "      const quickchartButtonEl =\n",
              "        document.querySelector('#' + key + ' button');\n",
              "      quickchartButtonEl.disabled = true;  // To prevent multiple clicks.\n",
              "      quickchartButtonEl.classList.add('colab-df-spinner');\n",
              "      try {\n",
              "        const charts = await google.colab.kernel.invokeFunction(\n",
              "            'suggestCharts', [key], {});\n",
              "      } catch (error) {\n",
              "        console.error('Error during call to suggestCharts:', error);\n",
              "      }\n",
              "      quickchartButtonEl.classList.remove('colab-df-spinner');\n",
              "      quickchartButtonEl.classList.add('colab-df-quickchart-complete');\n",
              "    }\n",
              "    (() => {\n",
              "      let quickchartButtonEl =\n",
              "        document.querySelector('#df-6ac7e146-35ea-490f-89b9-efde394f260c button');\n",
              "      quickchartButtonEl.style.display =\n",
              "        google.colab.kernel.accessAllowed ? 'block' : 'none';\n",
              "    })();\n",
              "  </script>\n",
              "</div>\n",
              "\n",
              "    </div>\n",
              "  </div>\n"
            ],
            "application/vnd.google.colaboratory.intrinsic+json": {
              "type": "dataframe",
              "variable_name": "df",
              "summary": "{\n  \"name\": \"df\",\n  \"rows\": 25000,\n  \"fields\": [\n    {\n      \"column\": \"content\",\n      \"properties\": {\n        \"dtype\": \"string\",\n        \"num_unique_values\": 24904,\n        \"samples\": [\n          \"\\\"Written on the Wind\\\" is an irresistible, wonderfully kinky film, as only director Sirk could have done it. The movie is submerged in a bucket full of Freudian symbols, weird melodramatics and colorful contrasts. The connection between financial success and moral decay is the film's main theme. Sirk seems to suggest that sexual dysfunction is one of the side effects of capitalism. However, I prefer to see the movie as a prime example of what Sirk could do with kitschy material. The palette of colors is particularly impressive. The acting in the film is great too. Rock Hudson and Lauren Bacall are terribly glamorous and give the film an aura of elegance, but the movie belongs to Robert Stack and Dorothy Malone (she deservedly won the Best Supporting Actress Oscar), who manage to keep the film at a boiling point. Kudos to Frank Skinner's pulsating score, Russell Metty's brilliant camera work (every single shot is a masterpiece in itself), and the production design department. Also, the title tune is a beauty. It's an unforgettable movie.\",\n          \"I happened to catch this movie on cable one afternoon. I have to admit that I've never been a big baseball fan, but I can sometimes get into a good sports-related movie. What I found more interesting was the depiction of the foster family system. As a therapist who has seen both the good and the bad of the community mental health and foster system, I though it was rather refreshing to see a movie that showed both the ups and downs of this system: people jumping from family to family, biological parents not always taking an active involvement, and transitions that can be but heart-wrenching and heart-melting. Joseph Gordon-Levitt and Danny Glover are the anchor of this film, and both bring very believable performances. Maybe it was just my emotional state, but I did find myself shedding a tear at the end of the film.\",\n          \"Panned by critics at the time but loved by the fans, this film has now become a classic. Mixing supposedly 'surreal' footage shot at John Lennon's home among other places with live footage of Marc Bolan & T.Rex at their very best, this film is not just a must for everyone who's liked Marc Bolan but gives a fascinating insight into the era.<br /><br />These were the times when Marc was hobnobbing with the likes of Ringo Starr of the Beatles [who directed it] and you can even find a brief spot from one Reg Dwight [Elton John to you] bashing the ivories in an amazing [and never officially released] version of Tutti Frutti and rocking and ballad versions of Children Of The Revolution.<br /><br />There's also wonderful scenes featuring Chelita Secunda [said to have 'created glam rock' with her use of glitter etc], Mickey Finn and even the actor from Catweazle!!<br /><br />The best scene for me is in the garden when Marc leaves the dining table, sits down cross-legged in front of a string section and knocks out acoustic versions of classics such as Get It On and The Slider.<br /><br />Highly, highly recommended!! FIVE stars [out of five].<br /><br />Rory\"\n        ],\n        \"semantic_type\": \"\",\n        \"description\": \"\"\n      }\n    },\n    {\n      \"column\": \"sentiment\",\n      \"properties\": {\n        \"dtype\": \"number\",\n        \"std\": 0,\n        \"min\": 0,\n        \"max\": 1,\n        \"num_unique_values\": 2,\n        \"samples\": [\n          1,\n          0\n        ],\n        \"semantic_type\": \"\",\n        \"description\": \"\"\n      }\n    }\n  ]\n}"
            }
          },
          "metadata": {},
          "execution_count": 8
        }
      ],
      "source": [
        "df = df[['review_text', 'label']]\n",
        "df.rename(columns={\n",
        "    'review_text':'content',\n",
        "    'label':'sentiment'\n",
        "    },inplace=True)\n",
        "df.head()"
      ]
    },
    {
      "cell_type": "code",
      "execution_count": 9,
      "metadata": {
        "id": "-M_xNiA9X1sd",
        "colab": {
          "base_uri": "https://localhost:8080/",
          "height": 178
        },
        "outputId": "0b98ceb3-cb11-4db1-ec5d-3e01c400a000"
      },
      "outputs": [
        {
          "output_type": "execute_result",
          "data": {
            "text/plain": [
              "sentiment\n",
              "0    12500\n",
              "1    12500\n",
              "Name: count, dtype: int64"
            ],
            "text/html": [
              "<div>\n",
              "<style scoped>\n",
              "    .dataframe tbody tr th:only-of-type {\n",
              "        vertical-align: middle;\n",
              "    }\n",
              "\n",
              "    .dataframe tbody tr th {\n",
              "        vertical-align: top;\n",
              "    }\n",
              "\n",
              "    .dataframe thead th {\n",
              "        text-align: right;\n",
              "    }\n",
              "</style>\n",
              "<table border=\"1\" class=\"dataframe\">\n",
              "  <thead>\n",
              "    <tr style=\"text-align: right;\">\n",
              "      <th></th>\n",
              "      <th>count</th>\n",
              "    </tr>\n",
              "    <tr>\n",
              "      <th>sentiment</th>\n",
              "      <th></th>\n",
              "    </tr>\n",
              "  </thead>\n",
              "  <tbody>\n",
              "    <tr>\n",
              "      <th>0</th>\n",
              "      <td>12500</td>\n",
              "    </tr>\n",
              "    <tr>\n",
              "      <th>1</th>\n",
              "      <td>12500</td>\n",
              "    </tr>\n",
              "  </tbody>\n",
              "</table>\n",
              "</div><br><label><b>dtype:</b> int64</label>"
            ]
          },
          "metadata": {},
          "execution_count": 9
        }
      ],
      "source": [
        "df['sentiment'].value_counts()"
      ]
    },
    {
      "cell_type": "markdown",
      "metadata": {
        "id": "JcXCadUMksnC"
      },
      "source": [
        "# DATA CLEANING, EXPLORATORY DATA ANALYSIS"
      ]
    },
    {
      "cell_type": "code",
      "execution_count": 10,
      "metadata": {
        "id": "zdpvZxdjx0J6",
        "colab": {
          "base_uri": "https://localhost:8080/"
        },
        "outputId": "1a915ece-aa17-4071-bed3-20f36183a148"
      },
      "outputs": [
        {
          "output_type": "stream",
          "name": "stdout",
          "text": [
            "<class 'pandas.core.frame.DataFrame'>\n",
            "RangeIndex: 25000 entries, 0 to 24999\n",
            "Data columns (total 2 columns):\n",
            " #   Column     Non-Null Count  Dtype \n",
            "---  ------     --------------  ----- \n",
            " 0   content    25000 non-null  object\n",
            " 1   sentiment  25000 non-null  int64 \n",
            "dtypes: int64(1), object(1)\n",
            "memory usage: 390.8+ KB\n"
          ]
        }
      ],
      "source": [
        "df.info()"
      ]
    },
    {
      "cell_type": "code",
      "execution_count": 11,
      "metadata": {
        "id": "dXgkL5yDxcPC",
        "colab": {
          "base_uri": "https://localhost:8080/",
          "height": 147
        },
        "outputId": "b494f683-d467-4075-ccd7-798c074a4cdd"
      },
      "outputs": [
        {
          "output_type": "execute_result",
          "data": {
            "text/plain": [
              "content      0\n",
              "sentiment    0\n",
              "dtype: int64"
            ],
            "text/html": [
              "<div>\n",
              "<style scoped>\n",
              "    .dataframe tbody tr th:only-of-type {\n",
              "        vertical-align: middle;\n",
              "    }\n",
              "\n",
              "    .dataframe tbody tr th {\n",
              "        vertical-align: top;\n",
              "    }\n",
              "\n",
              "    .dataframe thead th {\n",
              "        text-align: right;\n",
              "    }\n",
              "</style>\n",
              "<table border=\"1\" class=\"dataframe\">\n",
              "  <thead>\n",
              "    <tr style=\"text-align: right;\">\n",
              "      <th></th>\n",
              "      <th>0</th>\n",
              "    </tr>\n",
              "  </thead>\n",
              "  <tbody>\n",
              "    <tr>\n",
              "      <th>content</th>\n",
              "      <td>0</td>\n",
              "    </tr>\n",
              "    <tr>\n",
              "      <th>sentiment</th>\n",
              "      <td>0</td>\n",
              "    </tr>\n",
              "  </tbody>\n",
              "</table>\n",
              "</div><br><label><b>dtype:</b> int64</label>"
            ]
          },
          "metadata": {},
          "execution_count": 11
        }
      ],
      "source": [
        "df.isna().sum()"
      ]
    },
    {
      "cell_type": "code",
      "execution_count": 12,
      "metadata": {
        "id": "TPfLAzI0xdiB"
      },
      "outputs": [],
      "source": [
        "df['content']=df['content'].astype(str)\n",
        "df = df.dropna()"
      ]
    },
    {
      "cell_type": "code",
      "source": [
        "df.duplicated().sum()"
      ],
      "metadata": {
        "colab": {
          "base_uri": "https://localhost:8080/"
        },
        "id": "DCwIK4o83BgZ",
        "outputId": "fa7e68cc-9804-465d-ee8c-76ba9b8913cf"
      },
      "execution_count": 13,
      "outputs": [
        {
          "output_type": "execute_result",
          "data": {
            "text/plain": [
              "96"
            ]
          },
          "metadata": {},
          "execution_count": 13
        }
      ]
    },
    {
      "cell_type": "code",
      "source": [
        "df.drop_duplicates(inplace=True)"
      ],
      "metadata": {
        "id": "ofGx_jNGV3rI"
      },
      "execution_count": 14,
      "outputs": []
    },
    {
      "cell_type": "code",
      "source": [
        "df['sentiment'].value_counts()"
      ],
      "metadata": {
        "colab": {
          "base_uri": "https://localhost:8080/",
          "height": 178
        },
        "id": "s4Kd4Ua8QFbf",
        "outputId": "867ffdd9-1387-4b5f-fcc3-8369b2aa3ad3"
      },
      "execution_count": 15,
      "outputs": [
        {
          "output_type": "execute_result",
          "data": {
            "text/plain": [
              "sentiment\n",
              "1    12472\n",
              "0    12432\n",
              "Name: count, dtype: int64"
            ],
            "text/html": [
              "<div>\n",
              "<style scoped>\n",
              "    .dataframe tbody tr th:only-of-type {\n",
              "        vertical-align: middle;\n",
              "    }\n",
              "\n",
              "    .dataframe tbody tr th {\n",
              "        vertical-align: top;\n",
              "    }\n",
              "\n",
              "    .dataframe thead th {\n",
              "        text-align: right;\n",
              "    }\n",
              "</style>\n",
              "<table border=\"1\" class=\"dataframe\">\n",
              "  <thead>\n",
              "    <tr style=\"text-align: right;\">\n",
              "      <th></th>\n",
              "      <th>count</th>\n",
              "    </tr>\n",
              "    <tr>\n",
              "      <th>sentiment</th>\n",
              "      <th></th>\n",
              "    </tr>\n",
              "  </thead>\n",
              "  <tbody>\n",
              "    <tr>\n",
              "      <th>1</th>\n",
              "      <td>12472</td>\n",
              "    </tr>\n",
              "    <tr>\n",
              "      <th>0</th>\n",
              "      <td>12432</td>\n",
              "    </tr>\n",
              "  </tbody>\n",
              "</table>\n",
              "</div><br><label><b>dtype:</b> int64</label>"
            ]
          },
          "metadata": {},
          "execution_count": 15
        }
      ]
    },
    {
      "cell_type": "code",
      "execution_count": 16,
      "metadata": {
        "id": "rlnZasNWknp6"
      },
      "outputs": [],
      "source": [
        "def detect_issues(text):\n",
        "    issues = {\n",
        "        \"url\": bool(re.search(r'http\\S+|www\\S+', text)),\n",
        "        \"html_tags\": bool(re.search(r'<.*?>', text)),\n",
        "        \"mention\": bool(re.search(r'@[A-Za-z0-9_]+', text)),\n",
        "        \"hashtag\": bool(re.search(r'#[A-Za-z0-9_]+', text)),\n",
        "        \"emojis\": bool(re.search(r'[^\\w\\s,]', text)),  # Deteksi emoji dan simbol\n",
        "        \"non_ascii\": bool(re.search(r'[^\\x00-\\x7F]', text)),\n",
        "        \"repeated_chars\": bool(re.search(r'(.)\\1{2,}', text)), #termasuk tanda baca berulang\n",
        "        \"numbers\": bool(re.search(r'\\d+', text)),\n",
        "        # \"RT\": bool(re.search(r\"\\bRT\\b\", text, flags=re.IGNORECASE))  #Menghilangkan RT\n",
        "    }\n",
        "    return issues"
      ]
    },
    {
      "cell_type": "code",
      "execution_count": 17,
      "metadata": {
        "id": "wU6IXxBJkrcX"
      },
      "outputs": [],
      "source": [
        "df[\"issues\"] = df[\"content\"].apply(detect_issues)"
      ]
    },
    {
      "cell_type": "code",
      "execution_count": 18,
      "metadata": {
        "id": "uxhxQ0IKk9Gr"
      },
      "outputs": [],
      "source": [
        "# Hitung jumlah baris yang mengandung setiap jenis masalah\n",
        "summary = {\n",
        "    issue: df[\"issues\"].apply(lambda x: x[issue]).sum()\n",
        "    for issue in [\"url\", \"html_tags\", \"mention\", \"hashtag\", \"emojis\", \"non_ascii\", \"repeated_chars\", \"numbers\"]\n",
        "}"
      ]
    },
    {
      "cell_type": "code",
      "execution_count": 19,
      "metadata": {
        "id": "nEjYV4LhlCnT",
        "colab": {
          "base_uri": "https://localhost:8080/"
        },
        "outputId": "4f338148-779c-4f29-9ea9-3d55122f0ace"
      },
      "outputs": [
        {
          "output_type": "stream",
          "name": "stdout",
          "text": [
            "Summary of issues:\n",
            "            Issue  Count\n",
            "0             url    110\n",
            "1       html_tags  14617\n",
            "2         mention     43\n",
            "3         hashtag    130\n",
            "4          emojis  24901\n",
            "5       non_ascii   2336\n",
            "6  repeated_chars   7622\n",
            "7         numbers  14107\n"
          ]
        }
      ],
      "source": [
        "# Tampilkan hasil\n",
        "# df_with_issues = df[df[\"issues\"].apply(lambda x: any(x.values()))]\n",
        "\n",
        "df_summary = pd.DataFrame(summary.items(), columns=[\"Issue\", \"Count\"])\n",
        "print(\"Summary of issues:\")\n",
        "print(pd.DataFrame(summary.items(), columns=[\"Issue\", \"Count\"]))\n",
        "\n",
        "# print(\"\\nRows with issues:\")\n",
        "# print(df_with_issues)"
      ]
    },
    {
      "cell_type": "code",
      "execution_count": 20,
      "metadata": {
        "id": "_cpfAfENp1T0",
        "colab": {
          "base_uri": "https://localhost:8080/",
          "height": 607
        },
        "outputId": "eba08993-652e-42c1-88b4-1d03c707ed42"
      },
      "outputs": [
        {
          "output_type": "display_data",
          "data": {
            "text/plain": [
              "<Figure size 1000x600 with 1 Axes>"
            ],
            "image/png": "[encoded data removed]"
          },
          "metadata": {}
        }
      ],
      "source": [
        "# Membuat histogram\n",
        "plt.figure(figsize=(10, 6))\n",
        "plt.bar(df_summary[\"Issue\"], df_summary[\"Count\"], color='skyblue')\n",
        "plt.title(\"Histogram of Issues\")\n",
        "plt.xlabel(\"Issue\")\n",
        "plt.ylabel(\"Count\")\n",
        "plt.xticks(rotation=45)\n",
        "plt.tight_layout()  # Agar label tidak terpotong\n",
        "plt.show()"
      ]
    },
    {
      "cell_type": "code",
      "execution_count": 21,
      "metadata": {
        "id": "Tee_gqQj1KEi"
      },
      "outputs": [],
      "source": [
        "df.drop(columns=[\"issues\"], inplace=True)"
      ]
    },
    {
      "cell_type": "code",
      "execution_count": 73,
      "metadata": {
        "id": "nz59SJokXmC9",
        "colab": {
          "base_uri": "https://localhost:8080/",
          "height": 1000
        },
        "outputId": "573ca937-5700-499c-ba23-d7bf74d8cb92"
      },
      "outputs": [
        {
          "output_type": "execute_result",
          "data": {
            "text/plain": [
              "                                                                                                                                                                                                                                                                                                                                                                                                                                                                                                                                                                                                                                                                                                                                                                                                                                                                                                                                                                                                                                                                                                                                                                                                                                                                                                                                                                                                                                                                                                                                                                                                                                                                                                                                                                                                                                                                                                                                                                                                                                                                                                                                                                                                                                                                                                                                                                                                                                                                                                                                                                                                                                                                                                                                                                                                                                                                                                                                                                                                                                                                                                                                                                                                                                                                                                                                                                                                          content  \\\n",
              "0                                                                                                                                                                                                                                                                                                                                                                                                                                                                                                                                                                                                                                                                                                                                                                                                                                                                                                                                                                                                                                                                                                                                                                                                                                                                                                                                                                                                                                                                                                                                                                                                                                                                                                                                                                                                                                                                                                                                                                                                                                                                                                                                                                                                                                                                                                                                                                                                                                                                                                                                                                                                                                                                           This was an absolutely terrible movie. Don't be lured in by Christopher Walken or Michael Ironside. Both are great actors, but this must simply be their worst role in history. Even their great acting could not redeem this movie's ridiculous storyline. This movie is an early nineties US propaganda piece. The most pathetic scenes were those when the Columbian rebels were making their cases for revolutions. Maria Conchita Alonso appeared phony, and her pseudo-love affair with Walken was nothing but a pathetic emotional plug in a movie that was devoid of any real meaning. I am disappointed that there are movies like this, ruining actor's like Christopher Walken's good name. I could barely sit through it.   \n",
              "1                                                                                                                                                                                                                                                                                                                                                                                                                                                                                                                                                                                                                                                                                                                                                                                                                                                                                                                                                                                                                                                                                                                                                                                                                                                                                                                                                                                                                                                                                                                                                                                                                                                                                                                                                                                                                                                                                                                                                                                                                                                                                                                                                                                                                                                                                                                                                                                                                                                                                                                                                                                                                                                                                                                                                                       I have been known to fall asleep during films, but this is usually due to a combination of things including, really tired, being warm and comfortable on the sette and having just eaten a lot. However on this occasion I fell asleep because the film was rubbish. The plot development was constant. Constantly slow and boring. Things seemed to happen, but with no explanation of what was causing them or why. I admit, I may have missed part of the film, but i watched the majority of it and everything just seemed to happen of its own accord without any real concern for anything else. I cant recommend this film at all.   \n",
              "2                                                                                                                                                                                                                                                                                                                                                                                                                                                                                                                                                                                                                                                                                                                                                                                                                                                                                                                                                                                                                                                                                                                                                                                                                                                                                                                                                                                                                                                                                                                                                                                                                                                                                                                                                                                                                                                                                                                                                                                                                                                                                                                                                                                                                                                                                                                                                                                                                                                                                                                                                                                             Mann photographs the Alberta Rocky Mountains in a superb fashion, and Jimmy Stewart and Walter Brennan give enjoyable performances as they always seem to do. <br /><br />But come on Hollywood - a Mountie telling the people of Dawson City, Yukon to elect themselves a marshal (yes a marshal!) and to enforce the law themselves, then gunfighters battling it out on the streets for control of the town? <br /><br />Nothing even remotely resembling that happened on the Canadian side of the border during the Klondike gold rush. Mr. Mann and company appear to have mistaken Dawson City for Deadwood, the Canadian North for the American Wild West.<br /><br />Canadian viewers be prepared for a Reefer Madness type of enjoyable howl with this ludicrous plot, or, to shake your head in disgust.   \n",
              "3                                                                                                                                                                                                                                                                                                                                                                                                                                                                                                                                                                                                                                                                                                                                                                                                                                                                                                                                                                                                                                                                                                                                                                                                                                                                                                                                                                                                                                                                                                                                                                                                                                                                                                                                                                                                                                                                                                                                                                                                                                                                                                                                                                                                                                                                                                                                                                                                                                                                                                                                                                                                                                                                                                                                                                                                                                                                                                                                This is the kind of film for a snowy Sunday afternoon when the rest of the world can go ahead with its own business as you descend into a big arm-chair and mellow for a couple of hours. Wonderful performances from Cher and Nicolas Cage (as always) gently row the plot along. There are no rapids to cross, no dangerous waters, just a warm and witty paddle through New York life at its best. A family film in every sense and one that deserves the praise it received.   \n",
              "4                                                                                                                                                                                                                                                                                                                                                                                                                                                                                                                                                                                                                                                                                                                                                                                                                                                                                                                                                                                                                                                                                                                                                                                                                                                                                                                                                                                                                                                                                                                                                                                                                                                                                                                                                                                                                                                                                                                                                                                                                                                                                                                                                                                                                                                                                                                                                                                                                                                                                                                                                                                                                                                                                                                                                                                                                                                                                                                                                                                   As others have mentioned, all the women that go nude in this film are mostly absolutely gorgeous. The plot very ably shows the hypocrisy of the female libido. When men are around they want to be pursued, but when no \"men\" are around, they become the pursuers of a 14 year old boy. And the boy becomes a man really fast (we should all be so lucky at this age!). He then gets up the courage to pursue his true love.   \n",
              "5                                                                                                                                                                                                                                                                                                                                                                                                                                                                                                                                                                                                                                                                                                                                                                                                                                                                                                                                                                                                                                                                                                                                                                                                                                                                                                                                                                                                                                                                                                                                                                                                                                                                              This is a film which should be seen by anybody interested in, effected by, or suffering from an eating disorder. It is an amazingly accurate and sensitive portrayal of bulimia in a teenage girl, its causes and its symptoms. The girl is played by one of the most brilliant young actresses working in cinema today, Alison Lohman, who was later so spectacular in 'Where the Truth Lies'. I would recommend that this film be shown in all schools, as you will never see a better on this subject. Alison Lohman is absolutely outstanding, and one marvels at her ability to convey the anguish of a girl suffering from this compulsive disorder. If barometers tell us the air pressure, Alison Lohman tells us the emotional pressure with the same degree of accuracy. Her emotional range is so precise, each scene could be measured microscopically for its gradations of trauma, on a scale of rising hysteria and desperation which reaches unbearable intensity. Mare Winningham is the perfect choice to play her mother, and does so with immense sympathy and a range of emotions just as finely tuned as Lohman's. Together, they make a pair of sensitive emotional oscillators vibrating in resonance with one another. This film is really an astonishing achievement, and director Katt Shea should be proud of it. The only reason for not seeing it is if you are not interested in people. But even if you like nature films best, this is after all animal behaviour at the sharp edge. Bulimia is an extreme version of how a tormented soul can destroy her own body in a frenzy of despair. And if we don't sympathise with people suffering from the depths of despair, then we are dead inside.   \n",
              "6   Okay, you have:<br /><br />Penelope Keith as Miss Herringbone-Tweed, B.B.E. (Backbone of England.) She's killed off in the first scene - that's right, folks; this show has no backbone!<br /><br />Peter O'Toole as Ol' Colonel Cricket from The First War and now the emblazered Lord of the Manor.<br /><br />Joanna Lumley as the ensweatered Lady of the Manor, 20 years younger than the colonel and 20 years past her own prime but still glamourous (Brit spelling, not mine) enough to have a toy-boy on the side. It's alright, they have Col. Cricket's full knowledge and consent (they guy even comes 'round for Christmas!) Still, she's considerate of the colonel enough to have said toy-boy her own age (what a gal!)<br /><br />David McCallum as said toy-boy, equally as pointlessly glamourous as his squeeze. Pilcher couldn't come up with any cover for him within the story, so she gave him a hush-hush job at the Circus.<br /><br />and finally:<br /><br />Susan Hampshire as Miss Polonia Teacups, Venerable Headmistress of the Venerable Girls' Boarding-School, serving tea in her office with a dash of deep, poignant advice for life in the outside world just before graduation. Her best bit of advice: \"I've only been to Nancherrow (the local Stately Home of England) once. I thought it was very beautiful but, somehow, not part of the real world.\" Well, we can't say they didn't warn us.<br /><br />Ah, Susan - time was, your character would have been running the whole show. They don't write 'em like that any more. Our loss, not yours.<br /><br />So - with a cast and setting like this, you have the re-makings of \"Brideshead Revisited,\" right?<br /><br />Wrong! They took these 1-dimensional supporting roles because they paid so well. After all, acting is one of the oldest temp-jobs there is (YOU name another!)<br /><br />First warning sign: lots and lots of backlighting. They get around it by shooting outdoors - \"hey, it's just the sunlight!\"<br /><br />Second warning sign: Leading Lady cries a lot. When not crying, her eyes are moist. That's the law of romance novels: Leading Lady is \"dewy-eyed.\"<br /><br />Henceforth, Leading Lady shall be known as L.L.<br /><br />Third warning sign: L.L. actually has stars in her eyes when she's in love. Still, I'll give Emily Mortimer an award just for having to act with that spotlight in her eyes (I wonder . did they use contacts?)<br /><br />And lastly, fourth warning sign: no on-screen female character is \"Mrs.\" She's either \"Miss\" or \"Lady.\"<br /><br />When all was said and done, I still couldn't tell you who was pursuing whom and why. I couldn't even tell you what was said and done.<br /><br />To sum up: they all live through World War II without anything happening to them at all.<br /><br />OK, at the end, L.L. finds she's lost her parents to the Japanese prison camps and baby sis comes home catatonic. Meanwhile (there's always a \"meanwhile,\") some young guy L.L. had a crush on (when, I don't know) comes home from some wartime tough spot and is found living on the street by Lady of the Manor (must be some street if SHE's going to find him there.) Both war casualties are whisked away to recover at Nancherrow (SOMEBODY has to be \"whisked away\" SOMEWHERE in these romance stories!)<br /><br />Great drama.   \n",
              "7                                                                                                                                                                                                                                                                                                                                                                                                                                                                                                                                                                                                                                                                                                                                                                                                                                                                                                                                                                                                                                                                                                                                                                                                                                                                                                                                                                                                                                                                                                                                                                                                                                                                                                                                                                                                                                                                                                                                                                                                                                                                                                                                                                                                                                                                                                                                                                                                                                                                                                                                                                                                                                                                                                                         The film is based on a genuine 1950s novel.<br /><br />Journalist Colin McInnes wrote a set of three \"London novels\": \"Absolute Beginners\", \"City of Spades\" and \"Mr Love and Justice\". I have read all three. The first two are excellent. The last, perhaps an experiment that did not come off. But McInnes's work is highly acclaimed; and rightly so. This musical is the novelist's ultimate nightmare - to see the fruits of one's mind being turned into a glitzy, badly-acted, soporific one-dimensional apology of a film that says it captures the spirit of 1950s London, and does nothing of the sort.<br /><br />Thank goodness Colin McInnes wasn't alive to witness it.   \n",
              "8                                                                                                                                                                                                                                                                                                                                                                                                                                                                                                                                                                                                                                                                                                                                                                                                                                                                                                                                                                                                                                                                                                                                                                                                                                                                                                                                                                                                                                                                                                                                                                                                                                                                                                                                                                                                                                                                                                                                                                                                                                                                                                                                            I really love the sexy action and sci-fi films of the sixties and its because of the actress's that appeared in them. They found the sexiest women to be in these films and it didn't matter if they could act (Remember \"Candy\"?). The reason I was disappointed by this film was because it wasn't nostalgic enough. The story here has a European sci-fi film called \"Dragonfly\" being made and the director is fired. So the producers decide to let a young aspiring filmmaker (Jeremy Davies) to complete the picture. They're is one real beautiful woman in the film who plays Dragonfly but she's barely in it. Film is written and directed by Roman Coppola who uses some of his fathers exploits from his early days and puts it into the script. I wish the film could have been an homage to those early films. They could have lots of cameos by actors who appeared in them. There is one actor in this film who was popular from the sixties and its John Phillip Law (Barbarella). Gerard Depardieu, Giancarlo Giannini and Dean Stockwell appear as well. I guess I'm going to have to continue waiting for a director to make a good homage to the films of the sixties. If any are reading this, \"Make it as sexy as you can\"! I'll be waiting!   \n",
              "9                                                                                                                                                                                                                                                                                                                                                                                                                                                                                                                                                                                                                                                                                                                                                                                                                                                                                                                                                                                                                                                                                                                                                                                                                                                                                                                                                                                                                                                                                                                                                                                                                                                                                                                                                                                                                                                                                                                                                                                                                                                                                                                                                                                                                                                                                                                                                                                                                                                                                                                                                                                                                                                                                        Sure, this one isn't really a blockbuster, nor does it target such a position. \"Dieter\" is the first name of a quite popular German musician, who is either loved or hated for his kind of acting and thats exactly what this movie is about. It is based on the autobiography \"Dieter Bohlen\" wrote a few years ago but isn't meant to be accurate on that. The movie is filled with some sexual offensive content (at least for American standard) which is either amusing (not for the other \"actors\" of course) or dumb - it depends on your individual kind of humor or on you being a \"Bohlen\"-Fan or not. Technically speaking there isn't much to criticize. Speaking of me I find this movie to be an OK-movie.   \n",
              "10                                                                                                                                                                                                                                                                                                                                                                                                                                                                                                                                                                                                                                                                                                                                                                                                                                                                                                                                                                                                                                                                                                                                                                                                                                                                                                                                                                                                                                                                                                                                                                                                                                                                                                                                                                                                                                                                                                                                                                                                                                                                                                                                                                                                                                                                                                                                                                                                                             During a sleepless night, I was switching through the channels & found this embarrassment of a movie. What were they thinking?<br /><br />If this is life after \"Remote Control\" for Kari (Wuhrer) Salin, no wonder she's gone nowhere.<br /><br />And why did David Keith take this role? It's pathetic!<br /><br />Anyway, I turned on the movie near the end, so I didn't get much of the plot. But this must've been the best part. This nerdy college kid brings home this dominatrix-ish girl...this scene is straight out of the comic books -- or the cheap porn movies. She calls the mother anal retentive and kisses the father \"Oh, I didn't expect tongue!\" Great lines!<br /><br />After this, I had to see how it ended..<br /><br />Well, of course, this bitch from hell has a helluva past, so the SWAT team is upstairs. And yes...they surround her! And YES YES! The kid blows her brains out!!!! AHAHHAHAHAHA!!<br /><br />This is must-see TV. <br /><br />   \n",
              "11                                                                                                                                                                                                                                                                                                                                                                                                                                                                                                                                                                                                                                                                                                                                                                                                                                                                                                                                                                                                                                                                                                                                                                                                                                                                                                                                                                                                                                                                                                                                                                                                                                                                                                                                                                                                     Cute film about three lively sisters from Switzerland (often seen running about in matching outfits) who want to get their parents back together (seems mom is still carrying the torch for dad) - so they sail off to New York to stop the dad from marrying a blonde gold-digger he calls \"Precious\". Dad hasn't seen his daughters in ten years, they (oddly enough) don't seem to mind and think he's wonderful, and meanwhile Precious seems to lead a life mainly run by her overbearing mother (Alice Brady), a woman who just wants to see to it her daughter marries a rich man. The sisters get the idea of pushing Precious into the path of a drunken Hungarian count, tricking the two gold-digging women into thinking he is one of the richest men in Europe. But a case of mistaken identity makes the girls think the count is good-looking Ray Milland, who goes along with the scheme 'cause he has a crush on sister Kay.<br /><br />This film is enjoyable, light fare. Barbara Read as Kay comes across as sweet and pretty, Ray Milland looks oh so young and handsome here (though, unfortunately, is given little to do), Alice Brady is quite good as the scheming mother - but it is Deanna Durbin, a real charmer and cute as a button playing youngest sister Penny, who pretty much steals the show. With absolutely beautiful vocals, she sings several songs throughout the film, though I actually would have liked to have seen them feature her even more in this. The plot in this film is a bit silly, but nevertheless, I found the film to be entertaining and fun.   \n",
              "12                                                                                                                                                                     This 1984 version of the Dickens' classic `A Christmas Carol,' directed by Clive Donner, stars George C. Scott as Ebenezer Scrooge. By this time around, the challenge for the filmmaker was to take such familiar material and make it seem fresh and new again; and, happily to say, with this film Donner not only met the challenge but surpassed any expectations anyone might have had for it. He tells the story with precision and an eye to detail, and extracts performances from his actors that are nothing less than superlative, especially Scott. One could argue that the definitive portrayal of Scrooge-- one of the best known characters in literary fiction, ever-- was created by Alastair Sim in the 1951 film; but I think with his performance here, Scott has now achieved that distinction. There is such a purity and honesty in his Scrooge that it becomes difficult to even consider anyone else in the role once you've seen Scott do it; simply put, he IS Scrooge. And what a tribute it is to such a gifted actor; to be able to take such a well known figure and make it so uniquely his own is quite miraculous. It is truly a joy to see an actor ply his trade so well, to be able to make a character so real, from every word he utters down to the finest expression of his face, and to make it all ring so true. It's a study in perfection.<br /><br />The other members of the cast are splendid as well, but then again they have to be in order to maintain the integrity of Scott's performance; and they do. Frank Finlay is the Ghost of Jacob Marley; a notable turn, though not as memorable, perhaps, as the one by Alec Guinness (as Marley) in the film, `Scrooge.' Angela Pleasence is a welcome visage as the Spirit of Christmas Past; Edward Woodward, grand and boisterous, and altogether convincing as the Spirit of Christmas Present; and Michael Carter, grim and menacing as the Spirit of Christmas Yet To Come.<br /><br />David Warner hits just the right mark with his Bob Cratchit, bringing a sincerity to the role that measures up well to the standard of quality set by Scott's Scrooge, and Susannah York fares just as well as Mrs. Cratchit. The real gem to be found here, though, is the performance of young Anthony Walters as Tiny Tim; it's heartfelt without ever becoming maudlin, and simply one of the best interpretations-- and the most real-- ever presented on film.<br /><br />The excellent supporting cast includes Roger Rees (Fred Holywell, and also the narrator of the film), Caroline Langrishe (Janet Holywell), Lucy Gutteridge (Belle), Michael Gough (Mr. Poole) and Joanne Whalley (Fan). A flawless presentation, this version of `A Christmas Carol' sets the standard against which all others must be gauged; no matter how many versions you may have seen, watching this one is like seeing it for the first time ever. And forever after, whenever you think of Scrooge, the image your mind will conjure up will be that of George C. Scott. A thoroughly entertaining and satisfying experience, this film demands a place in the annual schedule of the holiday festivities of every home. I rate this one 10/10.   \n",
              "13                                                                                                                                                                                                                                                                                                                                                                                                                                                                                                                                                                                                                                                                                                                                                                                                                                                                                                                                                                                                                                                                                                                                                                                                                                                                                                                                                                                                                                                                                                                                                                                                                                                                                                                                                                                                                                                                                                                                                                                                                                                                                                                                                                                                                                                                                                                                                                                                                                                                                                               Put the blame on executive producer Wes Craven and financiers the Weinsteins for this big-budget debacle: a thrash-metal updating of \"Dracula\", with a condescending verbal jab at Bram Stoker (who probably wouldn't want his name on this thing anyway) and nothing much for the rest of us except slasher-styled jolts and gore. Christopher Plummer looks winded as Van Helsing in the modern-day--not just a descendant of Van Helsing but the real thing; he keeps himself going with leeches obtained from Count Dracula's corpse, which is exhumed from its coffin after being stolen from Van Helsing's vault and flown to New Orleans. This is just what New Orleans needs in the 21st Century! The film, well-produced but without a single original idea (except for multi-racial victims), is both repulsive and lazy, and after about an hour starts repeating itself. * from ****   \n",
              "14                                                                                                                                                                                                                                                                                                                                                                                                                                                                                                                                                                                                                                                                                                                                                                                                                                                                                                                                                                                                                                                                                                                                                                                                                                                                                                                                                                                                                               Hilarious, evocative, confusing, brilliant film. Reminds me of Bunuel's L'Age D'Or or Jodorowsky's Holy Mountain-- lots of strange characters mucking about and looking for..... what is it? I laughed almost the whole way through, all the while keeping a peripheral eye on the bewildered and occasionally horrified reactions of the audience that surrounded me in the theatre. Entertaining through and through, from the beginning to the guts and poisoned entrails all the way to the end, if it was an end. I only wish i could remember every detail. It haunts me sometimes.<br /><br />Honestly, though, i have only the most positive recollections of this film. As it doesn't seem to be available to take home and watch, i suppose i'll have to wait a few more years until Crispin Glover comes my way again with his Big Slide Show (and subsequent \"What is it?\" screening)... I saw this film in Atlanta almost directly after being involved in a rather devastating car crash, so i was slightly dazed at the time, which was perhaps a very good state of mind to watch the prophetic talking arthropods and the retards in the superhero costumes and godlike Glover in his appropriate burly-Q setting, scantily clad girlies rising out of the floor like a magnificent DADAist wet dream.<br /><br />Is it a statement on Life As We Know It? Of course everyone EXPECTS art to be just that. I rather think that the truth is more evident in the absences and in the negative space. What you don't tell us is what we must deduce, but is far more valid than the lies that other people feed us day in and day out. Rather one \"WHAT IS IT?\" than 5000 movies like \"Titanic\" or \"Sleepless in Seattle\" (shudder, gag, groan).<br /><br />Thank you, Mr. Glover (additionally a fun man to watch on screen or at his Big Slide Show-- smart, funny, quirky, and outrageously hot). Make more films, write more books, keep the nightmare alive.   \n",
              "\n",
              "    sentiment  \\\n",
              "0           0   \n",
              "1           0   \n",
              "2           0   \n",
              "3           1   \n",
              "4           1   \n",
              "5           1   \n",
              "6           0   \n",
              "7           0   \n",
              "8           0   \n",
              "9           0   \n",
              "10          0   \n",
              "11          1   \n",
              "12          1   \n",
              "13          0   \n",
              "14          1   \n",
              "\n",
              "                                                                                                                                                                                                                                                                                                                                                                                                                                                                                                                                                                                                                                                                                                                                                                                                                                                                                                                                                                                                                                                                                                                                                                                                                                                                                                                                                                                                                                                                                                                                                                                                                                                                                                                                                                                                                                                                                                                                                                                                                                                                                                                                                                                                                                                                                                                                                                                                                                                                                                                                                                                                                                                                                                                                                                                                                                                                                                                                                                                                                                                                          clean_content  \\\n",
              "0                                                                                                                                                                                                                                                                                                                                                                                                                                                                                                                                                                                                                                                                                                                                                                                                                                                                                                                                                                                                                                                                                                                                                                                                                                                                                                                                                                                                                                                                                                                                                                                                                                                                                                                                                                                                                                                                                                                                                                                                                                                                                                                                                                                                                                                                                                                                                                  this was an absolutely terrible movie dont be lured in by christopher walken or michael ironside both are great actors but this must simply be their worst role in history even their great acting could not redeem this movies ridiculous storyline this movie is an early nineties us propaganda piece the most pathetic scenes were those when the columbian rebels were making their cases for revolutions maria conchita alonso appeared phony and her pseudolove affair with walken was nothing but a pathetic emotional plug in a movie that was devoid of any real meaning i am disappointed that there are movies like this ruining actors like christopher walkens good name i could barely sit through it   \n",
              "1                                                                                                                                                                                                                                                                                                                                                                                                                                                                                                                                                                                                                                                                                                                                                                                                                                                                                                                                                                                                                                                                                                                                                                                                                                                                                                                                                                                                                                                                                                                                                                                                                                                                                                                                                                                                                                                                                                                                                                                                                                                                                                                                                                                                                                                                                                                                                                                                                                                          i have been known to fall asleep during films but this is usually due to a combination of things including really tired being warm and comfortable on the sette and having just eaten a lot however on this occasion i fell asleep because the film was rubbish the plot development was constant constantly slow and boring things seemed to happen but with no explanation of what was causing them or why i admit i may have missed part of the film but i watched the majority of it and everything just seemed to happen of its own accord without any real concern for anything else i cant recommend this film at all   \n",
              "2                                                                                                                                                                                                                                                                                                                                                                                                                                                                                                                                                                                                                                                                                                                                                                                                                                                                                                                                                                                                                                                                                                                                                                                                                                                                                                                                                                                                                                                                                                                                                                                                                                                                                                                                                                                                                                                                                                                                                                                                                                                                                                                                                                                                                                                                                                                        mann photographs the alberta rocky mountains in a superb fashion and jimmy stewart and walter brennan give enjoyable performances as they always seem to do but come on hollywood a mountie telling the people of dawson city yukon to elect themselves a marshal yes a marshal and to enforce the law themselves then gunfighters battling it out on the streets for control of the town nothing even remotely resembling that happened on the canadian side of the border during the klondike gold rush mr mann and company appear to have mistaken dawson city for deadwood the canadian north for the american wild westcanadian viewers be prepared for a reefer madness type of enjoyable howl with this ludicrous plot or to shake your head in disgust   \n",
              "3                                                                                                                                                                                                                                                                                                                                                                                                                                                                                                                                                                                                                                                                                                                                                                                                                                                                                                                                                                                                                                                                                                                                                                                                                                                                                                                                                                                                                                                                                                                                                                                                                                                                                                                                                                                                                                                                                                                                                                                                                                                                                                                                                                                                                                                                                                                                                                                                                                                                                                                                                                                                               this is the kind of film for a snowy sunday afternoon when the rest of the world can go ahead with its own business as you descend into a big armchair and mellow for a couple of hours wonderful performances from cher and nicolas cage as always gently row the plot along there are no rapids to cross no dangerous waters just a warm and witty paddle through new york life at its best a family film in every sense and one that deserves the praise it received   \n",
              "4                                                                                                                                                                                                                                                                                                                                                                                                                                                                                                                                                                                                                                                                                                                                                                                                                                                                                                                                                                                                                                                                                                                                                                                                                                                                                                                                                                                                                                                                                                                                                                                                                                                                                                                                                                                                                                                                                                                                                                                                                                                                                                                                                                                                                                                                                                                                                                                                                                                                                                                                                                                                                                                                         as others have mentioned all the women that go nude in this film are mostly absolutely gorgeous the plot very ably shows the hypocrisy of the female libido when men are around they want to be pursued but when no men are around they become the pursuers of a year old boy and the boy becomes a man really fast we should all be so lucky at this age he then gets up the courage to pursue his true love   \n",
              "5                                                                                                                                                                                                                                                                                                                                                                                                                                                                                                                                                                                                                                                                                                                                                                                                                                                                                                                                                                                                                                                                                                                                                                                                                                                                                                                                                                                     this is a film which should be seen by anybody interested in effected by or suffering from an eating disorder it is an amazingly accurate and sensitive portrayal of bulimia in a teenage girl its causes and its symptoms the girl is played by one of the most brilliant young actresses working in cinema today alison lohman who was later so spectacular in where the truth lies i would recommend that this film be shown in all schools as you will never see a better on this subject alison lohman is absolutely outstanding and one marvels at her ability to convey the anguish of a girl suffering from this compulsive disorder if barometers tell us the air pressure alison lohman tells us the emotional pressure with the same degree of accuracy her emotional range is so precise each scene could be measured microscopically for its gradations of trauma on a scale of rising hysteria and desperation which reaches unbearable intensity mare winningham is the perfect choice to play her mother and does so with immense sympathy and a range of emotions just as finely tuned as lohmans together they make a pair of sensitive emotional oscillators vibrating in resonance with one another this film is really an astonishing achievement and director katt shea should be proud of it the only reason for not seeing it is if you are not interested in people but even if you like nature films best this is after all animal behaviour at the sharp edge bulimia is an extreme version of how a tormented soul can destroy her own body in a frenzy of despair and if we dont sympathise with people suffering from the depths of despair then we are dead inside   \n",
              "6                                                                                       okay you havepenelope keith as miss herringbonetweed bbe backbone of england shes killed off in the first scene thats right folks this show has no backbonepeter otoole as ol colonel cricket from the first war and now the emblazered lord of the manorjoanna lumley as the ensweatered lady of the manor years younger than the colonel and years past her own prime but still glamourous brit spelling not mine enough to have a toyboy on the side its alright they have col crickets full knowledge and consent they guy even comes round for christmas still shes considerate of the colonel enough to have said toyboy her own age what a galdavid mccallum as said toyboy equally as pointlessly glamourous as his squeeze pilcher couldnt come up with any cover for him within the story so she gave him a hushhush job at the circusand finallysusan hampshire as miss polonia teacups venerable headmistress of the venerable girls boardingschool serving tea in her office with a dash of deep poignant advice for life in the outside world just before graduation her best bit of advice ive only been to nancherrow the local stately home of england once i thought it was very beautiful but somehow not part of the real world well we cant say they didnt warn usah susan time was your character would have been running the whole show they dont write em like that any more our loss not yoursso with a cast and setting like this you have the remakings of brideshead revisited rightwrong they took these dimensional supporting roles because they paid so well after all acting is one of the oldest tempjobs there is you name anotherfirst warning sign lots and lots of backlighting they get around it by shooting outdoors hey its just the sunlightsecond warning sign leading lady cries a lot when not crying her eyes are moist thats the law of romance novels leading lady is dewyeyedhenceforth leading lady shall be known as llthird warning sign ll actually has stars in her eyes when shes in love still ill give emily mortimer an award just for having to act with that spotlight in her eyes i wonder did they use contactsand lastly fourth warning sign no onscreen female character is mrs shes either miss or ladywhen all was said and done i still couldnt tell you who was pursuing whom and why i couldnt even tell you what was said and doneto sum up they all live through world war ii without anything happening to them at allok at the end ll finds shes lost her parents to the japanese prison camps and baby sis comes home catatonic meanwhile theres always a meanwhile some young guy ll had a crush on when i dont know comes home from some wartime tough spot and is found living on the street by lady of the manor must be some street if shes going to find him there both war casualties are whisked away to recover at nancherrow somebody has to be whisked away somewhere in these romance storiesgreat drama   \n",
              "7                                                                                                                                                                                                                                                                                                                                                                                                                                                                                                                                                                                                                                                                                                                                                                                                                                                                                                                                                                                                                                                                                                                                                                                                                                                                                                                                                                                                                                                                                                                                                                                                                                                                                                                                                                                                                                                                                                                                                                                                                                                                                                                                                                                                                                                                                                                                                                                                                                                              the film is based on a genuine s noveljournalist colin mcinnes wrote a set of three london novels absolute beginners city of spades and mr love and justice i have read all three the first two are excellent the last perhaps an experiment that did not come off but mcinness work is highly acclaimed and rightly so this musical is the novelists ultimate nightmare to see the fruits of ones mind being turned into a glitzy badlyacted soporific onedimensional apology of a film that says it captures the spirit of s london and does nothing of the sortthank goodness colin mcinnes wasnt alive to witness it   \n",
              "8                                                                                                                                                                                                                                                                                                                                                                                                                                                                                                                                                                                                                                                                                                                                                                                                                                                                                                                                                                                                                                                                                                                                                                                                                                                                                                                                                                                                                                                                                                                                                                                                                                                                                                                                                                                                                                                          i really love the sexy action and scifi films of the sixties and its because of the actres that appeared in them they found the sexiest women to be in these films and it didnt matter if they could act remember candy the reason i was disappointed by this film was because it wasnt nostalgic enough the story here has a european scifi film called dragonfly being made and the director is fired so the producers decide to let a young aspiring filmmaker jeremy davies to complete the picture theyre is one real beautiful woman in the film who plays dragonfly but shes barely in it film is written and directed by roman coppola who uses some of his fathers exploits from his early days and puts it into the script i wish the film could have been an homage to those early films they could have lots of cameos by actors who appeared in them there is one actor in this film who was popular from the sixties and its john phillip law barbarella gerard depardieu giancarlo giannini and dean stockwell appear as well i guess im going to have to continue waiting for a director to make a good homage to the films of the sixties if any are reading this make it as sexy as you can ill be waiting   \n",
              "9                                                                                                                                                                                                                                                                                                                                                                                                                                                                                                                                                                                                                                                                                                                                                                                                                                                                                                                                                                                                                                                                                                                                                                                                                                                                                                                                                                                                                                                                                                                                                                                                                                                                                                                                                                                                                                                                                                                                                                                                                                                                                                                                                                                                                                                                                                                                                                                          sure this one isnt really a blockbuster nor does it target such a position dieter is the first name of a quite popular german musician who is either loved or hated for his kind of acting and thats exactly what this movie is about it is based on the autobiography dieter bohlen wrote a few years ago but isnt meant to be accurate on that the movie is filled with some sexual offensive content at least for american standard which is either amusing not for the other actors of course or dumb it depends on your individual kind of humor or on you being a bohlenfan or not technically speaking there isnt much to criticize speaking of me i find this movie to be an okmovie   \n",
              "10                                                                                                                                                                                                                                                                                                                                                                                                                                                                                                                                                                                                                                                                                                                                                                                                                                                                                                                                                                                                                                                                                                                                                                                                                                                                                                                                                                                                                                                                                                                                                                                                                                                                                                                                                                                                                                                                                                                                                                                                                                                                                                                                                                                                                                               during a sleepless night i was switching through the channels found this embarrassment of a movie what were they thinkingif this is life after remote control for kari wuhrer salin no wonder shes gone nowhereand why did david keith take this role its patheticanyway i turned on the movie near the end so i didnt get much of the plot but this mustve been the best part this nerdy college kid brings home this dominatrixish girlthis scene is straight out of the comic books or the cheap porn movies she calls the mother anal retentive and kisses the father oh i didnt expect tongue great linesafter this i had to see how it endedwell of course this bitch from hell has a helluva past so the swat team is upstairs and yesthey surround her and yes yes the kid blows her brains out ahahhahahahathis is mustsee tv   \n",
              "11                                                                                                                                                                                                                                                                                                                                                                                                                                                                                                                                                                                                                                                                                                                                                                                                                                                                                                                                                                                                                                                                                                                                                                                                                                                                                                                                                                                                                                                                                                                                      cute film about three lively sisters from switzerland often seen running about in matching outfits who want to get their parents back together seems mom is still carrying the torch for dad so they sail off to new york to stop the dad from marrying a blonde golddigger he calls precious dad hasnt seen his daughters in ten years they oddly enough dont seem to mind and think hes wonderful and meanwhile precious seems to lead a life mainly run by her overbearing mother alice brady a woman who just wants to see to it her daughter marries a rich man the sisters get the idea of pushing precious into the path of a drunken hungarian count tricking the two golddigging women into thinking he is one of the richest men in europe but a case of mistaken identity makes the girls think the count is goodlooking ray milland who goes along with the scheme cause he has a crush on sister kaythis film is enjoyable light fare barbara read as kay comes across as sweet and pretty ray milland looks oh so young and handsome here though unfortunately is given little to do alice brady is quite good as the scheming mother but it is deanna durbin a real charmer and cute as a button playing youngest sister penny who pretty much steals the show with absolutely beautiful vocals she sings several songs throughout the film though i actually would have liked to have seen them feature her even more in this the plot in this film is a bit silly but nevertheless i found the film to be entertaining and fun   \n",
              "12  this version of the dickens classic a christmas carol directed by clive donner stars george c scott as ebenezer scrooge by this time around the challenge for the filmmaker was to take such familiar material and make it seem fresh and new again and happily to say with this film donner not only met the challenge but surpassed any expectations anyone might have had for it he tells the story with precision and an eye to detail and extracts performances from his actors that are nothing less than superlative especially scott one could argue that the definitive portrayal of scrooge one of the best known characters in literary fiction ever was created by alastair sim in the film but i think with his performance here scott has now achieved that distinction there is such a purity and honesty in his scrooge that it becomes difficult to even consider anyone else in the role once youve seen scott do it simply put he is scrooge and what a tribute it is to such a gifted actor to be able to take such a well known figure and make it so uniquely his own is quite miraculous it is truly a joy to see an actor ply his trade so well to be able to make a character so real from every word he utters down to the finest expression of his face and to make it all ring so true its a study in perfectionthe other members of the cast are splendid as well but then again they have to be in order to maintain the integrity of scotts performance and they do frank finlay is the ghost of jacob marley a notable turn though not as memorable perhaps as the one by alec guinness as marley in the film scrooge angela pleasence is a welcome visage as the spirit of christmas past edward woodward grand and boisterous and altogether convincing as the spirit of christmas present and michael carter grim and menacing as the spirit of christmas yet to comedavid warner hits just the right mark with his bob cratchit bringing a sincerity to the role that measures up well to the standard of quality set by scotts scrooge and susannah york fares just as well as mrs cratchit the real gem to be found here though is the performance of young anthony walters as tiny tim its heartfelt without ever becoming maudlin and simply one of the best interpretations and the most real ever presented on filmthe excellent supporting cast includes roger rees fred holywell and also the narrator of the film caroline langrishe janet holywell lucy gutteridge belle michael gough mr poole and joanne whalley fan a flawless presentation this version of a christmas carol sets the standard against which all others must be gauged no matter how many versions you may have seen watching this one is like seeing it for the first time ever and forever after whenever you think of scrooge the image your mind will conjure up will be that of george c scott a thoroughly entertaining and satisfying experience this film demands a place in the annual schedule of the holiday festivities of every home i rate this one   \n",
              "13                                                                                                                                                                                                                                                                                                                                                                                                                                                                                                                                                                                                                                                                                                                                                                                                                                                                                                                                                                                                                                                                                                                                                                                                                                                                                                                                                                                                                                                                                                                                                                                                                                                                                                                                                                                                                                                                                                                                                                                                                                                                                                                                                                                                                          put the blame on executive producer wes craven and financiers the weinsteins for this bigbudget debacle a thrashmetal updating of dracula with a condescending verbal jab at bram stoker who probably wouldnt want his name on this thing anyway and nothing much for the rest of us except slasherstyled jolts and gore christopher plummer looks winded as van helsing in the moderndaynot just a descendant of van helsing but the real thing he keeps himself going with leeches obtained from count draculas corpse which is exhumed from its coffin after being stolen from van helsings vault and flown to new orleans this is just what new orleans needs in the st century the film wellproduced but without a single original idea except for multiracial victims is both repulsive and lazy and after about an hour starts repeating itself from   \n",
              "14                                                                                                                                                                                                                                                                                                                                                                                                                                                                                                                                                                                                                                                                                                                                                                                                                                                                                                                                                                                                                                                                                                                                                                                                                       hilarious evocative confusing brilliant film reminds me of bunuels lage dor or jodorowskys holy mountain lots of strange characters mucking about and looking for what is it i laughed almost the whole way through all the while keeping a peripheral eye on the bewildered and occasionally horrified reactions of the audience that surrounded me in the theatre entertaining through and through from the beginning to the guts and poisoned entrails all the way to the end if it was an end i only wish i could remember every detail it haunts me sometimeshonestly though i have only the most positive recollections of this film as it doesnt seem to be available to take home and watch i suppose ill have to wait a few more years until crispin glover comes my way again with his big slide show and subsequent what is it screening i saw this film in atlanta almost directly after being involved in a rather devastating car crash so i was slightly dazed at the time which was perhaps a very good state of mind to watch the prophetic talking arthropods and the retards in the superhero costumes and godlike glover in his appropriate burlyq setting scantily clad girlies rising out of the floor like a magnificent dadaist wet dreamis it a statement on life as we know it of course everyone expects art to be just that i rather think that the truth is more evident in the absences and in the negative space what you dont tell us is what we must deduce but is far more valid than the lies that other people feed us day in and day out rather one what is it than movies like titanic or sleepless in seattle shudder gag groanthank you mr glover additionally a fun man to watch on screen or at his big slide show smart funny quirky and outrageously hot make more films write more books keep the nightmare alive   \n",
              "\n",
              "    len_of_x_train  \n",
              "0            116.0  \n",
              "1            112.0  \n",
              "2            125.0  \n",
              "3             88.0  \n",
              "4             80.0  \n",
              "5            289.0  \n",
              "6            514.0  \n",
              "7            106.0  \n",
              "8            223.0  \n",
              "9            126.0  \n",
              "10           147.0  \n",
              "11           273.0  \n",
              "12           536.0  \n",
              "13           139.0  \n",
              "14           325.0  "
            ],
            "text/html": [
              "\n",
              "  <div id=\"df-32179dbc-b945-4048-8c86-6f7e34fa3b26\" class=\"colab-df-container\">\n",
              "    <div>\n",
              "<style scoped>\n",
              "    .dataframe tbody tr th:only-of-type {\n",
              "        vertical-align: middle;\n",
              "    }\n",
              "\n",
              "    .dataframe tbody tr th {\n",
              "        vertical-align: top;\n",
              "    }\n",
              "\n",
              "    .dataframe thead th {\n",
              "        text-align: right;\n",
              "    }\n",
              "</style>\n",
              "<table border=\"1\" class=\"dataframe\">\n",
              "  <thead>\n",
              "    <tr style=\"text-align: right;\">\n",
              "      <th></th>\n",
              "      <th>content</th>\n",
              "      <th>sentiment</th>\n",
              "      <th>clean_content</th>\n",
              "      <th>len_of_x_train</th>\n",
              "    </tr>\n",
              "  </thead>\n",
              "  <tbody>\n",
              "    <tr>\n",
              "      <th>0</th>\n",
              "      <td>This was an absolutely terrible movie. Don't be lured in by Christopher Walken or Michael Ironside. Both are great actors, but this must simply be their worst role in history. Even their great acting could not redeem this movie's ridiculous storyline. This movie is an early nineties US propaganda piece. The most pathetic scenes were those when the Columbian rebels were making their cases for revolutions. Maria Conchita Alonso appeared phony, and her pseudo-love affair with Walken was nothing but a pathetic emotional plug in a movie that was devoid of any real meaning. I am disappointed that there are movies like this, ruining actor's like Christopher Walken's good name. I could barely sit through it.</td>\n",
              "      <td>0</td>\n",
              "      <td>this was an absolutely terrible movie dont be lured in by christopher walken or michael ironside both are great actors but this must simply be their worst role in history even their great acting could not redeem this movies ridiculous storyline this movie is an early nineties us propaganda piece the most pathetic scenes were those when the columbian rebels were making their cases for revolutions maria conchita alonso appeared phony and her pseudolove affair with walken was nothing but a pathetic emotional plug in a movie that was devoid of any real meaning i am disappointed that there are movies like this ruining actors like christopher walkens good name i could barely sit through it</td>\n",
              "      <td>116.0</td>\n",
              "    </tr>\n",
              "    <tr>\n",
              "      <th>1</th>\n",
              "      <td>I have been known to fall asleep during films, but this is usually due to a combination of things including, really tired, being warm and comfortable on the sette and having just eaten a lot. However on this occasion I fell asleep because the film was rubbish. The plot development was constant. Constantly slow and boring. Things seemed to happen, but with no explanation of what was causing them or why. I admit, I may have missed part of the film, but i watched the majority of it and everything just seemed to happen of its own accord without any real concern for anything else. I cant recommend this film at all.</td>\n",
              "      <td>0</td>\n",
              "      <td>i have been known to fall asleep during films but this is usually due to a combination of things including really tired being warm and comfortable on the sette and having just eaten a lot however on this occasion i fell asleep because the film was rubbish the plot development was constant constantly slow and boring things seemed to happen but with no explanation of what was causing them or why i admit i may have missed part of the film but i watched the majority of it and everything just seemed to happen of its own accord without any real concern for anything else i cant recommend this film at all</td>\n",
              "      <td>112.0</td>\n",
              "    </tr>\n",
              "    <tr>\n",
              "      <th>2</th>\n",
              "      <td>Mann photographs the Alberta Rocky Mountains in a superb fashion, and Jimmy Stewart and Walter Brennan give enjoyable performances as they always seem to do. &lt;br /&gt;&lt;br /&gt;But come on Hollywood - a Mountie telling the people of Dawson City, Yukon to elect themselves a marshal (yes a marshal!) and to enforce the law themselves, then gunfighters battling it out on the streets for control of the town? &lt;br /&gt;&lt;br /&gt;Nothing even remotely resembling that happened on the Canadian side of the border during the Klondike gold rush. Mr. Mann and company appear to have mistaken Dawson City for Deadwood, the Canadian North for the American Wild West.&lt;br /&gt;&lt;br /&gt;Canadian viewers be prepared for a Reefer Madness type of enjoyable howl with this ludicrous plot, or, to shake your head in disgust.</td>\n",
              "      <td>0</td>\n",
              "      <td>mann photographs the alberta rocky mountains in a superb fashion and jimmy stewart and walter brennan give enjoyable performances as they always seem to do but come on hollywood a mountie telling the people of dawson city yukon to elect themselves a marshal yes a marshal and to enforce the law themselves then gunfighters battling it out on the streets for control of the town nothing even remotely resembling that happened on the canadian side of the border during the klondike gold rush mr mann and company appear to have mistaken dawson city for deadwood the canadian north for the american wild westcanadian viewers be prepared for a reefer madness type of enjoyable howl with this ludicrous plot or to shake your head in disgust</td>\n",
              "      <td>125.0</td>\n",
              "    </tr>\n",
              "    <tr>\n",
              "      <th>3</th>\n",
              "      <td>This is the kind of film for a snowy Sunday afternoon when the rest of the world can go ahead with its own business as you descend into a big arm-chair and mellow for a couple of hours. Wonderful performances from Cher and Nicolas Cage (as always) gently row the plot along. There are no rapids to cross, no dangerous waters, just a warm and witty paddle through New York life at its best. A family film in every sense and one that deserves the praise it received.</td>\n",
              "      <td>1</td>\n",
              "      <td>this is the kind of film for a snowy sunday afternoon when the rest of the world can go ahead with its own business as you descend into a big armchair and mellow for a couple of hours wonderful performances from cher and nicolas cage as always gently row the plot along there are no rapids to cross no dangerous waters just a warm and witty paddle through new york life at its best a family film in every sense and one that deserves the praise it received</td>\n",
              "      <td>88.0</td>\n",
              "    </tr>\n",
              "    <tr>\n",
              "      <th>4</th>\n",
              "      <td>As others have mentioned, all the women that go nude in this film are mostly absolutely gorgeous. The plot very ably shows the hypocrisy of the female libido. When men are around they want to be pursued, but when no \"men\" are around, they become the pursuers of a 14 year old boy. And the boy becomes a man really fast (we should all be so lucky at this age!). He then gets up the courage to pursue his true love.</td>\n",
              "      <td>1</td>\n",
              "      <td>as others have mentioned all the women that go nude in this film are mostly absolutely gorgeous the plot very ably shows the hypocrisy of the female libido when men are around they want to be pursued but when no men are around they become the pursuers of a year old boy and the boy becomes a man really fast we should all be so lucky at this age he then gets up the courage to pursue his true love</td>\n",
              "      <td>80.0</td>\n",
              "    </tr>\n",
              "    <tr>\n",
              "      <th>5</th>\n",
              "      <td>This is a film which should be seen by anybody interested in, effected by, or suffering from an eating disorder. It is an amazingly accurate and sensitive portrayal of bulimia in a teenage girl, its causes and its symptoms. The girl is played by one of the most brilliant young actresses working in cinema today, Alison Lohman, who was later so spectacular in 'Where the Truth Lies'. I would recommend that this film be shown in all schools, as you will never see a better on this subject. Alison Lohman is absolutely outstanding, and one marvels at her ability to convey the anguish of a girl suffering from this compulsive disorder. If barometers tell us the air pressure, Alison Lohman tells us the emotional pressure with the same degree of accuracy. Her emotional range is so precise, each scene could be measured microscopically for its gradations of trauma, on a scale of rising hysteria and desperation which reaches unbearable intensity. Mare Winningham is the perfect choice to play her mother, and does so with immense sympathy and a range of emotions just as finely tuned as Lohman's. Together, they make a pair of sensitive emotional oscillators vibrating in resonance with one another. This film is really an astonishing achievement, and director Katt Shea should be proud of it. The only reason for not seeing it is if you are not interested in people. But even if you like nature films best, this is after all animal behaviour at the sharp edge. Bulimia is an extreme version of how a tormented soul can destroy her own body in a frenzy of despair. And if we don't sympathise with people suffering from the depths of despair, then we are dead inside.</td>\n",
              "      <td>1</td>\n",
              "      <td>this is a film which should be seen by anybody interested in effected by or suffering from an eating disorder it is an amazingly accurate and sensitive portrayal of bulimia in a teenage girl its causes and its symptoms the girl is played by one of the most brilliant young actresses working in cinema today alison lohman who was later so spectacular in where the truth lies i would recommend that this film be shown in all schools as you will never see a better on this subject alison lohman is absolutely outstanding and one marvels at her ability to convey the anguish of a girl suffering from this compulsive disorder if barometers tell us the air pressure alison lohman tells us the emotional pressure with the same degree of accuracy her emotional range is so precise each scene could be measured microscopically for its gradations of trauma on a scale of rising hysteria and desperation which reaches unbearable intensity mare winningham is the perfect choice to play her mother and does so with immense sympathy and a range of emotions just as finely tuned as lohmans together they make a pair of sensitive emotional oscillators vibrating in resonance with one another this film is really an astonishing achievement and director katt shea should be proud of it the only reason for not seeing it is if you are not interested in people but even if you like nature films best this is after all animal behaviour at the sharp edge bulimia is an extreme version of how a tormented soul can destroy her own body in a frenzy of despair and if we dont sympathise with people suffering from the depths of despair then we are dead inside</td>\n",
              "      <td>289.0</td>\n",
              "    </tr>\n",
              "    <tr>\n",
              "      <th>6</th>\n",
              "      <td>Okay, you have:&lt;br /&gt;&lt;br /&gt;Penelope Keith as Miss Herringbone-Tweed, B.B.E. (Backbone of England.) She's killed off in the first scene - that's right, folks; this show has no backbone!&lt;br /&gt;&lt;br /&gt;Peter O'Toole as Ol' Colonel Cricket from The First War and now the emblazered Lord of the Manor.&lt;br /&gt;&lt;br /&gt;Joanna Lumley as the ensweatered Lady of the Manor, 20 years younger than the colonel and 20 years past her own prime but still glamourous (Brit spelling, not mine) enough to have a toy-boy on the side. It's alright, they have Col. Cricket's full knowledge and consent (they guy even comes 'round for Christmas!) Still, she's considerate of the colonel enough to have said toy-boy her own age (what a gal!)&lt;br /&gt;&lt;br /&gt;David McCallum as said toy-boy, equally as pointlessly glamourous as his squeeze. Pilcher couldn't come up with any cover for him within the story, so she gave him a hush-hush job at the Circus.&lt;br /&gt;&lt;br /&gt;and finally:&lt;br /&gt;&lt;br /&gt;Susan Hampshire as Miss Polonia Teacups, Venerable Headmistress of the Venerable Girls' Boarding-School, serving tea in her office with a dash of deep, poignant advice for life in the outside world just before graduation. Her best bit of advice: \"I've only been to Nancherrow (the local Stately Home of England) once. I thought it was very beautiful but, somehow, not part of the real world.\" Well, we can't say they didn't warn us.&lt;br /&gt;&lt;br /&gt;Ah, Susan - time was, your character would have been running the whole show. They don't write 'em like that any more. Our loss, not yours.&lt;br /&gt;&lt;br /&gt;So - with a cast and setting like this, you have the re-makings of \"Brideshead Revisited,\" right?&lt;br /&gt;&lt;br /&gt;Wrong! They took these 1-dimensional supporting roles because they paid so well. After all, acting is one of the oldest temp-jobs there is (YOU name another!)&lt;br /&gt;&lt;br /&gt;First warning sign: lots and lots of backlighting. They get around it by shooting outdoors - \"hey, it's just the sunlight!\"&lt;br /&gt;&lt;br /&gt;Second warning sign: Leading Lady cries a lot. When not crying, her eyes are moist. That's the law of romance novels: Leading Lady is \"dewy-eyed.\"&lt;br /&gt;&lt;br /&gt;Henceforth, Leading Lady shall be known as L.L.&lt;br /&gt;&lt;br /&gt;Third warning sign: L.L. actually has stars in her eyes when she's in love. Still, I'll give Emily Mortimer an award just for having to act with that spotlight in her eyes (I wonder . did they use contacts?)&lt;br /&gt;&lt;br /&gt;And lastly, fourth warning sign: no on-screen female character is \"Mrs.\" She's either \"Miss\" or \"Lady.\"&lt;br /&gt;&lt;br /&gt;When all was said and done, I still couldn't tell you who was pursuing whom and why. I couldn't even tell you what was said and done.&lt;br /&gt;&lt;br /&gt;To sum up: they all live through World War II without anything happening to them at all.&lt;br /&gt;&lt;br /&gt;OK, at the end, L.L. finds she's lost her parents to the Japanese prison camps and baby sis comes home catatonic. Meanwhile (there's always a \"meanwhile,\") some young guy L.L. had a crush on (when, I don't know) comes home from some wartime tough spot and is found living on the street by Lady of the Manor (must be some street if SHE's going to find him there.) Both war casualties are whisked away to recover at Nancherrow (SOMEBODY has to be \"whisked away\" SOMEWHERE in these romance stories!)&lt;br /&gt;&lt;br /&gt;Great drama.</td>\n",
              "      <td>0</td>\n",
              "      <td>okay you havepenelope keith as miss herringbonetweed bbe backbone of england shes killed off in the first scene thats right folks this show has no backbonepeter otoole as ol colonel cricket from the first war and now the emblazered lord of the manorjoanna lumley as the ensweatered lady of the manor years younger than the colonel and years past her own prime but still glamourous brit spelling not mine enough to have a toyboy on the side its alright they have col crickets full knowledge and consent they guy even comes round for christmas still shes considerate of the colonel enough to have said toyboy her own age what a galdavid mccallum as said toyboy equally as pointlessly glamourous as his squeeze pilcher couldnt come up with any cover for him within the story so she gave him a hushhush job at the circusand finallysusan hampshire as miss polonia teacups venerable headmistress of the venerable girls boardingschool serving tea in her office with a dash of deep poignant advice for life in the outside world just before graduation her best bit of advice ive only been to nancherrow the local stately home of england once i thought it was very beautiful but somehow not part of the real world well we cant say they didnt warn usah susan time was your character would have been running the whole show they dont write em like that any more our loss not yoursso with a cast and setting like this you have the remakings of brideshead revisited rightwrong they took these dimensional supporting roles because they paid so well after all acting is one of the oldest tempjobs there is you name anotherfirst warning sign lots and lots of backlighting they get around it by shooting outdoors hey its just the sunlightsecond warning sign leading lady cries a lot when not crying her eyes are moist thats the law of romance novels leading lady is dewyeyedhenceforth leading lady shall be known as llthird warning sign ll actually has stars in her eyes when shes in love still ill give emily mortimer an award just for having to act with that spotlight in her eyes i wonder did they use contactsand lastly fourth warning sign no onscreen female character is mrs shes either miss or ladywhen all was said and done i still couldnt tell you who was pursuing whom and why i couldnt even tell you what was said and doneto sum up they all live through world war ii without anything happening to them at allok at the end ll finds shes lost her parents to the japanese prison camps and baby sis comes home catatonic meanwhile theres always a meanwhile some young guy ll had a crush on when i dont know comes home from some wartime tough spot and is found living on the street by lady of the manor must be some street if shes going to find him there both war casualties are whisked away to recover at nancherrow somebody has to be whisked away somewhere in these romance storiesgreat drama</td>\n",
              "      <td>514.0</td>\n",
              "    </tr>\n",
              "    <tr>\n",
              "      <th>7</th>\n",
              "      <td>The film is based on a genuine 1950s novel.&lt;br /&gt;&lt;br /&gt;Journalist Colin McInnes wrote a set of three \"London novels\": \"Absolute Beginners\", \"City of Spades\" and \"Mr Love and Justice\". I have read all three. The first two are excellent. The last, perhaps an experiment that did not come off. But McInnes's work is highly acclaimed; and rightly so. This musical is the novelist's ultimate nightmare - to see the fruits of one's mind being turned into a glitzy, badly-acted, soporific one-dimensional apology of a film that says it captures the spirit of 1950s London, and does nothing of the sort.&lt;br /&gt;&lt;br /&gt;Thank goodness Colin McInnes wasn't alive to witness it.</td>\n",
              "      <td>0</td>\n",
              "      <td>the film is based on a genuine s noveljournalist colin mcinnes wrote a set of three london novels absolute beginners city of spades and mr love and justice i have read all three the first two are excellent the last perhaps an experiment that did not come off but mcinness work is highly acclaimed and rightly so this musical is the novelists ultimate nightmare to see the fruits of ones mind being turned into a glitzy badlyacted soporific onedimensional apology of a film that says it captures the spirit of s london and does nothing of the sortthank goodness colin mcinnes wasnt alive to witness it</td>\n",
              "      <td>106.0</td>\n",
              "    </tr>\n",
              "    <tr>\n",
              "      <th>8</th>\n",
              "      <td>I really love the sexy action and sci-fi films of the sixties and its because of the actress's that appeared in them. They found the sexiest women to be in these films and it didn't matter if they could act (Remember \"Candy\"?). The reason I was disappointed by this film was because it wasn't nostalgic enough. The story here has a European sci-fi film called \"Dragonfly\" being made and the director is fired. So the producers decide to let a young aspiring filmmaker (Jeremy Davies) to complete the picture. They're is one real beautiful woman in the film who plays Dragonfly but she's barely in it. Film is written and directed by Roman Coppola who uses some of his fathers exploits from his early days and puts it into the script. I wish the film could have been an homage to those early films. They could have lots of cameos by actors who appeared in them. There is one actor in this film who was popular from the sixties and its John Phillip Law (Barbarella). Gerard Depardieu, Giancarlo Giannini and Dean Stockwell appear as well. I guess I'm going to have to continue waiting for a director to make a good homage to the films of the sixties. If any are reading this, \"Make it as sexy as you can\"! I'll be waiting!</td>\n",
              "      <td>0</td>\n",
              "      <td>i really love the sexy action and scifi films of the sixties and its because of the actres that appeared in them they found the sexiest women to be in these films and it didnt matter if they could act remember candy the reason i was disappointed by this film was because it wasnt nostalgic enough the story here has a european scifi film called dragonfly being made and the director is fired so the producers decide to let a young aspiring filmmaker jeremy davies to complete the picture theyre is one real beautiful woman in the film who plays dragonfly but shes barely in it film is written and directed by roman coppola who uses some of his fathers exploits from his early days and puts it into the script i wish the film could have been an homage to those early films they could have lots of cameos by actors who appeared in them there is one actor in this film who was popular from the sixties and its john phillip law barbarella gerard depardieu giancarlo giannini and dean stockwell appear as well i guess im going to have to continue waiting for a director to make a good homage to the films of the sixties if any are reading this make it as sexy as you can ill be waiting</td>\n",
              "      <td>223.0</td>\n",
              "    </tr>\n",
              "    <tr>\n",
              "      <th>9</th>\n",
              "      <td>Sure, this one isn't really a blockbuster, nor does it target such a position. \"Dieter\" is the first name of a quite popular German musician, who is either loved or hated for his kind of acting and thats exactly what this movie is about. It is based on the autobiography \"Dieter Bohlen\" wrote a few years ago but isn't meant to be accurate on that. The movie is filled with some sexual offensive content (at least for American standard) which is either amusing (not for the other \"actors\" of course) or dumb - it depends on your individual kind of humor or on you being a \"Bohlen\"-Fan or not. Technically speaking there isn't much to criticize. Speaking of me I find this movie to be an OK-movie.</td>\n",
              "      <td>0</td>\n",
              "      <td>sure this one isnt really a blockbuster nor does it target such a position dieter is the first name of a quite popular german musician who is either loved or hated for his kind of acting and thats exactly what this movie is about it is based on the autobiography dieter bohlen wrote a few years ago but isnt meant to be accurate on that the movie is filled with some sexual offensive content at least for american standard which is either amusing not for the other actors of course or dumb it depends on your individual kind of humor or on you being a bohlenfan or not technically speaking there isnt much to criticize speaking of me i find this movie to be an okmovie</td>\n",
              "      <td>126.0</td>\n",
              "    </tr>\n",
              "    <tr>\n",
              "      <th>10</th>\n",
              "      <td>During a sleepless night, I was switching through the channels &amp; found this embarrassment of a movie. What were they thinking?&lt;br /&gt;&lt;br /&gt;If this is life after \"Remote Control\" for Kari (Wuhrer) Salin, no wonder she's gone nowhere.&lt;br /&gt;&lt;br /&gt;And why did David Keith take this role? It's pathetic!&lt;br /&gt;&lt;br /&gt;Anyway, I turned on the movie near the end, so I didn't get much of the plot. But this must've been the best part. This nerdy college kid brings home this dominatrix-ish girl...this scene is straight out of the comic books -- or the cheap porn movies. She calls the mother anal retentive and kisses the father \"Oh, I didn't expect tongue!\" Great lines!&lt;br /&gt;&lt;br /&gt;After this, I had to see how it ended..&lt;br /&gt;&lt;br /&gt;Well, of course, this bitch from hell has a helluva past, so the SWAT team is upstairs. And yes...they surround her! And YES YES! The kid blows her brains out!!!! AHAHHAHAHAHA!!&lt;br /&gt;&lt;br /&gt;This is must-see TV. &lt;br /&gt;&lt;br /&gt;</td>\n",
              "      <td>0</td>\n",
              "      <td>during a sleepless night i was switching through the channels found this embarrassment of a movie what were they thinkingif this is life after remote control for kari wuhrer salin no wonder shes gone nowhereand why did david keith take this role its patheticanyway i turned on the movie near the end so i didnt get much of the plot but this mustve been the best part this nerdy college kid brings home this dominatrixish girlthis scene is straight out of the comic books or the cheap porn movies she calls the mother anal retentive and kisses the father oh i didnt expect tongue great linesafter this i had to see how it endedwell of course this bitch from hell has a helluva past so the swat team is upstairs and yesthey surround her and yes yes the kid blows her brains out ahahhahahahathis is mustsee tv</td>\n",
              "      <td>147.0</td>\n",
              "    </tr>\n",
              "    <tr>\n",
              "      <th>11</th>\n",
              "      <td>Cute film about three lively sisters from Switzerland (often seen running about in matching outfits) who want to get their parents back together (seems mom is still carrying the torch for dad) - so they sail off to New York to stop the dad from marrying a blonde gold-digger he calls \"Precious\". Dad hasn't seen his daughters in ten years, they (oddly enough) don't seem to mind and think he's wonderful, and meanwhile Precious seems to lead a life mainly run by her overbearing mother (Alice Brady), a woman who just wants to see to it her daughter marries a rich man. The sisters get the idea of pushing Precious into the path of a drunken Hungarian count, tricking the two gold-digging women into thinking he is one of the richest men in Europe. But a case of mistaken identity makes the girls think the count is good-looking Ray Milland, who goes along with the scheme 'cause he has a crush on sister Kay.&lt;br /&gt;&lt;br /&gt;This film is enjoyable, light fare. Barbara Read as Kay comes across as sweet and pretty, Ray Milland looks oh so young and handsome here (though, unfortunately, is given little to do), Alice Brady is quite good as the scheming mother - but it is Deanna Durbin, a real charmer and cute as a button playing youngest sister Penny, who pretty much steals the show. With absolutely beautiful vocals, she sings several songs throughout the film, though I actually would have liked to have seen them feature her even more in this. The plot in this film is a bit silly, but nevertheless, I found the film to be entertaining and fun.</td>\n",
              "      <td>1</td>\n",
              "      <td>cute film about three lively sisters from switzerland often seen running about in matching outfits who want to get their parents back together seems mom is still carrying the torch for dad so they sail off to new york to stop the dad from marrying a blonde golddigger he calls precious dad hasnt seen his daughters in ten years they oddly enough dont seem to mind and think hes wonderful and meanwhile precious seems to lead a life mainly run by her overbearing mother alice brady a woman who just wants to see to it her daughter marries a rich man the sisters get the idea of pushing precious into the path of a drunken hungarian count tricking the two golddigging women into thinking he is one of the richest men in europe but a case of mistaken identity makes the girls think the count is goodlooking ray milland who goes along with the scheme cause he has a crush on sister kaythis film is enjoyable light fare barbara read as kay comes across as sweet and pretty ray milland looks oh so young and handsome here though unfortunately is given little to do alice brady is quite good as the scheming mother but it is deanna durbin a real charmer and cute as a button playing youngest sister penny who pretty much steals the show with absolutely beautiful vocals she sings several songs throughout the film though i actually would have liked to have seen them feature her even more in this the plot in this film is a bit silly but nevertheless i found the film to be entertaining and fun</td>\n",
              "      <td>273.0</td>\n",
              "    </tr>\n",
              "    <tr>\n",
              "      <th>12</th>\n",
              "      <td>This 1984 version of the Dickens' classic `A Christmas Carol,' directed by Clive Donner, stars George C. Scott as Ebenezer Scrooge. By this time around, the challenge for the filmmaker was to take such familiar material and make it seem fresh and new again; and, happily to say, with this film Donner not only met the challenge but surpassed any expectations anyone might have had for it. He tells the story with precision and an eye to detail, and extracts performances from his actors that are nothing less than superlative, especially Scott. One could argue that the definitive portrayal of Scrooge-- one of the best known characters in literary fiction, ever-- was created by Alastair Sim in the 1951 film; but I think with his performance here, Scott has now achieved that distinction. There is such a purity and honesty in his Scrooge that it becomes difficult to even consider anyone else in the role once you've seen Scott do it; simply put, he IS Scrooge. And what a tribute it is to such a gifted actor; to be able to take such a well known figure and make it so uniquely his own is quite miraculous. It is truly a joy to see an actor ply his trade so well, to be able to make a character so real, from every word he utters down to the finest expression of his face, and to make it all ring so true. It's a study in perfection.&lt;br /&gt;&lt;br /&gt;The other members of the cast are splendid as well, but then again they have to be in order to maintain the integrity of Scott's performance; and they do. Frank Finlay is the Ghost of Jacob Marley; a notable turn, though not as memorable, perhaps, as the one by Alec Guinness (as Marley) in the film, `Scrooge.' Angela Pleasence is a welcome visage as the Spirit of Christmas Past; Edward Woodward, grand and boisterous, and altogether convincing as the Spirit of Christmas Present; and Michael Carter, grim and menacing as the Spirit of Christmas Yet To Come.&lt;br /&gt;&lt;br /&gt;David Warner hits just the right mark with his Bob Cratchit, bringing a sincerity to the role that measures up well to the standard of quality set by Scott's Scrooge, and Susannah York fares just as well as Mrs. Cratchit. The real gem to be found here, though, is the performance of young Anthony Walters as Tiny Tim; it's heartfelt without ever becoming maudlin, and simply one of the best interpretations-- and the most real-- ever presented on film.&lt;br /&gt;&lt;br /&gt;The excellent supporting cast includes Roger Rees (Fred Holywell, and also the narrator of the film), Caroline Langrishe (Janet Holywell), Lucy Gutteridge (Belle), Michael Gough (Mr. Poole) and Joanne Whalley (Fan). A flawless presentation, this version of `A Christmas Carol' sets the standard against which all others must be gauged; no matter how many versions you may have seen, watching this one is like seeing it for the first time ever. And forever after, whenever you think of Scrooge, the image your mind will conjure up will be that of George C. Scott. A thoroughly entertaining and satisfying experience, this film demands a place in the annual schedule of the holiday festivities of every home. I rate this one 10/10.</td>\n",
              "      <td>1</td>\n",
              "      <td>this version of the dickens classic a christmas carol directed by clive donner stars george c scott as ebenezer scrooge by this time around the challenge for the filmmaker was to take such familiar material and make it seem fresh and new again and happily to say with this film donner not only met the challenge but surpassed any expectations anyone might have had for it he tells the story with precision and an eye to detail and extracts performances from his actors that are nothing less than superlative especially scott one could argue that the definitive portrayal of scrooge one of the best known characters in literary fiction ever was created by alastair sim in the film but i think with his performance here scott has now achieved that distinction there is such a purity and honesty in his scrooge that it becomes difficult to even consider anyone else in the role once youve seen scott do it simply put he is scrooge and what a tribute it is to such a gifted actor to be able to take such a well known figure and make it so uniquely his own is quite miraculous it is truly a joy to see an actor ply his trade so well to be able to make a character so real from every word he utters down to the finest expression of his face and to make it all ring so true its a study in perfectionthe other members of the cast are splendid as well but then again they have to be in order to maintain the integrity of scotts performance and they do frank finlay is the ghost of jacob marley a notable turn though not as memorable perhaps as the one by alec guinness as marley in the film scrooge angela pleasence is a welcome visage as the spirit of christmas past edward woodward grand and boisterous and altogether convincing as the spirit of christmas present and michael carter grim and menacing as the spirit of christmas yet to comedavid warner hits just the right mark with his bob cratchit bringing a sincerity to the role that measures up well to the standard of quality set by scotts scrooge and susannah york fares just as well as mrs cratchit the real gem to be found here though is the performance of young anthony walters as tiny tim its heartfelt without ever becoming maudlin and simply one of the best interpretations and the most real ever presented on filmthe excellent supporting cast includes roger rees fred holywell and also the narrator of the film caroline langrishe janet holywell lucy gutteridge belle michael gough mr poole and joanne whalley fan a flawless presentation this version of a christmas carol sets the standard against which all others must be gauged no matter how many versions you may have seen watching this one is like seeing it for the first time ever and forever after whenever you think of scrooge the image your mind will conjure up will be that of george c scott a thoroughly entertaining and satisfying experience this film demands a place in the annual schedule of the holiday festivities of every home i rate this one</td>\n",
              "      <td>536.0</td>\n",
              "    </tr>\n",
              "    <tr>\n",
              "      <th>13</th>\n",
              "      <td>Put the blame on executive producer Wes Craven and financiers the Weinsteins for this big-budget debacle: a thrash-metal updating of \"Dracula\", with a condescending verbal jab at Bram Stoker (who probably wouldn't want his name on this thing anyway) and nothing much for the rest of us except slasher-styled jolts and gore. Christopher Plummer looks winded as Van Helsing in the modern-day--not just a descendant of Van Helsing but the real thing; he keeps himself going with leeches obtained from Count Dracula's corpse, which is exhumed from its coffin after being stolen from Van Helsing's vault and flown to New Orleans. This is just what New Orleans needs in the 21st Century! The film, well-produced but without a single original idea (except for multi-racial victims), is both repulsive and lazy, and after about an hour starts repeating itself. * from ****</td>\n",
              "      <td>0</td>\n",
              "      <td>put the blame on executive producer wes craven and financiers the weinsteins for this bigbudget debacle a thrashmetal updating of dracula with a condescending verbal jab at bram stoker who probably wouldnt want his name on this thing anyway and nothing much for the rest of us except slasherstyled jolts and gore christopher plummer looks winded as van helsing in the moderndaynot just a descendant of van helsing but the real thing he keeps himself going with leeches obtained from count draculas corpse which is exhumed from its coffin after being stolen from van helsings vault and flown to new orleans this is just what new orleans needs in the st century the film wellproduced but without a single original idea except for multiracial victims is both repulsive and lazy and after about an hour starts repeating itself from</td>\n",
              "      <td>139.0</td>\n",
              "    </tr>\n",
              "    <tr>\n",
              "      <th>14</th>\n",
              "      <td>Hilarious, evocative, confusing, brilliant film. Reminds me of Bunuel's L'Age D'Or or Jodorowsky's Holy Mountain-- lots of strange characters mucking about and looking for..... what is it? I laughed almost the whole way through, all the while keeping a peripheral eye on the bewildered and occasionally horrified reactions of the audience that surrounded me in the theatre. Entertaining through and through, from the beginning to the guts and poisoned entrails all the way to the end, if it was an end. I only wish i could remember every detail. It haunts me sometimes.&lt;br /&gt;&lt;br /&gt;Honestly, though, i have only the most positive recollections of this film. As it doesn't seem to be available to take home and watch, i suppose i'll have to wait a few more years until Crispin Glover comes my way again with his Big Slide Show (and subsequent \"What is it?\" screening)... I saw this film in Atlanta almost directly after being involved in a rather devastating car crash, so i was slightly dazed at the time, which was perhaps a very good state of mind to watch the prophetic talking arthropods and the retards in the superhero costumes and godlike Glover in his appropriate burly-Q setting, scantily clad girlies rising out of the floor like a magnificent DADAist wet dream.&lt;br /&gt;&lt;br /&gt;Is it a statement on Life As We Know It? Of course everyone EXPECTS art to be just that. I rather think that the truth is more evident in the absences and in the negative space. What you don't tell us is what we must deduce, but is far more valid than the lies that other people feed us day in and day out. Rather one \"WHAT IS IT?\" than 5000 movies like \"Titanic\" or \"Sleepless in Seattle\" (shudder, gag, groan).&lt;br /&gt;&lt;br /&gt;Thank you, Mr. Glover (additionally a fun man to watch on screen or at his Big Slide Show-- smart, funny, quirky, and outrageously hot). Make more films, write more books, keep the nightmare alive.</td>\n",
              "      <td>1</td>\n",
              "      <td>hilarious evocative confusing brilliant film reminds me of bunuels lage dor or jodorowskys holy mountain lots of strange characters mucking about and looking for what is it i laughed almost the whole way through all the while keeping a peripheral eye on the bewildered and occasionally horrified reactions of the audience that surrounded me in the theatre entertaining through and through from the beginning to the guts and poisoned entrails all the way to the end if it was an end i only wish i could remember every detail it haunts me sometimeshonestly though i have only the most positive recollections of this film as it doesnt seem to be available to take home and watch i suppose ill have to wait a few more years until crispin glover comes my way again with his big slide show and subsequent what is it screening i saw this film in atlanta almost directly after being involved in a rather devastating car crash so i was slightly dazed at the time which was perhaps a very good state of mind to watch the prophetic talking arthropods and the retards in the superhero costumes and godlike glover in his appropriate burlyq setting scantily clad girlies rising out of the floor like a magnificent dadaist wet dreamis it a statement on life as we know it of course everyone expects art to be just that i rather think that the truth is more evident in the absences and in the negative space what you dont tell us is what we must deduce but is far more valid than the lies that other people feed us day in and day out rather one what is it than movies like titanic or sleepless in seattle shudder gag groanthank you mr glover additionally a fun man to watch on screen or at his big slide show smart funny quirky and outrageously hot make more films write more books keep the nightmare alive</td>\n",
              "      <td>325.0</td>\n",
              "    </tr>\n",
              "  </tbody>\n",
              "</table>\n",
              "</div>\n",
              "    <div class=\"colab-df-buttons\">\n",
              "\n",
              "  <div class=\"colab-df-container\">\n",
              "    <button class=\"colab-df-convert\" onclick=\"convertToInteractive('df-32179dbc-b945-4048-8c86-6f7e34fa3b26')\"\n",
              "            title=\"Convert this dataframe to an interactive table.\"\n",
              "            style=\"display:none;\">\n",
              "\n",
              "  <svg xmlns=\"http://www.w3.org/2000/svg\" height=\"24px\" viewBox=\"0 -960 960 960\">\n",
              "    <path d=\"M120-120v-720h720v720H120Zm60-500h600v-160H180v160Zm220 220h160v-160H400v160Zm0 220h160v-160H400v160ZM180-400h160v-160H180v160Zm440 0h160v-160H620v160ZM180-180h160v-160H180v160Zm440 0h160v-160H620v160Z\"/>\n",
              "  </svg>\n",
              "    </button>\n",
              "\n",
              "  <style>\n",
              "    .colab-df-container {\n",
              "      display:flex;\n",
              "      gap: 12px;\n",
              "    }\n",
              "\n",
              "    .colab-df-convert {\n",
              "      background-color: #E8F0FE;\n",
              "      border: none;\n",
              "      border-radius: 50%;\n",
              "      cursor: pointer;\n",
              "      display: none;\n",
              "      fill: #1967D2;\n",
              "      height: 32px;\n",
              "      padding: 0 0 0 0;\n",
              "      width: 32px;\n",
              "    }\n",
              "\n",
              "    .colab-df-convert:hover {\n",
              "      background-color: #E2EBFA;\n",
              "      box-shadow: 0px 1px 2px rgba(60, 64, 67, 0.3), 0px 1px 3px 1px rgba(60, 64, 67, 0.15);\n",
              "      fill: #174EA6;\n",
              "    }\n",
              "\n",
              "    .colab-df-buttons div {\n",
              "      margin-bottom: 4px;\n",
              "    }\n",
              "\n",
              "    [theme=dark] .colab-df-convert {\n",
              "      background-color: #3B4455;\n",
              "      fill: #D2E3FC;\n",
              "    }\n",
              "\n",
              "    [theme=dark] .colab-df-convert:hover {\n",
              "      background-color: #434B5C;\n",
              "      box-shadow: 0px 1px 3px 1px rgba(0, 0, 0, 0.15);\n",
              "      filter: drop-shadow(0px 1px 2px rgba(0, 0, 0, 0.3));\n",
              "      fill: #FFFFFF;\n",
              "    }\n",
              "  </style>\n",
              "\n",
              "    <script>\n",
              "      const buttonEl =\n",
              "        document.querySelector('#df-32179dbc-b945-4048-8c86-6f7e34fa3b26 button.colab-df-convert');\n",
              "      buttonEl.style.display =\n",
              "        google.colab.kernel.accessAllowed ? 'block' : 'none';\n",
              "\n",
              "      async function convertToInteractive(key) {\n",
              "        const element = document.querySelector('#df-32179dbc-b945-4048-8c86-6f7e34fa3b26');\n",
              "        const dataTable =\n",
              "          await google.colab.kernel.invokeFunction('convertToInteractive',\n",
              "                                                    [key], {});\n",
              "        if (!dataTable) return;\n",
              "\n",
              "        const docLinkHtml = 'Like what you see? Visit the ' +\n",
              "          '<a target=\"_blank\" href=https://colab.research.google.com/notebooks/data_table.ipynb>data table notebook</a>'\n",
              "          + ' to learn more about interactive tables.';\n",
              "        element.innerHTML = '';\n",
              "        dataTable['output_type'] = 'display_data';\n",
              "        await google.colab.output.renderOutput(dataTable, element);\n",
              "        const docLink = document.createElement('div');\n",
              "        docLink.innerHTML = docLinkHtml;\n",
              "        element.appendChild(docLink);\n",
              "      }\n",
              "    </script>\n",
              "  </div>\n",
              "\n",
              "\n",
              "<div id=\"df-c0906802-0060-44ab-a653-5eb48a776dd3\">\n",
              "  <button class=\"colab-df-quickchart\" onclick=\"quickchart('df-c0906802-0060-44ab-a653-5eb48a776dd3')\"\n",
              "            title=\"Suggest charts\"\n",
              "            style=\"display:none;\">\n",
              "\n",
              "<svg xmlns=\"http://www.w3.org/2000/svg\" height=\"24px\"viewBox=\"0 0 24 24\"\n",
              "     width=\"24px\">\n",
              "    <g>\n",
              "        <path d=\"M19 3H5c-1.1 0-2 .9-2 2v14c0 1.1.9 2 2 2h14c1.1 0 2-.9 2-2V5c0-1.1-.9-2-2-2zM9 17H7v-7h2v7zm4 0h-2V7h2v10zm4 0h-2v-4h2v4z\"/>\n",
              "    </g>\n",
              "</svg>\n",
              "  </button>\n",
              "\n",
              "<style>\n",
              "  .colab-df-quickchart {\n",
              "      --bg-color: #E8F0FE;\n",
              "      --fill-color: #1967D2;\n",
              "      --hover-bg-color: #E2EBFA;\n",
              "      --hover-fill-color: #174EA6;\n",
              "      --disabled-fill-color: #AAA;\n",
              "      --disabled-bg-color: #DDD;\n",
              "  }\n",
              "\n",
              "  [theme=dark] .colab-df-quickchart {\n",
              "      --bg-color: #3B4455;\n",
              "      --fill-color: #D2E3FC;\n",
              "      --hover-bg-color: #434B5C;\n",
              "      --hover-fill-color: #FFFFFF;\n",
              "      --disabled-bg-color: #3B4455;\n",
              "      --disabled-fill-color: #666;\n",
              "  }\n",
              "\n",
              "  .colab-df-quickchart {\n",
              "    background-color: var(--bg-color);\n",
              "    border: none;\n",
              "    border-radius: 50%;\n",
              "    cursor: pointer;\n",
              "    display: none;\n",
              "    fill: var(--fill-color);\n",
              "    height: 32px;\n",
              "    padding: 0;\n",
              "    width: 32px;\n",
              "  }\n",
              "\n",
              "  .colab-df-quickchart:hover {\n",
              "    background-color: var(--hover-bg-color);\n",
              "    box-shadow: 0 1px 2px rgba(60, 64, 67, 0.3), 0 1px 3px 1px rgba(60, 64, 67, 0.15);\n",
              "    fill: var(--button-hover-fill-color);\n",
              "  }\n",
              "\n",
              "  .colab-df-quickchart-complete:disabled,\n",
              "  .colab-df-quickchart-complete:disabled:hover {\n",
              "    background-color: var(--disabled-bg-color);\n",
              "    fill: var(--disabled-fill-color);\n",
              "    box-shadow: none;\n",
              "  }\n",
              "\n",
              "  .colab-df-spinner {\n",
              "    border: 2px solid var(--fill-color);\n",
              "    border-color: transparent;\n",
              "    border-bottom-color: var(--fill-color);\n",
              "    animation:\n",
              "      spin 1s steps(1) infinite;\n",
              "  }\n",
              "\n",
              "  @keyframes spin {\n",
              "    0% {\n",
              "      border-color: transparent;\n",
              "      border-bottom-color: var(--fill-color);\n",
              "      border-left-color: var(--fill-color);\n",
              "    }\n",
              "    20% {\n",
              "      border-color: transparent;\n",
              "      border-left-color: var(--fill-color);\n",
              "      border-top-color: var(--fill-color);\n",
              "    }\n",
              "    30% {\n",
              "      border-color: transparent;\n",
              "      border-left-color: var(--fill-color);\n",
              "      border-top-color: var(--fill-color);\n",
              "      border-right-color: var(--fill-color);\n",
              "    }\n",
              "    40% {\n",
              "      border-color: transparent;\n",
              "      border-right-color: var(--fill-color);\n",
              "      border-top-color: var(--fill-color);\n",
              "    }\n",
              "    60% {\n",
              "      border-color: transparent;\n",
              "      border-right-color: var(--fill-color);\n",
              "    }\n",
              "    80% {\n",
              "      border-color: transparent;\n",
              "      border-right-color: var(--fill-color);\n",
              "      border-bottom-color: var(--fill-color);\n",
              "    }\n",
              "    90% {\n",
              "      border-color: transparent;\n",
              "      border-bottom-color: var(--fill-color);\n",
              "    }\n",
              "  }\n",
              "</style>\n",
              "\n",
              "  <script>\n",
              "    async function quickchart(key) {\n",
              "      const quickchartButtonEl =\n",
              "        document.querySelector('#' + key + ' button');\n",
              "      quickchartButtonEl.disabled = true;  // To prevent multiple clicks.\n",
              "      quickchartButtonEl.classList.add('colab-df-spinner');\n",
              "      try {\n",
              "        const charts = await google.colab.kernel.invokeFunction(\n",
              "            'suggestCharts', [key], {});\n",
              "      } catch (error) {\n",
              "        console.error('Error during call to suggestCharts:', error);\n",
              "      }\n",
              "      quickchartButtonEl.classList.remove('colab-df-spinner');\n",
              "      quickchartButtonEl.classList.add('colab-df-quickchart-complete');\n",
              "    }\n",
              "    (() => {\n",
              "      let quickchartButtonEl =\n",
              "        document.querySelector('#df-c0906802-0060-44ab-a653-5eb48a776dd3 button');\n",
              "      quickchartButtonEl.style.display =\n",
              "        google.colab.kernel.accessAllowed ? 'block' : 'none';\n",
              "    })();\n",
              "  </script>\n",
              "</div>\n",
              "\n",
              "    </div>\n",
              "  </div>\n"
            ],
            "application/vnd.google.colaboratory.intrinsic+json": {
              "type": "dataframe",
              "variable_name": "df",
              "summary": "{\n  \"name\": \"df\",\n  \"rows\": 24904,\n  \"fields\": [\n    {\n      \"column\": \"content\",\n      \"properties\": {\n        \"dtype\": \"string\",\n        \"num_unique_values\": 24904,\n        \"samples\": [\n          \"\\\"Written on the Wind\\\" is an irresistible, wonderfully kinky film, as only director Sirk could have done it. The movie is submerged in a bucket full of Freudian symbols, weird melodramatics and colorful contrasts. The connection between financial success and moral decay is the film's main theme. Sirk seems to suggest that sexual dysfunction is one of the side effects of capitalism. However, I prefer to see the movie as a prime example of what Sirk could do with kitschy material. The palette of colors is particularly impressive. The acting in the film is great too. Rock Hudson and Lauren Bacall are terribly glamorous and give the film an aura of elegance, but the movie belongs to Robert Stack and Dorothy Malone (she deservedly won the Best Supporting Actress Oscar), who manage to keep the film at a boiling point. Kudos to Frank Skinner's pulsating score, Russell Metty's brilliant camera work (every single shot is a masterpiece in itself), and the production design department. Also, the title tune is a beauty. It's an unforgettable movie.\",\n          \"I happened to catch this movie on cable one afternoon. I have to admit that I've never been a big baseball fan, but I can sometimes get into a good sports-related movie. What I found more interesting was the depiction of the foster family system. As a therapist who has seen both the good and the bad of the community mental health and foster system, I though it was rather refreshing to see a movie that showed both the ups and downs of this system: people jumping from family to family, biological parents not always taking an active involvement, and transitions that can be but heart-wrenching and heart-melting. Joseph Gordon-Levitt and Danny Glover are the anchor of this film, and both bring very believable performances. Maybe it was just my emotional state, but I did find myself shedding a tear at the end of the film.\",\n          \"Panned by critics at the time but loved by the fans, this film has now become a classic. Mixing supposedly 'surreal' footage shot at John Lennon's home among other places with live footage of Marc Bolan & T.Rex at their very best, this film is not just a must for everyone who's liked Marc Bolan but gives a fascinating insight into the era.<br /><br />These were the times when Marc was hobnobbing with the likes of Ringo Starr of the Beatles [who directed it] and you can even find a brief spot from one Reg Dwight [Elton John to you] bashing the ivories in an amazing [and never officially released] version of Tutti Frutti and rocking and ballad versions of Children Of The Revolution.<br /><br />There's also wonderful scenes featuring Chelita Secunda [said to have 'created glam rock' with her use of glitter etc], Mickey Finn and even the actor from Catweazle!!<br /><br />The best scene for me is in the garden when Marc leaves the dining table, sits down cross-legged in front of a string section and knocks out acoustic versions of classics such as Get It On and The Slider.<br /><br />Highly, highly recommended!! FIVE stars [out of five].<br /><br />Rory\"\n        ],\n        \"semantic_type\": \"\",\n        \"description\": \"\"\n      }\n    },\n    {\n      \"column\": \"sentiment\",\n      \"properties\": {\n        \"dtype\": \"number\",\n        \"std\": 0,\n        \"min\": 0,\n        \"max\": 1,\n        \"num_unique_values\": 2,\n        \"samples\": [\n          1,\n          0\n        ],\n        \"semantic_type\": \"\",\n        \"description\": \"\"\n      }\n    },\n    {\n      \"column\": \"clean_content\",\n      \"properties\": {\n        \"dtype\": \"string\",\n        \"num_unique_values\": 24903,\n        \"samples\": [\n          \"hey now i cant claim to have seen all of the films of jesse jesus franco and there sure seem to be a lot of them but this is one of the better and weirder of the lot that i have seen id say most likely he was in his prime back in the late sixtiesearly seventies and anything lately has been a bit too strange for me and it takes a lot for me to declare that anyway this is like one big bad dream where parts of it seem to come true at various points this woman is an actress or something performs in some theater in berlin where acts of fake torture are performed for an appreciative audience and she seems to have this problem with dreaming the catch to whats real and whats not in this movie is apparently the real stuff is in sharp focus and the dream stuff isnt she seems to exist in a state of deja vu i wont say this makes a whole lot of sense but it is pretty wild and weird and entertaining shots of berlin make it seem like a lonely and creepy place so that adds to the atmosphere the ending is extremely abrupt though the film just ends and the tape went black i guess no need to let you know it was over at that point my copy was from the anchor bay eurotrash collection and i say give me more eurotrash i cant get enough of that crap but its good crap\",\n          \"i happened to catch this movie on cable one afternoon i have to admit that ive never been a big baseball fan but i can sometimes get into a good sportsrelated movie what i found more interesting was the depiction of the foster family system as a therapist who has seen both the good and the bad of the community mental health and foster system i though it was rather refreshing to see a movie that showed both the ups and downs of this system people jumping from family to family biological parents not always taking an active involvement and transitions that can be but heartwrenching and heartmelting joseph gordonlevitt and danny glover are the anchor of this film and both bring very believable performances maybe it was just my emotional state but i did find myself shedding a tear at the end of the film\"\n        ],\n        \"semantic_type\": \"\",\n        \"description\": \"\"\n      }\n    },\n    {\n      \"column\": \"len_of_x_train\",\n      \"properties\": {\n        \"dtype\": \"number\",\n        \"std\": 170.0148855789657,\n        \"min\": 11.0,\n        \"max\": 2441.0,\n        \"num_unique_values\": 965,\n        \"samples\": [\n          897.0,\n          378.0\n        ],\n        \"semantic_type\": \"\",\n        \"description\": \"\"\n      }\n    }\n  ]\n}"
            }
          },
          "metadata": {},
          "execution_count": 73
        }
      ],
      "source": [
        "df.head(15)"
      ]
    },
    {
      "cell_type": "code",
      "execution_count": 23,
      "metadata": {
        "id": "ovptUoNB0rCT"
      },
      "outputs": [],
      "source": [
        "def remove_emoticons(text):\n",
        "    # Pattern untuk mendeteksi emoticon\n",
        "    emoticon_pattern = re.compile(\"[\"\n",
        "        u\"\\U0001F600-\\U0001F64F\"  # Emoticon wajah\n",
        "        u\"\\U0001F300-\\U0001F5FF\"  # Simbol dan Piktogram\n",
        "        u\"\\U0001F680-\\U0001F6FF\"  # Transportasi dan Simbol\n",
        "        u\"\\U0001F1E0-\\U0001F1FF\"  # Bendera (flag)\n",
        "        u\"\\U00002702-\\U000027B0\"  # Lain-lain\n",
        "        u\"\\U000024C2-\\U0001F251\"\n",
        "        \"]+\", flags=re.UNICODE)\n",
        "    return emoticon_pattern.sub(r'', text)"
      ]
    },
    {
      "cell_type": "code",
      "execution_count": 24,
      "metadata": {
        "id": "DcrGiCe20r1L"
      },
      "outputs": [],
      "source": [
        "df['content']=df['content'].apply(remove_emoticons)"
      ]
    },
    {
      "cell_type": "code",
      "execution_count": 25,
      "metadata": {
        "id": "ufozCCN44PlA"
      },
      "outputs": [],
      "source": [
        "def preprocessing_text (text) :\n",
        "    #lowercase ngecilin huruf\n",
        "    text = text.lower()\n",
        "    #hapus kalimat yang bukan ASCII\n",
        "    text = re.sub(r'[^\\x00-\\x7F]', '', text)\n",
        "    #hapus format url\n",
        "    text = re.sub(r'http\\S+|www\\S+|https\\S+', '', text, flags=re.MULTILINE)\n",
        "    text = re.sub(r'http\\S+|www\\S+|https\\S+|[a-zA-Z0-9.-]+\\.(com|id|net|org|co|info|tv|io|xyz)\\S*', '', text, flags=re.MULTILINE)\n",
        "    text = re.sub(r'http\\S+|www\\S+|https\\S+|[a-zA-Z0-9.-]+\\.(com|id|net|org|co|info|tv|io|xyz|twitter\\.com|instagram\\.com|facebook\\.com)\\s*\\S*', '', text, flags=re.MULTILINE)\n",
        "    #hapus format tag html\n",
        "    text = re.sub(r'<.*?>', '', text)\n",
        "    #hapus tanda baca dan nomor\n",
        "    text = re.sub(r'[%s]' % re.escape(string.punctuation), '', text)\n",
        "    text = re.sub(r'\\d+', '', text)\n",
        "    #hapus spasi berlebih\n",
        "    text = re.sub(r'\\s+', ' ', text).strip()\n",
        "    #menghapus karakter berlebih (misalnya loooove harusnya love), meet\n",
        "    text = re.sub(r'(.)\\1{2,}', r'\\1', text)\n",
        "    text = re.sub(\"[^A-Za-z\\s']\",\" \", text) #Menghilangkan yang bukan huruf\n",
        "    text = re.sub(\"@[A-Za-z0-9_]+\",\" \", text) #Menghilangkan mention\n",
        "    text = re.sub(\"#[A-Za-z0-9_]+\",\" \", text) #Menghilangkan hashtag\n",
        "    # text = re.sub(\"rt\", \" \", text, flags=re.IGNORECASE) #menghilangkan RT\n",
        "    text = re.sub(r'(\\W)\\1+', r'\\1', text)  # Menghapus tanda baca yang berulang\n",
        "    text = re.sub(r'[^\\w\\s]', '', text)  # Menghapus semua tanda baca\n",
        "\n",
        "\n",
        "\n",
        "    return text"
      ]
    },
    {
      "cell_type": "code",
      "execution_count": 26,
      "metadata": {
        "id": "gteY9kQM4t1I"
      },
      "outputs": [],
      "source": [
        "df['clean_content']=df['content'].apply(preprocessing_text)"
      ]
    },
    {
      "cell_type": "code",
      "execution_count": 74,
      "metadata": {
        "id": "gmjz-mV35Jr3",
        "colab": {
          "base_uri": "https://localhost:8080/",
          "height": 1000
        },
        "outputId": "5bf565e6-dca4-451e-f4a0-b9dbd1086d84"
      },
      "outputs": [
        {
          "output_type": "execute_result",
          "data": {
            "text/plain": [
              "0                                                                                                                                                                                                                                                                                                                                                                                                                                                                                                                                                                                                                                                                                                                                                                                                                                                                                                                                                                                                                                                                                                                                                                                                                                                                                                                                                                                                                                                                                                                                                                                                                                                                                                                                                                                                                                                                                                                                                                                                                                                                                                                                                                                                                                                                                                                                                                    this was an absolutely terrible movie dont be lured in by christopher walken or michael ironside both are great actors but this must simply be their worst role in history even their great acting could not redeem this movies ridiculous storyline this movie is an early nineties us propaganda piece the most pathetic scenes were those when the columbian rebels were making their cases for revolutions maria conchita alonso appeared phony and her pseudolove affair with walken was nothing but a pathetic emotional plug in a movie that was devoid of any real meaning i am disappointed that there are movies like this ruining actors like christopher walkens good name i could barely sit through it\n",
              "1                                                                                                                                                                                                                                                                                                                                                                                                                                                                                                                                                                                                                                                                                                                                                                                                                                                                                                                                                                                                                                                                                                                                                                                                                                                                                                                                                                                                                                                                                                                                                                                                                                                                                                                                                                                                                                                                                                                                                                                                                                                                                                                                                                                                                                                                                                                                                                                                                                                            i have been known to fall asleep during films but this is usually due to a combination of things including really tired being warm and comfortable on the sette and having just eaten a lot however on this occasion i fell asleep because the film was rubbish the plot development was constant constantly slow and boring things seemed to happen but with no explanation of what was causing them or why i admit i may have missed part of the film but i watched the majority of it and everything just seemed to happen of its own accord without any real concern for anything else i cant recommend this film at all\n",
              "2                                                                                                                                                                                                                                                                                                                                                                                                                                                                                                                                                                                                                                                                                                                                                                                                                                                                                                                                                                                                                                                                                                                                                                                                                                                                                                                                                                                                                                                                                                                                                                                                                                                                                                                                                                                                                                                                                                                                                                                                                                                                                                                                                                                                                                                                                                                          mann photographs the alberta rocky mountains in a superb fashion and jimmy stewart and walter brennan give enjoyable performances as they always seem to do but come on hollywood a mountie telling the people of dawson city yukon to elect themselves a marshal yes a marshal and to enforce the law themselves then gunfighters battling it out on the streets for control of the town nothing even remotely resembling that happened on the canadian side of the border during the klondike gold rush mr mann and company appear to have mistaken dawson city for deadwood the canadian north for the american wild westcanadian viewers be prepared for a reefer madness type of enjoyable howl with this ludicrous plot or to shake your head in disgust\n",
              "3                                                                                                                                                                                                                                                                                                                                                                                                                                                                                                                                                                                                                                                                                                                                                                                                                                                                                                                                                                                                                                                                                                                                                                                                                                                                                                                                                                                                                                                                                                                                                                                                                                                                                                                                                                                                                                                                                                                                                                                                                                                                                                                                                                                                                                                                                                                                                                                                                                                                                                                                                                                                                 this is the kind of film for a snowy sunday afternoon when the rest of the world can go ahead with its own business as you descend into a big armchair and mellow for a couple of hours wonderful performances from cher and nicolas cage as always gently row the plot along there are no rapids to cross no dangerous waters just a warm and witty paddle through new york life at its best a family film in every sense and one that deserves the praise it received\n",
              "4                                                                                                                                                                                                                                                                                                                                                                                                                                                                                                                                                                                                                                                                                                                                                                                                                                                                                                                                                                                                                                                                                                                                                                                                                                                                                                                                                                                                                                                                                                                                                                                                                                                                                                                                                                                                                                                                                                                                                                                                                                                                                                                                                                                                                                                                                                                                                                                                                                                                                                                                                                                                                                                                           as others have mentioned all the women that go nude in this film are mostly absolutely gorgeous the plot very ably shows the hypocrisy of the female libido when men are around they want to be pursued but when no men are around they become the pursuers of a year old boy and the boy becomes a man really fast we should all be so lucky at this age he then gets up the courage to pursue his true love\n",
              "5                                                                                                                                                                                                                                                                                                                                                                                                                                                                                                                                                                                                                                                                                                                                                                                                                                                                                                                                                                                                                                                                                                                                                                                                                                                                                                                                                                                       this is a film which should be seen by anybody interested in effected by or suffering from an eating disorder it is an amazingly accurate and sensitive portrayal of bulimia in a teenage girl its causes and its symptoms the girl is played by one of the most brilliant young actresses working in cinema today alison lohman who was later so spectacular in where the truth lies i would recommend that this film be shown in all schools as you will never see a better on this subject alison lohman is absolutely outstanding and one marvels at her ability to convey the anguish of a girl suffering from this compulsive disorder if barometers tell us the air pressure alison lohman tells us the emotional pressure with the same degree of accuracy her emotional range is so precise each scene could be measured microscopically for its gradations of trauma on a scale of rising hysteria and desperation which reaches unbearable intensity mare winningham is the perfect choice to play her mother and does so with immense sympathy and a range of emotions just as finely tuned as lohmans together they make a pair of sensitive emotional oscillators vibrating in resonance with one another this film is really an astonishing achievement and director katt shea should be proud of it the only reason for not seeing it is if you are not interested in people but even if you like nature films best this is after all animal behaviour at the sharp edge bulimia is an extreme version of how a tormented soul can destroy her own body in a frenzy of despair and if we dont sympathise with people suffering from the depths of despair then we are dead inside\n",
              "6                                                                                         okay you havepenelope keith as miss herringbonetweed bbe backbone of england shes killed off in the first scene thats right folks this show has no backbonepeter otoole as ol colonel cricket from the first war and now the emblazered lord of the manorjoanna lumley as the ensweatered lady of the manor years younger than the colonel and years past her own prime but still glamourous brit spelling not mine enough to have a toyboy on the side its alright they have col crickets full knowledge and consent they guy even comes round for christmas still shes considerate of the colonel enough to have said toyboy her own age what a galdavid mccallum as said toyboy equally as pointlessly glamourous as his squeeze pilcher couldnt come up with any cover for him within the story so she gave him a hushhush job at the circusand finallysusan hampshire as miss polonia teacups venerable headmistress of the venerable girls boardingschool serving tea in her office with a dash of deep poignant advice for life in the outside world just before graduation her best bit of advice ive only been to nancherrow the local stately home of england once i thought it was very beautiful but somehow not part of the real world well we cant say they didnt warn usah susan time was your character would have been running the whole show they dont write em like that any more our loss not yoursso with a cast and setting like this you have the remakings of brideshead revisited rightwrong they took these dimensional supporting roles because they paid so well after all acting is one of the oldest tempjobs there is you name anotherfirst warning sign lots and lots of backlighting they get around it by shooting outdoors hey its just the sunlightsecond warning sign leading lady cries a lot when not crying her eyes are moist thats the law of romance novels leading lady is dewyeyedhenceforth leading lady shall be known as llthird warning sign ll actually has stars in her eyes when shes in love still ill give emily mortimer an award just for having to act with that spotlight in her eyes i wonder did they use contactsand lastly fourth warning sign no onscreen female character is mrs shes either miss or ladywhen all was said and done i still couldnt tell you who was pursuing whom and why i couldnt even tell you what was said and doneto sum up they all live through world war ii without anything happening to them at allok at the end ll finds shes lost her parents to the japanese prison camps and baby sis comes home catatonic meanwhile theres always a meanwhile some young guy ll had a crush on when i dont know comes home from some wartime tough spot and is found living on the street by lady of the manor must be some street if shes going to find him there both war casualties are whisked away to recover at nancherrow somebody has to be whisked away somewhere in these romance storiesgreat drama\n",
              "7                                                                                                                                                                                                                                                                                                                                                                                                                                                                                                                                                                                                                                                                                                                                                                                                                                                                                                                                                                                                                                                                                                                                                                                                                                                                                                                                                                                                                                                                                                                                                                                                                                                                                                                                                                                                                                                                                                                                                                                                                                                                                                                                                                                                                                                                                                                                                                                                                                                                the film is based on a genuine s noveljournalist colin mcinnes wrote a set of three london novels absolute beginners city of spades and mr love and justice i have read all three the first two are excellent the last perhaps an experiment that did not come off but mcinness work is highly acclaimed and rightly so this musical is the novelists ultimate nightmare to see the fruits of ones mind being turned into a glitzy badlyacted soporific onedimensional apology of a film that says it captures the spirit of s london and does nothing of the sortthank goodness colin mcinnes wasnt alive to witness it\n",
              "8                                                                                                                                                                                                                                                                                                                                                                                                                                                                                                                                                                                                                                                                                                                                                                                                                                                                                                                                                                                                                                                                                                                                                                                                                                                                                                                                                                                                                                                                                                                                                                                                                                                                                                                                                                                                                                                            i really love the sexy action and scifi films of the sixties and its because of the actres that appeared in them they found the sexiest women to be in these films and it didnt matter if they could act remember candy the reason i was disappointed by this film was because it wasnt nostalgic enough the story here has a european scifi film called dragonfly being made and the director is fired so the producers decide to let a young aspiring filmmaker jeremy davies to complete the picture theyre is one real beautiful woman in the film who plays dragonfly but shes barely in it film is written and directed by roman coppola who uses some of his fathers exploits from his early days and puts it into the script i wish the film could have been an homage to those early films they could have lots of cameos by actors who appeared in them there is one actor in this film who was popular from the sixties and its john phillip law barbarella gerard depardieu giancarlo giannini and dean stockwell appear as well i guess im going to have to continue waiting for a director to make a good homage to the films of the sixties if any are reading this make it as sexy as you can ill be waiting\n",
              "9                                                                                                                                                                                                                                                                                                                                                                                                                                                                                                                                                                                                                                                                                                                                                                                                                                                                                                                                                                                                                                                                                                                                                                                                                                                                                                                                                                                                                                                                                                                                                                                                                                                                                                                                                                                                                                                                                                                                                                                                                                                                                                                                                                                                                                                                                                                                                                                            sure this one isnt really a blockbuster nor does it target such a position dieter is the first name of a quite popular german musician who is either loved or hated for his kind of acting and thats exactly what this movie is about it is based on the autobiography dieter bohlen wrote a few years ago but isnt meant to be accurate on that the movie is filled with some sexual offensive content at least for american standard which is either amusing not for the other actors of course or dumb it depends on your individual kind of humor or on you being a bohlenfan or not technically speaking there isnt much to criticize speaking of me i find this movie to be an okmovie\n",
              "10                                                                                                                                                                                                                                                                                                                                                                                                                                                                                                                                                                                                                                                                                                                                                                                                                                                                                                                                                                                                                                                                                                                                                                                                                                                                                                                                                                                                                                                                                                                                                                                                                                                                                                                                                                                                                                                                                                                                                                                                                                                                                                                                                                                                                                                 during a sleepless night i was switching through the channels found this embarrassment of a movie what were they thinkingif this is life after remote control for kari wuhrer salin no wonder shes gone nowhereand why did david keith take this role its patheticanyway i turned on the movie near the end so i didnt get much of the plot but this mustve been the best part this nerdy college kid brings home this dominatrixish girlthis scene is straight out of the comic books or the cheap porn movies she calls the mother anal retentive and kisses the father oh i didnt expect tongue great linesafter this i had to see how it endedwell of course this bitch from hell has a helluva past so the swat team is upstairs and yesthey surround her and yes yes the kid blows her brains out ahahhahahahathis is mustsee tv\n",
              "11                                                                                                                                                                                                                                                                                                                                                                                                                                                                                                                                                                                                                                                                                                                                                                                                                                                                                                                                                                                                                                                                                                                                                                                                                                                                                                                                                                                                                                                                                                                                        cute film about three lively sisters from switzerland often seen running about in matching outfits who want to get their parents back together seems mom is still carrying the torch for dad so they sail off to new york to stop the dad from marrying a blonde golddigger he calls precious dad hasnt seen his daughters in ten years they oddly enough dont seem to mind and think hes wonderful and meanwhile precious seems to lead a life mainly run by her overbearing mother alice brady a woman who just wants to see to it her daughter marries a rich man the sisters get the idea of pushing precious into the path of a drunken hungarian count tricking the two golddigging women into thinking he is one of the richest men in europe but a case of mistaken identity makes the girls think the count is goodlooking ray milland who goes along with the scheme cause he has a crush on sister kaythis film is enjoyable light fare barbara read as kay comes across as sweet and pretty ray milland looks oh so young and handsome here though unfortunately is given little to do alice brady is quite good as the scheming mother but it is deanna durbin a real charmer and cute as a button playing youngest sister penny who pretty much steals the show with absolutely beautiful vocals she sings several songs throughout the film though i actually would have liked to have seen them feature her even more in this the plot in this film is a bit silly but nevertheless i found the film to be entertaining and fun\n",
              "12    this version of the dickens classic a christmas carol directed by clive donner stars george c scott as ebenezer scrooge by this time around the challenge for the filmmaker was to take such familiar material and make it seem fresh and new again and happily to say with this film donner not only met the challenge but surpassed any expectations anyone might have had for it he tells the story with precision and an eye to detail and extracts performances from his actors that are nothing less than superlative especially scott one could argue that the definitive portrayal of scrooge one of the best known characters in literary fiction ever was created by alastair sim in the film but i think with his performance here scott has now achieved that distinction there is such a purity and honesty in his scrooge that it becomes difficult to even consider anyone else in the role once youve seen scott do it simply put he is scrooge and what a tribute it is to such a gifted actor to be able to take such a well known figure and make it so uniquely his own is quite miraculous it is truly a joy to see an actor ply his trade so well to be able to make a character so real from every word he utters down to the finest expression of his face and to make it all ring so true its a study in perfectionthe other members of the cast are splendid as well but then again they have to be in order to maintain the integrity of scotts performance and they do frank finlay is the ghost of jacob marley a notable turn though not as memorable perhaps as the one by alec guinness as marley in the film scrooge angela pleasence is a welcome visage as the spirit of christmas past edward woodward grand and boisterous and altogether convincing as the spirit of christmas present and michael carter grim and menacing as the spirit of christmas yet to comedavid warner hits just the right mark with his bob cratchit bringing a sincerity to the role that measures up well to the standard of quality set by scotts scrooge and susannah york fares just as well as mrs cratchit the real gem to be found here though is the performance of young anthony walters as tiny tim its heartfelt without ever becoming maudlin and simply one of the best interpretations and the most real ever presented on filmthe excellent supporting cast includes roger rees fred holywell and also the narrator of the film caroline langrishe janet holywell lucy gutteridge belle michael gough mr poole and joanne whalley fan a flawless presentation this version of a christmas carol sets the standard against which all others must be gauged no matter how many versions you may have seen watching this one is like seeing it for the first time ever and forever after whenever you think of scrooge the image your mind will conjure up will be that of george c scott a thoroughly entertaining and satisfying experience this film demands a place in the annual schedule of the holiday festivities of every home i rate this one\n",
              "13                                                                                                                                                                                                                                                                                                                                                                                                                                                                                                                                                                                                                                                                                                                                                                                                                                                                                                                                                                                                                                                                                                                                                                                                                                                                                                                                                                                                                                                                                                                                                                                                                                                                                                                                                                                                                                                                                                                                                                                                                                                                                                                                                                                                                            put the blame on executive producer wes craven and financiers the weinsteins for this bigbudget debacle a thrashmetal updating of dracula with a condescending verbal jab at bram stoker who probably wouldnt want his name on this thing anyway and nothing much for the rest of us except slasherstyled jolts and gore christopher plummer looks winded as van helsing in the moderndaynot just a descendant of van helsing but the real thing he keeps himself going with leeches obtained from count draculas corpse which is exhumed from its coffin after being stolen from van helsings vault and flown to new orleans this is just what new orleans needs in the st century the film wellproduced but without a single original idea except for multiracial victims is both repulsive and lazy and after about an hour starts repeating itself from\n",
              "14                                                                                                                                                                                                                                                                                                                                                                                                                                                                                                                                                                                                                                                                                                                                                                                                                                                                                                                                                                                                                                                                                                                                                                                                                         hilarious evocative confusing brilliant film reminds me of bunuels lage dor or jodorowskys holy mountain lots of strange characters mucking about and looking for what is it i laughed almost the whole way through all the while keeping a peripheral eye on the bewildered and occasionally horrified reactions of the audience that surrounded me in the theatre entertaining through and through from the beginning to the guts and poisoned entrails all the way to the end if it was an end i only wish i could remember every detail it haunts me sometimeshonestly though i have only the most positive recollections of this film as it doesnt seem to be available to take home and watch i suppose ill have to wait a few more years until crispin glover comes my way again with his big slide show and subsequent what is it screening i saw this film in atlanta almost directly after being involved in a rather devastating car crash so i was slightly dazed at the time which was perhaps a very good state of mind to watch the prophetic talking arthropods and the retards in the superhero costumes and godlike glover in his appropriate burlyq setting scantily clad girlies rising out of the floor like a magnificent dadaist wet dreamis it a statement on life as we know it of course everyone expects art to be just that i rather think that the truth is more evident in the absences and in the negative space what you dont tell us is what we must deduce but is far more valid than the lies that other people feed us day in and day out rather one what is it than movies like titanic or sleepless in seattle shudder gag groanthank you mr glover additionally a fun man to watch on screen or at his big slide show smart funny quirky and outrageously hot make more films write more books keep the nightmare alive\n",
              "Name: clean_content, dtype: object"
            ],
            "text/html": [
              "<div>\n",
              "<style scoped>\n",
              "    .dataframe tbody tr th:only-of-type {\n",
              "        vertical-align: middle;\n",
              "    }\n",
              "\n",
              "    .dataframe tbody tr th {\n",
              "        vertical-align: top;\n",
              "    }\n",
              "\n",
              "    .dataframe thead th {\n",
              "        text-align: right;\n",
              "    }\n",
              "</style>\n",
              "<table border=\"1\" class=\"dataframe\">\n",
              "  <thead>\n",
              "    <tr style=\"text-align: right;\">\n",
              "      <th></th>\n",
              "      <th>clean_content</th>\n",
              "    </tr>\n",
              "  </thead>\n",
              "  <tbody>\n",
              "    <tr>\n",
              "      <th>0</th>\n",
              "      <td>this was an absolutely terrible movie dont be lured in by christopher walken or michael ironside both are great actors but this must simply be their worst role in history even their great acting could not redeem this movies ridiculous storyline this movie is an early nineties us propaganda piece the most pathetic scenes were those when the columbian rebels were making their cases for revolutions maria conchita alonso appeared phony and her pseudolove affair with walken was nothing but a pathetic emotional plug in a movie that was devoid of any real meaning i am disappointed that there are movies like this ruining actors like christopher walkens good name i could barely sit through it</td>\n",
              "    </tr>\n",
              "    <tr>\n",
              "      <th>1</th>\n",
              "      <td>i have been known to fall asleep during films but this is usually due to a combination of things including really tired being warm and comfortable on the sette and having just eaten a lot however on this occasion i fell asleep because the film was rubbish the plot development was constant constantly slow and boring things seemed to happen but with no explanation of what was causing them or why i admit i may have missed part of the film but i watched the majority of it and everything just seemed to happen of its own accord without any real concern for anything else i cant recommend this film at all</td>\n",
              "    </tr>\n",
              "    <tr>\n",
              "      <th>2</th>\n",
              "      <td>mann photographs the alberta rocky mountains in a superb fashion and jimmy stewart and walter brennan give enjoyable performances as they always seem to do but come on hollywood a mountie telling the people of dawson city yukon to elect themselves a marshal yes a marshal and to enforce the law themselves then gunfighters battling it out on the streets for control of the town nothing even remotely resembling that happened on the canadian side of the border during the klondike gold rush mr mann and company appear to have mistaken dawson city for deadwood the canadian north for the american wild westcanadian viewers be prepared for a reefer madness type of enjoyable howl with this ludicrous plot or to shake your head in disgust</td>\n",
              "    </tr>\n",
              "    <tr>\n",
              "      <th>3</th>\n",
              "      <td>this is the kind of film for a snowy sunday afternoon when the rest of the world can go ahead with its own business as you descend into a big armchair and mellow for a couple of hours wonderful performances from cher and nicolas cage as always gently row the plot along there are no rapids to cross no dangerous waters just a warm and witty paddle through new york life at its best a family film in every sense and one that deserves the praise it received</td>\n",
              "    </tr>\n",
              "    <tr>\n",
              "      <th>4</th>\n",
              "      <td>as others have mentioned all the women that go nude in this film are mostly absolutely gorgeous the plot very ably shows the hypocrisy of the female libido when men are around they want to be pursued but when no men are around they become the pursuers of a year old boy and the boy becomes a man really fast we should all be so lucky at this age he then gets up the courage to pursue his true love</td>\n",
              "    </tr>\n",
              "    <tr>\n",
              "      <th>5</th>\n",
              "      <td>this is a film which should be seen by anybody interested in effected by or suffering from an eating disorder it is an amazingly accurate and sensitive portrayal of bulimia in a teenage girl its causes and its symptoms the girl is played by one of the most brilliant young actresses working in cinema today alison lohman who was later so spectacular in where the truth lies i would recommend that this film be shown in all schools as you will never see a better on this subject alison lohman is absolutely outstanding and one marvels at her ability to convey the anguish of a girl suffering from this compulsive disorder if barometers tell us the air pressure alison lohman tells us the emotional pressure with the same degree of accuracy her emotional range is so precise each scene could be measured microscopically for its gradations of trauma on a scale of rising hysteria and desperation which reaches unbearable intensity mare winningham is the perfect choice to play her mother and does so with immense sympathy and a range of emotions just as finely tuned as lohmans together they make a pair of sensitive emotional oscillators vibrating in resonance with one another this film is really an astonishing achievement and director katt shea should be proud of it the only reason for not seeing it is if you are not interested in people but even if you like nature films best this is after all animal behaviour at the sharp edge bulimia is an extreme version of how a tormented soul can destroy her own body in a frenzy of despair and if we dont sympathise with people suffering from the depths of despair then we are dead inside</td>\n",
              "    </tr>\n",
              "    <tr>\n",
              "      <th>6</th>\n",
              "      <td>okay you havepenelope keith as miss herringbonetweed bbe backbone of england shes killed off in the first scene thats right folks this show has no backbonepeter otoole as ol colonel cricket from the first war and now the emblazered lord of the manorjoanna lumley as the ensweatered lady of the manor years younger than the colonel and years past her own prime but still glamourous brit spelling not mine enough to have a toyboy on the side its alright they have col crickets full knowledge and consent they guy even comes round for christmas still shes considerate of the colonel enough to have said toyboy her own age what a galdavid mccallum as said toyboy equally as pointlessly glamourous as his squeeze pilcher couldnt come up with any cover for him within the story so she gave him a hushhush job at the circusand finallysusan hampshire as miss polonia teacups venerable headmistress of the venerable girls boardingschool serving tea in her office with a dash of deep poignant advice for life in the outside world just before graduation her best bit of advice ive only been to nancherrow the local stately home of england once i thought it was very beautiful but somehow not part of the real world well we cant say they didnt warn usah susan time was your character would have been running the whole show they dont write em like that any more our loss not yoursso with a cast and setting like this you have the remakings of brideshead revisited rightwrong they took these dimensional supporting roles because they paid so well after all acting is one of the oldest tempjobs there is you name anotherfirst warning sign lots and lots of backlighting they get around it by shooting outdoors hey its just the sunlightsecond warning sign leading lady cries a lot when not crying her eyes are moist thats the law of romance novels leading lady is dewyeyedhenceforth leading lady shall be known as llthird warning sign ll actually has stars in her eyes when shes in love still ill give emily mortimer an award just for having to act with that spotlight in her eyes i wonder did they use contactsand lastly fourth warning sign no onscreen female character is mrs shes either miss or ladywhen all was said and done i still couldnt tell you who was pursuing whom and why i couldnt even tell you what was said and doneto sum up they all live through world war ii without anything happening to them at allok at the end ll finds shes lost her parents to the japanese prison camps and baby sis comes home catatonic meanwhile theres always a meanwhile some young guy ll had a crush on when i dont know comes home from some wartime tough spot and is found living on the street by lady of the manor must be some street if shes going to find him there both war casualties are whisked away to recover at nancherrow somebody has to be whisked away somewhere in these romance storiesgreat drama</td>\n",
              "    </tr>\n",
              "    <tr>\n",
              "      <th>7</th>\n",
              "      <td>the film is based on a genuine s noveljournalist colin mcinnes wrote a set of three london novels absolute beginners city of spades and mr love and justice i have read all three the first two are excellent the last perhaps an experiment that did not come off but mcinness work is highly acclaimed and rightly so this musical is the novelists ultimate nightmare to see the fruits of ones mind being turned into a glitzy badlyacted soporific onedimensional apology of a film that says it captures the spirit of s london and does nothing of the sortthank goodness colin mcinnes wasnt alive to witness it</td>\n",
              "    </tr>\n",
              "    <tr>\n",
              "      <th>8</th>\n",
              "      <td>i really love the sexy action and scifi films of the sixties and its because of the actres that appeared in them they found the sexiest women to be in these films and it didnt matter if they could act remember candy the reason i was disappointed by this film was because it wasnt nostalgic enough the story here has a european scifi film called dragonfly being made and the director is fired so the producers decide to let a young aspiring filmmaker jeremy davies to complete the picture theyre is one real beautiful woman in the film who plays dragonfly but shes barely in it film is written and directed by roman coppola who uses some of his fathers exploits from his early days and puts it into the script i wish the film could have been an homage to those early films they could have lots of cameos by actors who appeared in them there is one actor in this film who was popular from the sixties and its john phillip law barbarella gerard depardieu giancarlo giannini and dean stockwell appear as well i guess im going to have to continue waiting for a director to make a good homage to the films of the sixties if any are reading this make it as sexy as you can ill be waiting</td>\n",
              "    </tr>\n",
              "    <tr>\n",
              "      <th>9</th>\n",
              "      <td>sure this one isnt really a blockbuster nor does it target such a position dieter is the first name of a quite popular german musician who is either loved or hated for his kind of acting and thats exactly what this movie is about it is based on the autobiography dieter bohlen wrote a few years ago but isnt meant to be accurate on that the movie is filled with some sexual offensive content at least for american standard which is either amusing not for the other actors of course or dumb it depends on your individual kind of humor or on you being a bohlenfan or not technically speaking there isnt much to criticize speaking of me i find this movie to be an okmovie</td>\n",
              "    </tr>\n",
              "    <tr>\n",
              "      <th>10</th>\n",
              "      <td>during a sleepless night i was switching through the channels found this embarrassment of a movie what were they thinkingif this is life after remote control for kari wuhrer salin no wonder shes gone nowhereand why did david keith take this role its patheticanyway i turned on the movie near the end so i didnt get much of the plot but this mustve been the best part this nerdy college kid brings home this dominatrixish girlthis scene is straight out of the comic books or the cheap porn movies she calls the mother anal retentive and kisses the father oh i didnt expect tongue great linesafter this i had to see how it endedwell of course this bitch from hell has a helluva past so the swat team is upstairs and yesthey surround her and yes yes the kid blows her brains out ahahhahahahathis is mustsee tv</td>\n",
              "    </tr>\n",
              "    <tr>\n",
              "      <th>11</th>\n",
              "      <td>cute film about three lively sisters from switzerland often seen running about in matching outfits who want to get their parents back together seems mom is still carrying the torch for dad so they sail off to new york to stop the dad from marrying a blonde golddigger he calls precious dad hasnt seen his daughters in ten years they oddly enough dont seem to mind and think hes wonderful and meanwhile precious seems to lead a life mainly run by her overbearing mother alice brady a woman who just wants to see to it her daughter marries a rich man the sisters get the idea of pushing precious into the path of a drunken hungarian count tricking the two golddigging women into thinking he is one of the richest men in europe but a case of mistaken identity makes the girls think the count is goodlooking ray milland who goes along with the scheme cause he has a crush on sister kaythis film is enjoyable light fare barbara read as kay comes across as sweet and pretty ray milland looks oh so young and handsome here though unfortunately is given little to do alice brady is quite good as the scheming mother but it is deanna durbin a real charmer and cute as a button playing youngest sister penny who pretty much steals the show with absolutely beautiful vocals she sings several songs throughout the film though i actually would have liked to have seen them feature her even more in this the plot in this film is a bit silly but nevertheless i found the film to be entertaining and fun</td>\n",
              "    </tr>\n",
              "    <tr>\n",
              "      <th>12</th>\n",
              "      <td>this version of the dickens classic a christmas carol directed by clive donner stars george c scott as ebenezer scrooge by this time around the challenge for the filmmaker was to take such familiar material and make it seem fresh and new again and happily to say with this film donner not only met the challenge but surpassed any expectations anyone might have had for it he tells the story with precision and an eye to detail and extracts performances from his actors that are nothing less than superlative especially scott one could argue that the definitive portrayal of scrooge one of the best known characters in literary fiction ever was created by alastair sim in the film but i think with his performance here scott has now achieved that distinction there is such a purity and honesty in his scrooge that it becomes difficult to even consider anyone else in the role once youve seen scott do it simply put he is scrooge and what a tribute it is to such a gifted actor to be able to take such a well known figure and make it so uniquely his own is quite miraculous it is truly a joy to see an actor ply his trade so well to be able to make a character so real from every word he utters down to the finest expression of his face and to make it all ring so true its a study in perfectionthe other members of the cast are splendid as well but then again they have to be in order to maintain the integrity of scotts performance and they do frank finlay is the ghost of jacob marley a notable turn though not as memorable perhaps as the one by alec guinness as marley in the film scrooge angela pleasence is a welcome visage as the spirit of christmas past edward woodward grand and boisterous and altogether convincing as the spirit of christmas present and michael carter grim and menacing as the spirit of christmas yet to comedavid warner hits just the right mark with his bob cratchit bringing a sincerity to the role that measures up well to the standard of quality set by scotts scrooge and susannah york fares just as well as mrs cratchit the real gem to be found here though is the performance of young anthony walters as tiny tim its heartfelt without ever becoming maudlin and simply one of the best interpretations and the most real ever presented on filmthe excellent supporting cast includes roger rees fred holywell and also the narrator of the film caroline langrishe janet holywell lucy gutteridge belle michael gough mr poole and joanne whalley fan a flawless presentation this version of a christmas carol sets the standard against which all others must be gauged no matter how many versions you may have seen watching this one is like seeing it for the first time ever and forever after whenever you think of scrooge the image your mind will conjure up will be that of george c scott a thoroughly entertaining and satisfying experience this film demands a place in the annual schedule of the holiday festivities of every home i rate this one</td>\n",
              "    </tr>\n",
              "    <tr>\n",
              "      <th>13</th>\n",
              "      <td>put the blame on executive producer wes craven and financiers the weinsteins for this bigbudget debacle a thrashmetal updating of dracula with a condescending verbal jab at bram stoker who probably wouldnt want his name on this thing anyway and nothing much for the rest of us except slasherstyled jolts and gore christopher plummer looks winded as van helsing in the moderndaynot just a descendant of van helsing but the real thing he keeps himself going with leeches obtained from count draculas corpse which is exhumed from its coffin after being stolen from van helsings vault and flown to new orleans this is just what new orleans needs in the st century the film wellproduced but without a single original idea except for multiracial victims is both repulsive and lazy and after about an hour starts repeating itself from</td>\n",
              "    </tr>\n",
              "    <tr>\n",
              "      <th>14</th>\n",
              "      <td>hilarious evocative confusing brilliant film reminds me of bunuels lage dor or jodorowskys holy mountain lots of strange characters mucking about and looking for what is it i laughed almost the whole way through all the while keeping a peripheral eye on the bewildered and occasionally horrified reactions of the audience that surrounded me in the theatre entertaining through and through from the beginning to the guts and poisoned entrails all the way to the end if it was an end i only wish i could remember every detail it haunts me sometimeshonestly though i have only the most positive recollections of this film as it doesnt seem to be available to take home and watch i suppose ill have to wait a few more years until crispin glover comes my way again with his big slide show and subsequent what is it screening i saw this film in atlanta almost directly after being involved in a rather devastating car crash so i was slightly dazed at the time which was perhaps a very good state of mind to watch the prophetic talking arthropods and the retards in the superhero costumes and godlike glover in his appropriate burlyq setting scantily clad girlies rising out of the floor like a magnificent dadaist wet dreamis it a statement on life as we know it of course everyone expects art to be just that i rather think that the truth is more evident in the absences and in the negative space what you dont tell us is what we must deduce but is far more valid than the lies that other people feed us day in and day out rather one what is it than movies like titanic or sleepless in seattle shudder gag groanthank you mr glover additionally a fun man to watch on screen or at his big slide show smart funny quirky and outrageously hot make more films write more books keep the nightmare alive</td>\n",
              "    </tr>\n",
              "  </tbody>\n",
              "</table>\n",
              "</div><br><label><b>dtype:</b> object</label>"
            ]
          },
          "metadata": {},
          "execution_count": 74
        }
      ],
      "source": [
        "df['clean_content'].head(15)"
      ]
    },
    {
      "cell_type": "code",
      "execution_count": 28,
      "metadata": {
        "id": "91l5u5Nk1X-7",
        "colab": {
          "base_uri": "https://localhost:8080/"
        },
        "outputId": "b7105a3d-efc9-4a32-e0e9-b18dea15c02d"
      },
      "outputs": [
        {
          "output_type": "stream",
          "name": "stdout",
          "text": [
            "Summary of issues:\n",
            "            Issue  Count\n",
            "0             url      0\n",
            "1       html_tags      0\n",
            "2         mention      0\n",
            "3         hashtag      0\n",
            "4          emojis      0\n",
            "5       non_ascii      0\n",
            "6  repeated_chars      0\n",
            "7         numbers      0\n"
          ]
        }
      ],
      "source": [
        "df[\"issues\"] = df[\"clean_content\"].apply(detect_issues)\n",
        "summary = {\n",
        "    issue: df[\"issues\"].apply(lambda x: x[issue]).sum()\n",
        "    for issue in [\"url\", \"html_tags\", \"mention\", \"hashtag\", \"emojis\", \"non_ascii\", \"repeated_chars\", \"numbers\"]\n",
        "}\n",
        "df_summary = pd.DataFrame(summary.items(), columns=[\"Issue\", \"Count\"])\n",
        "print(\"Summary of issues:\")\n",
        "print(pd.DataFrame(summary.items(), columns=[\"Issue\", \"Count\"]))"
      ]
    },
    {
      "cell_type": "code",
      "execution_count": 29,
      "metadata": {
        "id": "enM5-DqM10Uy",
        "colab": {
          "base_uri": "https://localhost:8080/",
          "height": 607
        },
        "outputId": "77aba2b9-35f3-4f29-9224-99052c3aea04"
      },
      "outputs": [
        {
          "output_type": "display_data",
          "data": {
            "text/plain": [
              "<Figure size 1000x600 with 1 Axes>"
            ],
            "image/png": "[encoded data removed]"
          },
          "metadata": {}
        }
      ],
      "source": [
        "plt.figure(figsize=(10, 6))\n",
        "plt.bar(df_summary[\"Issue\"], df_summary[\"Count\"], color='skyblue')\n",
        "plt.title(\"Histogram of Issues\")\n",
        "plt.xlabel(\"Issue\")\n",
        "plt.ylabel(\"Count\")\n",
        "plt.xticks(rotation=45)\n",
        "plt.tight_layout()  # Agar label tidak terpotong\n",
        "plt.show()"
      ]
    },
    {
      "cell_type": "code",
      "execution_count": 30,
      "metadata": {
        "id": "5ZVImkpO3Fw8",
        "colab": {
          "base_uri": "https://localhost:8080/"
        },
        "outputId": "bad79ed1-6272-43e0-ce06-848d6e833b38"
      },
      "outputs": [
        {
          "output_type": "stream",
          "name": "stdout",
          "text": [
            "Series([], Name: content, dtype: object)\n"
          ]
        }
      ],
      "source": [
        "#Tampilkan hasil\n",
        "df_with_issues = df[df[\"issues\"].apply(lambda x: any(x.values()))]\n",
        "print(df_with_issues['content'].head(10))"
      ]
    },
    {
      "cell_type": "code",
      "execution_count": 31,
      "metadata": {
        "id": "iFvoxJzH9noF"
      },
      "outputs": [],
      "source": [
        "df.drop(columns=[\"issues\"], inplace=True)"
      ]
    },
    {
      "cell_type": "code",
      "execution_count": 32,
      "metadata": {
        "id": "eKUyD0uQ7l9g"
      },
      "outputs": [],
      "source": [
        "X = df['clean_content']\n",
        "y = to_categorical(df['sentiment'],num_classes=2)"
      ]
    },
    {
      "cell_type": "code",
      "execution_count": 33,
      "metadata": {
        "id": "VSR-tulI99DQ",
        "colab": {
          "base_uri": "https://localhost:8080/"
        },
        "outputId": "6f781c1c-2f3c-401e-c85d-6f35a04ef0cc"
      },
      "outputs": [
        {
          "output_type": "stream",
          "name": "stdout",
          "text": [
            "[[1. 0.]\n",
            " [1. 0.]\n",
            " [1. 0.]\n",
            " ...\n",
            " [1. 0.]\n",
            " [1. 0.]\n",
            " [0. 1.]]\n"
          ]
        }
      ],
      "source": [
        "print(y)"
      ]
    },
    {
      "cell_type": "markdown",
      "source": [
        "## FEATURES ENGINEERING ( TOKENISASI DAN WORD EMBEDDING )"
      ],
      "metadata": {
        "id": "KOIE8iPzJX-J"
      }
    },
    {
      "cell_type": "code",
      "execution_count": 34,
      "metadata": {
        "id": "tUQ5RNHR8PjC"
      },
      "outputs": [],
      "source": [
        "X_train,X_test,y_train,y_test = train_test_split(X,y,test_size=0.1,random_state=42)"
      ]
    },
    {
      "cell_type": "code",
      "execution_count": 35,
      "metadata": {
        "id": "tAo-Y5Tg5c8k",
        "colab": {
          "base_uri": "https://localhost:8080/"
        },
        "outputId": "e9900215-aafb-4a6c-83bf-876acc79848a"
      },
      "outputs": [
        {
          "output_type": "stream",
          "name": "stdout",
          "text": [
            "(22413,)\n",
            "(22413, 2)\n"
          ]
        }
      ],
      "source": [
        "print(X_train.shape)\n",
        "print(y_train.shape)"
      ]
    },
    {
      "cell_type": "code",
      "execution_count": 36,
      "metadata": {
        "id": "PUIVNOHT6OeS",
        "colab": {
          "base_uri": "https://localhost:8080/"
        },
        "outputId": "e64083ac-7b37-4335-f0b0-4ac0c46b2128"
      },
      "outputs": [
        {
          "output_type": "stream",
          "name": "stdout",
          "text": [
            "(2491,)\n",
            "(2491, 2)\n"
          ]
        }
      ],
      "source": [
        "print(X_test.shape)\n",
        "print(y_test.shape)"
      ]
    },
    {
      "cell_type": "code",
      "source": [
        "def count_words(text):\n",
        "    words = text.split()  # Memecah teks menjadi kata-kata berdasarkan spasi\n",
        "    return len(words)  # Mengembalikan jumlah kata\n"
      ],
      "metadata": {
        "id": "4ONBqplZO3xK"
      },
      "execution_count": 37,
      "outputs": []
    },
    {
      "cell_type": "code",
      "source": [
        "df[\"len_of_x_train\"]=X_train.apply(count_words)"
      ],
      "metadata": {
        "id": "pACPojB6wfv0"
      },
      "execution_count": 38,
      "outputs": []
    },
    {
      "cell_type": "code",
      "execution_count": 39,
      "metadata": {
        "id": "ZMoEtgtG_xrJ",
        "colab": {
          "base_uri": "https://localhost:8080/",
          "height": 335
        },
        "outputId": "71eaf5d8-03ab-4004-91ac-d9de8f33007f"
      },
      "outputs": [
        {
          "output_type": "execute_result",
          "data": {
            "text/plain": [
              "count    22413.000000\n",
              "mean       228.456208\n",
              "std        170.014886\n",
              "min         11.000000\n",
              "25%        124.000000\n",
              "50%        171.000000\n",
              "75%        277.000000\n",
              "max       2441.000000\n",
              "Name: len_of_x_train, dtype: float64"
            ],
            "text/html": [
              "<div>\n",
              "<style scoped>\n",
              "    .dataframe tbody tr th:only-of-type {\n",
              "        vertical-align: middle;\n",
              "    }\n",
              "\n",
              "    .dataframe tbody tr th {\n",
              "        vertical-align: top;\n",
              "    }\n",
              "\n",
              "    .dataframe thead th {\n",
              "        text-align: right;\n",
              "    }\n",
              "</style>\n",
              "<table border=\"1\" class=\"dataframe\">\n",
              "  <thead>\n",
              "    <tr style=\"text-align: right;\">\n",
              "      <th></th>\n",
              "      <th>len_of_x_train</th>\n",
              "    </tr>\n",
              "  </thead>\n",
              "  <tbody>\n",
              "    <tr>\n",
              "      <th>count</th>\n",
              "      <td>22413.000000</td>\n",
              "    </tr>\n",
              "    <tr>\n",
              "      <th>mean</th>\n",
              "      <td>228.456208</td>\n",
              "    </tr>\n",
              "    <tr>\n",
              "      <th>std</th>\n",
              "      <td>170.014886</td>\n",
              "    </tr>\n",
              "    <tr>\n",
              "      <th>min</th>\n",
              "      <td>11.000000</td>\n",
              "    </tr>\n",
              "    <tr>\n",
              "      <th>25%</th>\n",
              "      <td>124.000000</td>\n",
              "    </tr>\n",
              "    <tr>\n",
              "      <th>50%</th>\n",
              "      <td>171.000000</td>\n",
              "    </tr>\n",
              "    <tr>\n",
              "      <th>75%</th>\n",
              "      <td>277.000000</td>\n",
              "    </tr>\n",
              "    <tr>\n",
              "      <th>max</th>\n",
              "      <td>2441.000000</td>\n",
              "    </tr>\n",
              "  </tbody>\n",
              "</table>\n",
              "</div><br><label><b>dtype:</b> float64</label>"
            ]
          },
          "metadata": {},
          "execution_count": 39
        }
      ],
      "source": [
        "df['len_of_x_train'].describe()"
      ]
    },
    {
      "cell_type": "code",
      "source": [
        "import numpy as np\n",
        "import matplotlib.pyplot as plt\n",
        "\n",
        "# Data Histogram (gantilah ini dengan data Anda)\n",
        "data = df['len_of_x_train']\n",
        "\n",
        "# Membuat histogram\n",
        "plt.figure(figsize=(16, 6))\n",
        "plt.hist(data, bins=20, color='skyblue', edgecolor='black')\n",
        "\n",
        "# Menambahkan judul dan label\n",
        "plt.title(\"Distribution of Content Length\")\n",
        "plt.xlabel(\"Length of Content\")\n",
        "plt.ylabel(\"Frequency\")\n",
        "\n",
        "# Atur sumbu x dengan interval kelipatan 500\n",
        "x_ticks = np.arange(0, data.max(), 40)\n",
        "plt.xticks(x_ticks, rotation=45)\n",
        "\n",
        "# Atur sumbu y dengan interval kelipatan 500\n",
        "y_ticks = np.arange(0, plt.gca().get_ylim()[1], 300)  # Mengambil rentang y dan mengaturnya\n",
        "plt.yticks(y_ticks)\n",
        "\n",
        "plt.tight_layout()  # Agar elemen tidak terpotong\n",
        "plt.show()\n"
      ],
      "metadata": {
        "colab": {
          "base_uri": "https://localhost:8080/",
          "height": 485
        },
        "id": "74vLzhLsA6LI",
        "outputId": "2db64e48-6e92-47d2-d9e5-4ce6ba9cee61"
      },
      "execution_count": 40,
      "outputs": [
        {
          "output_type": "display_data",
          "data": {
            "text/plain": [
              "<Figure size 1600x600 with 1 Axes>"
            ],
            "image/png": "[encoded data removed]"
          },
          "metadata": {}
        }
      ]
    },
    {
      "cell_type": "code",
      "source": [
        "df[\"len_of_x_train\"].skew()"
      ],
      "metadata": {
        "colab": {
          "base_uri": "https://localhost:8080/"
        },
        "id": "doGW18ETw8PD",
        "outputId": "c1ea299c-33e9-4f92-cb67-db394b71f76d"
      },
      "execution_count": 41,
      "outputs": [
        {
          "output_type": "execute_result",
          "data": {
            "text/plain": [
              "2.192832682647991"
            ]
          },
          "metadata": {},
          "execution_count": 41
        }
      ]
    },
    {
      "cell_type": "code",
      "source": [
        "precentile_95 = df['len_of_x_train'].quantile(0.95) # mengambil nilai pada batas atas dari data\n",
        "adjustment_factor = 0.25 #rentang 0.2 sampai 0.3 cocok untuk skewness > 1 (kemiringan positif extreme)\n",
        "median_len = df['len_of_x_train'].median() # nilai tengah dari data\n",
        "test_max_len = median_len + (precentile_95 - median_len) * adjustment_factor # mendapatkan nilai optimum untuk panjang maksimum konten (banyak kata) agar menghemat komputasi\n",
        "print(test_max_len.astype(int))"
      ],
      "metadata": {
        "colab": {
          "base_uri": "https://localhost:8080/"
        },
        "id": "W-QZGTtEw7sk",
        "outputId": "20f2fe6f-8910-44e0-ca01-40e7bedd94b1"
      },
      "execution_count": 42,
      "outputs": [
        {
          "output_type": "stream",
          "name": "stdout",
          "text": [
            "274\n"
          ]
        }
      ]
    },
    {
      "cell_type": "code",
      "execution_count": 43,
      "metadata": {
        "id": "V5LyPv9N8rwQ"
      },
      "outputs": [],
      "source": [
        "#tokenizer\n",
        "tokenizer = Tokenizer(num_words=12000, oov_token='<OOV>')\n",
        "tokenizer.fit_on_texts(X_train)\n",
        "\n",
        "X_train_seq = tokenizer.texts_to_sequences(X_train)\n",
        "X_test_seq = tokenizer.texts_to_sequences(X_test)\n",
        "\n",
        "max_len=274 #ambil dari perhitungan kombinasi antara presentil 95 dan median\n",
        "X_train_padded = pad_sequences(X_train_seq,maxlen=max_len,padding='post')\n",
        "X_test_padded = pad_sequences(X_test_seq,maxlen=max_len,padding='post')"
      ]
    },
    {
      "cell_type": "code",
      "execution_count": 44,
      "metadata": {
        "id": "UO9SFuHb_Iw4",
        "colab": {
          "base_uri": "https://localhost:8080/"
        },
        "outputId": "9d8a7f16-71cb-4829-bc05-78ff2a9490b5"
      },
      "outputs": [
        {
          "output_type": "stream",
          "name": "stdout",
          "text": [
            "(22413, 274)\n",
            "(22413, 2)\n"
          ]
        }
      ],
      "source": [
        "print(X_train_padded.shape)  # Memeriksa dimensi data\n",
        "print(y_train.shape)  # Memeriksa dimensi label"
      ]
    },
    {
      "cell_type": "code",
      "execution_count": 45,
      "metadata": {
        "id": "1smmQ0F79rIR",
        "colab": {
          "base_uri": "https://localhost:8080/"
        },
        "outputId": "0ac00703-55cd-4dfd-f9f1-93d8f93ec105"
      },
      "outputs": [
        {
          "output_type": "stream",
          "name": "stdout",
          "text": [
            "[[0. 1.]\n",
            " [0. 1.]\n",
            " [0. 1.]\n",
            " ...\n",
            " [0. 1.]\n",
            " [1. 0.]\n",
            " [1. 0.]]\n"
          ]
        }
      ],
      "source": [
        "print(y_test) #cek y_test"
      ]
    },
    {
      "cell_type": "code",
      "execution_count": 46,
      "metadata": {
        "id": "3MVRdWPgI8Rq",
        "colab": {
          "base_uri": "https://localhost:8080/"
        },
        "outputId": "b0b3eebb-1427-46b9-8a50-be7faa828eec"
      },
      "outputs": [
        {
          "output_type": "stream",
          "name": "stdout",
          "text": [
            "--2024-12-20 01:11:41--  http://nlp.stanford.edu/data/glove.6B.zip\n",
            "Resolving nlp.stanford.edu (nlp.stanford.edu)... 171.64.67.140\n",
            "Connecting to nlp.stanford.edu (nlp.stanford.edu)|171.64.67.140|:80... connected.\n",
            "HTTP request sent, awaiting response... 302 Found\n",
            "Location: https://nlp.stanford.edu/data/glove.6B.zip [following]\n",
            "--2024-12-20 01:11:41--  https://nlp.stanford.edu/data/glove.6B.zip\n",
            "Connecting to nlp.stanford.edu (nlp.stanford.edu)|171.64.67.140|:443... connected.\n",
            "HTTP request sent, awaiting response... 301 Moved Permanently\n",
            "Location: https://downloads.cs.stanford.edu/nlp/data/glove.6B.zip [following]\n",
            "--2024-12-20 01:11:42--  https://downloads.cs.stanford.edu/nlp/data/glove.6B.zip\n",
            "Resolving downloads.cs.stanford.edu (downloads.cs.stanford.edu)... 171.64.64.22\n",
            "Connecting to downloads.cs.stanford.edu (downloads.cs.stanford.edu)|171.64.64.22|:443... connected.\n",
            "HTTP request sent, awaiting response... 200 OK\n",
            "Length: 862182613 (822M) [application/zip]\n",
            "Saving to: ‘glove.6B.zip’\n",
            "\n",
            "glove.6B.zip        100%[===================>] 822.24M  5.05MB/s    in 2m 39s  \n",
            "\n",
            "2024-12-20 01:14:22 (5.17 MB/s) - ‘glove.6B.zip’ saved [862182613/862182613]\n",
            "\n"
          ]
        }
      ],
      "source": [
        "!wget http://nlp.stanford.edu/data/glove.6B.zip\n"
      ]
    },
    {
      "cell_type": "code",
      "execution_count": 47,
      "metadata": {
        "id": "mQakOYWhKw8l",
        "colab": {
          "base_uri": "https://localhost:8080/"
        },
        "outputId": "1e451dea-0c69-4068-9eee-25ab02a367d4"
      },
      "outputs": [
        {
          "output_type": "stream",
          "name": "stdout",
          "text": [
            "Archive:  glove.6B.zip\n",
            "  inflating: glove.6B.50d.txt        \n",
            "  inflating: glove.6B.100d.txt       \n",
            "  inflating: glove.6B.200d.txt       \n",
            "  inflating: glove.6B.300d.txt       \n"
          ]
        }
      ],
      "source": [
        "!unzip glove.6B.zip\n"
      ]
    },
    {
      "cell_type": "code",
      "execution_count": 48,
      "metadata": {
        "id": "7Kk1RfN8IklC"
      },
      "outputs": [],
      "source": [
        "embedding_index = {}\n",
        "embedding_dim = 200\n",
        "glove_file_path = 'glove.6B.200d.txt'\n",
        "\n",
        "with open(glove_file_path, 'r', encoding='utf-8') as file:\n",
        "    for line in file:\n",
        "        values = line.split()\n",
        "        word = values[0]\n",
        "        vector = np.array(values[1:], dtype='float32')\n",
        "        embedding_index[word] = vector"
      ]
    },
    {
      "cell_type": "code",
      "execution_count": 49,
      "metadata": {
        "id": "VAYJbw7eUboF",
        "colab": {
          "base_uri": "https://localhost:8080/"
        },
        "outputId": "3b76a80a-3d28-4e71-f04c-353808136435"
      },
      "outputs": [
        {
          "output_type": "stream",
          "name": "stdout",
          "text": [
            "total words in glove : 400000\n"
          ]
        }
      ],
      "source": [
        "print(f\"total words in glove : {len(embedding_index)}\")"
      ]
    },
    {
      "cell_type": "code",
      "execution_count": 50,
      "metadata": {
        "id": "CVC9wdr-UqRM"
      },
      "outputs": [],
      "source": [
        "word_index = tokenizer.word_index\n",
        "vocab_size = min(12000, len(word_index)+1)\n",
        "embedding_matrix = np.zeros((vocab_size,embedding_dim))\n",
        "\n",
        "for word,i in word_index.items():\n",
        "  if i < vocab_size :\n",
        "    embedding_vector = embedding_index.get(word)\n",
        "    if embedding_vector is not None :\n",
        "      embedding_matrix[i] = embedding_vector"
      ]
    },
    {
      "cell_type": "markdown",
      "metadata": {
        "id": "IQSZua2W_g_6"
      },
      "source": [
        "#MODELLING"
      ]
    },
    {
      "cell_type": "markdown",
      "metadata": {
        "id": "pg9T_Kkl_2Ux"
      },
      "source": [
        "RNN DAN TURUNANNYA-> LSTM,GRU,BiRNN, BiLSTM, BiGRU\n",
        "silakan dicoba\n"
      ]
    },
    {
      "cell_type": "code",
      "execution_count": 51,
      "metadata": {
        "id": "HJYo2nJQ_10E",
        "colab": {
          "base_uri": "https://localhost:8080/"
        },
        "outputId": "cabb9de5-b0bd-401a-f2c2-6ae1f1535048"
      },
      "outputs": [
        {
          "output_type": "stream",
          "name": "stdout",
          "text": [
            "Model: \"sequential\"\n",
            "_________________________________________________________________\n",
            " Layer (type)                Output Shape              Param #   \n",
            "=================================================================\n",
            " embedding (Embedding)       (None, 274, 200)          2400000   \n",
            "                                                                 \n",
            " bidirectional (Bidirection  (None, 274, 128)          135680    \n",
            " al)                                                             \n",
            "                                                                 \n",
            " dropout (Dropout)           (None, 274, 128)          0         \n",
            "                                                                 \n",
            " bidirectional_1 (Bidirecti  (None, 32)                18560     \n",
            " onal)                                                           \n",
            "                                                                 \n",
            " dropout_1 (Dropout)         (None, 32)                0         \n",
            "                                                                 \n",
            " dense (Dense)               (None, 2)                 66        \n",
            "                                                                 \n",
            "=================================================================\n",
            "Total params: 2554306 (9.74 MB)\n",
            "Trainable params: 154306 (602.76 KB)\n",
            "Non-trainable params: 2400000 (9.16 MB)\n",
            "_________________________________________________________________\n"
          ]
        }
      ],
      "source": [
        "model = Sequential()\n",
        "model.add(Embedding(\n",
        "    input_dim=vocab_size,\n",
        "    output_dim=embedding_dim,\n",
        "    weights=[embedding_matrix],\n",
        "    input_length=max_len,\n",
        "    trainable=False\n",
        ")) #input layer\n",
        "\n",
        "# HIDDEN LAYER\n",
        "model.add(Bidirectional(LSTM(64,return_sequences=True)))\n",
        "model.add(Dropout(0.5))\n",
        "model.add(Bidirectional(LSTM(16,return_sequences=False)))\n",
        "model.add(Dropout(0.2))\n",
        "#OUTPUT LAYER\n",
        "model.add(Dense(2,activation='softmax'))\n",
        "\n",
        "early_stopping = EarlyStopping(monitor='val_accuracy', patience=10, restore_best_weights=True)\n",
        "reduce_lr = ReduceLROnPlateau(monitor='val_loss', factor=0.1, patience=3, min_lr=1e-5)\n",
        "\n",
        "model.compile(optimizer='adam',loss='categorical_crossentropy',metrics=['accuracy'])\n",
        "model.build(input_shape=(None,max_len))\n",
        "model.summary()"
      ]
    },
    {
      "cell_type": "code",
      "source": [
        "y_train_labels = np.argmax(y_train, axis=1)\n",
        "class_weights = compute_class_weight(\n",
        "    class_weight = 'balanced',\n",
        "    classes = np.unique(y_train_labels),\n",
        "    y = y_train_labels\n",
        ")\n",
        "\n",
        "class_weights_dict = dict(enumerate(class_weights))\n",
        "print(\"class weights: \", class_weights_dict)"
      ],
      "metadata": {
        "colab": {
          "base_uri": "https://localhost:8080/"
        },
        "id": "CQwOCMLmHPXn",
        "outputId": "1ce57e2e-49cd-4df3-d5d6-283841abaf33"
      },
      "execution_count": 52,
      "outputs": [
        {
          "output_type": "stream",
          "name": "stdout",
          "text": [
            "class weights:  {0: 1.0023703041144902, 1: 0.997640879551322}\n"
          ]
        }
      ]
    },
    {
      "cell_type": "code",
      "execution_count": 53,
      "metadata": {
        "id": "0gagX0adb08P",
        "colab": {
          "base_uri": "https://localhost:8080/"
        },
        "outputId": "a94a2428-01a3-41ed-f9cc-76e860e8ca0f"
      },
      "outputs": [
        {
          "output_type": "stream",
          "name": "stdout",
          "text": [
            "Epoch 1/20\n",
            "281/281 [==============================] - 352s 1s/step - loss: 0.6650 - accuracy: 0.6008 - val_loss: 0.5590 - val_accuracy: 0.7212 - lr: 0.0010\n",
            "Epoch 2/20\n",
            "281/281 [==============================] - 348s 1s/step - loss: 0.5771 - accuracy: 0.7009 - val_loss: 0.4979 - val_accuracy: 0.7948 - lr: 0.0010\n",
            "Epoch 3/20\n",
            "281/281 [==============================] - 344s 1s/step - loss: 0.4216 - accuracy: 0.8127 - val_loss: 0.3883 - val_accuracy: 0.8383 - lr: 0.0010\n",
            "Epoch 4/20\n",
            "281/281 [==============================] - 344s 1s/step - loss: 0.3807 - accuracy: 0.8363 - val_loss: 0.3733 - val_accuracy: 0.8405 - lr: 0.0010\n",
            "Epoch 5/20\n",
            "281/281 [==============================] - 321s 1s/step - loss: 0.3494 - accuracy: 0.8524 - val_loss: 0.3387 - val_accuracy: 0.8534 - lr: 0.0010\n",
            "Epoch 6/20\n",
            "281/281 [==============================] - 348s 1s/step - loss: 0.3303 - accuracy: 0.8638 - val_loss: 0.3739 - val_accuracy: 0.8479 - lr: 0.0010\n",
            "Epoch 7/20\n",
            "281/281 [==============================] - 336s 1s/step - loss: 0.3091 - accuracy: 0.8743 - val_loss: 0.3138 - val_accuracy: 0.8708 - lr: 0.0010\n",
            "Epoch 8/20\n",
            "281/281 [==============================] - 345s 1s/step - loss: 0.2892 - accuracy: 0.8843 - val_loss: 0.3275 - val_accuracy: 0.8655 - lr: 0.0010\n",
            "Epoch 9/20\n",
            "281/281 [==============================] - 341s 1s/step - loss: 0.2703 - accuracy: 0.8930 - val_loss: 0.3100 - val_accuracy: 0.8711 - lr: 0.0010\n",
            "Epoch 10/20\n",
            "281/281 [==============================] - 383s 1s/step - loss: 0.2561 - accuracy: 0.9000 - val_loss: 0.3213 - val_accuracy: 0.8679 - lr: 0.0010\n",
            "Epoch 11/20\n",
            "281/281 [==============================] - 372s 1s/step - loss: 0.2345 - accuracy: 0.9090 - val_loss: 0.3215 - val_accuracy: 0.8760 - lr: 0.0010\n",
            "Epoch 12/20\n",
            "281/281 [==============================] - 366s 1s/step - loss: 0.2299 - accuracy: 0.9125 - val_loss: 0.3165 - val_accuracy: 0.8731 - lr: 0.0010\n",
            "Epoch 13/20\n",
            "281/281 [==============================] - 379s 1s/step - loss: 0.1824 - accuracy: 0.9331 - val_loss: 0.3315 - val_accuracy: 0.8778 - lr: 1.0000e-04\n",
            "Epoch 14/20\n",
            "281/281 [==============================] - 372s 1s/step - loss: 0.1753 - accuracy: 0.9353 - val_loss: 0.3401 - val_accuracy: 0.8762 - lr: 1.0000e-04\n",
            "Epoch 15/20\n",
            "281/281 [==============================] - 378s 1s/step - loss: 0.1689 - accuracy: 0.9392 - val_loss: 0.3439 - val_accuracy: 0.8760 - lr: 1.0000e-04\n",
            "Epoch 16/20\n",
            "281/281 [==============================] - 381s 1s/step - loss: 0.1621 - accuracy: 0.9429 - val_loss: 0.3476 - val_accuracy: 0.8775 - lr: 1.0000e-05\n",
            "Epoch 17/20\n",
            "281/281 [==============================] - 379s 1s/step - loss: 0.1626 - accuracy: 0.9440 - val_loss: 0.3499 - val_accuracy: 0.8771 - lr: 1.0000e-05\n",
            "Epoch 18/20\n",
            "281/281 [==============================] - 379s 1s/step - loss: 0.1615 - accuracy: 0.9441 - val_loss: 0.3507 - val_accuracy: 0.8773 - lr: 1.0000e-05\n",
            "Epoch 19/20\n",
            "281/281 [==============================] - 376s 1s/step - loss: 0.1611 - accuracy: 0.9429 - val_loss: 0.3515 - val_accuracy: 0.8762 - lr: 1.0000e-05\n",
            "Epoch 20/20\n",
            "281/281 [==============================] - 378s 1s/step - loss: 0.1610 - accuracy: 0.9442 - val_loss: 0.3522 - val_accuracy: 0.8762 - lr: 1.0000e-05\n"
          ]
        }
      ],
      "source": [
        "history = model.fit(\n",
        "    X_train_padded,\n",
        "    y_train,\n",
        "    epochs=20,\n",
        "    batch_size=64,\n",
        "    validation_split=0.2,\n",
        "    class_weight = class_weights_dict,\n",
        "    callbacks=[early_stopping,reduce_lr],\n",
        "    )\n",
        "\n"
      ]
    },
    {
      "cell_type": "markdown",
      "metadata": {
        "id": "kGLN6vgjdUxg"
      },
      "source": [
        "#EVALUASI MODEL"
      ]
    },
    {
      "cell_type": "code",
      "execution_count": 54,
      "metadata": {
        "id": "VG8SH1SMdYDw",
        "colab": {
          "base_uri": "https://localhost:8080/"
        },
        "outputId": "e4b64abd-d7a2-4e39-b34a-a3c0173a5c78"
      },
      "outputs": [
        {
          "output_type": "stream",
          "name": "stdout",
          "text": [
            "78/78 [==============================] - 23s 254ms/step\n",
            "              precision    recall  f1-score   support\n",
            "\n",
            "    negative       0.88      0.88      0.88      1252\n",
            "    positive       0.88      0.88      0.88      1239\n",
            "\n",
            "    accuracy                           0.88      2491\n",
            "   macro avg       0.88      0.88      0.88      2491\n",
            "weighted avg       0.88      0.88      0.88      2491\n",
            "\n"
          ]
        }
      ],
      "source": [
        "y_pred = model.predict(X_test_padded)\n",
        "y_pred_labels = np.argmax(y_pred, axis=1)\n",
        "y_test_labels = np.argmax(y_test, axis=1)\n",
        "\n",
        "print(classification_report(y_test_labels, y_pred_labels, target_names=['negative', 'positive']))\n"
      ]
    },
    {
      "cell_type": "code",
      "execution_count": 55,
      "metadata": {
        "id": "uL5VC7a5dqM5",
        "colab": {
          "base_uri": "https://localhost:8080/"
        },
        "outputId": "6ff77662-af23-4925-ba50-866a022b1a73"
      },
      "outputs": [
        {
          "output_type": "stream",
          "name": "stdout",
          "text": [
            "78/78 [==============================] - 22s 288ms/step - loss: 0.3319 - accuracy: 0.8800\n"
          ]
        }
      ],
      "source": [
        "score = model.evaluate(X_test_padded,y_test,verbose=1)"
      ]
    },
    {
      "cell_type": "code",
      "execution_count": 56,
      "metadata": {
        "id": "9GASDuJvdtkS",
        "colab": {
          "base_uri": "https://localhost:8080/"
        },
        "outputId": "677885e6-a6b6-4172-838a-5c43fb9f7a1f"
      },
      "outputs": [
        {
          "output_type": "stream",
          "name": "stdout",
          "text": [
            "test score : 0.3318876624107361\n",
            "test akurasi 0.8799678683280945\n"
          ]
        }
      ],
      "source": [
        "print(\"test score :\", score[0])\n",
        "print(\"test akurasi\", score[1])"
      ]
    },
    {
      "cell_type": "code",
      "execution_count": 57,
      "metadata": {
        "id": "bCziayz1dvKs",
        "colab": {
          "base_uri": "https://localhost:8080/",
          "height": 860
        },
        "outputId": "5615c035-bdb9-4404-d660-d2893f6095c3"
      },
      "outputs": [
        {
          "output_type": "execute_result",
          "data": {
            "text/plain": [
              "<Axes: >"
            ]
          },
          "metadata": {},
          "execution_count": 57
        },
        {
          "output_type": "display_data",
          "data": {
            "text/plain": [
              "<Figure size 640x480 with 1 Axes>"
            ],
            "image/png": "[encoded data removed]"
          },
          "metadata": {}
        },
        {
          "output_type": "display_data",
          "data": {
            "text/plain": [
              "<Figure size 640x480 with 1 Axes>"
            ],
            "image/png": "[encoded data removed]"
          },
          "metadata": {}
        }
      ],
      "source": [
        "metrics = pd.DataFrame(history.history)\n",
        "metrics[['accuracy', 'val_accuracy']].plot()\n",
        "metrics[['loss', 'val_loss']].plot()"
      ]
    },
    {
      "cell_type": "markdown",
      "metadata": {
        "id": "DNngkPorvTYt"
      },
      "source": [
        "#SAVE MODELS DALAM H5"
      ]
    },
    {
      "cell_type": "code",
      "execution_count": 58,
      "metadata": {
        "id": "L3YPMi_xvXXG",
        "colab": {
          "base_uri": "https://localhost:8080/"
        },
        "outputId": "667739d1-86de-4d1f-b55e-1b2f7753e814"
      },
      "outputs": [
        {
          "output_type": "stream",
          "name": "stderr",
          "text": [
            "/usr/local/lib/python3.10/dist-packages/keras/src/engine/training.py:3079: UserWarning: You are saving your model as an HDF5 file via `model.save()`. This file format is considered legacy. We recommend using instead the native Keras format, e.g. `model.save('my_model.keras')`.\n",
            "  saving_api.save_model(\n"
          ]
        }
      ],
      "source": [
        "model.save('modelmovie5.h5')\n"
      ]
    },
    {
      "cell_type": "code",
      "source": [
        "# Simpan tokenizer setelah training\n",
        "import pickle\n",
        "with open('tokenizer.pickle', 'wb') as handle:\n",
        "    pickle.dump(tokenizer, handle, protocol=pickle.HIGHEST_PROTOCOL)"
      ],
      "metadata": {
        "id": "lSVrip3UA2yP"
      },
      "execution_count": 59,
      "outputs": []
    },
    {
      "cell_type": "code",
      "source": [
        "from tensorflow.keras.models import load_model\n",
        "\n",
        "\n",
        "def prepare_input(text):\n",
        "\n",
        "    # hapus emoticons\n",
        "    text = remove_emoticons(text)\n",
        "\n",
        "    # Preprocessing teks baru\n",
        "    text = preprocessing_text(text)\n",
        "\n",
        "    # Tokenisasi teks\n",
        "    text_seq = tokenizer.texts_to_sequences([text])\n",
        "\n",
        "    # Padding agar panjangnya konsisten\n",
        "    text_padded = pad_sequences(text_seq, maxlen=max_len, padding='post')\n",
        "    return text_padded\n",
        "\n",
        "# Langkah 3: Memuat Model\n",
        "model = load_model('modelmovie5.h5')  # Ganti dengan path model .h5 Anda\n",
        "\n",
        "# Langkah 4: Prediksi Sentimen\n",
        "def predict_sentiment(text):\n",
        "    with open('tokenizer.pickle', 'rb') as handle:\n",
        "      tokenizer = pickle.load(handle)\n",
        "\n",
        "    # Siapkan input teks\n",
        "    text_input = prepare_input(text)\n",
        "\n",
        "    # Melakukan prediksi dengan model\n",
        "    prediction = model.predict(text_input)\n",
        "\n",
        "    # Menentukan hasil sentimen\n",
        "    # sentiment = 'Positive' if prediction[0][0] > 0.5 else 'Negative'\n",
        "    # print(prediction)\n",
        "    return prediction\n",
        "\n"
      ],
      "metadata": {
        "id": "B8viHceev9Ye"
      },
      "execution_count": 60,
      "outputs": []
    },
    {
      "cell_type": "code",
      "source": [
        "# Contoh Penggunaan\n",
        "sample_comment =\"A perfect blend of action, emotion, and humor, this movie had everything I could ask for. The story was engaging, with twists that were both surprising and satisfying. The character development was top-notch, making me care deeply about their journeys. The dialogue felt natural, witty, and heartfelt at the right moments. Visually, it was stunning; the special effects and set designs were flawless. This movie is a shining example of what great filmmaking looks like. I left the theater feeling inspired and uplifted. Absolutely one of the best films of the year!\"\n",
        "sentiment = predict_sentiment(sample_comment)\n",
        "print(f\"Sentiment: {sentiment}\")"
      ],
      "metadata": {
        "colab": {
          "base_uri": "https://localhost:8080/"
        },
        "id": "jCabJ57cxMOH",
        "outputId": "145bcd61-d6f2-4098-e45f-cd238f686cf6"
      },
      "execution_count": 61,
      "outputs": [
        {
          "output_type": "stream",
          "name": "stdout",
          "text": [
            "1/1 [==============================] - 2s 2s/step\n",
            "Sentiment: [[0.00541673 0.9945833 ]]\n"
          ]
        }
      ]
    },
    {
      "cell_type": "code",
      "source": [
        "# Contoh Penggunaan\n",
        "sample_comment =\"I can’t believe I wasted two hours of my life on this. The storyline was unoriginal and felt like a rehash of countless other bad movies. The performances were flat, and the actors looked like they didn’t even want to be there. The editing was sloppy, and the transitions between scenes felt jarring and rushed. The dialogue was cliché and, at times, laughably bad. Even the visuals couldn’t save it; they were dull and lacked creativity. Overall, this movie lacked soul, direction, and any redeeming qualities. I regret watching it and wouldn’t recommend it to anyone.\"\n",
        "sentiment = predict_sentiment(sample_comment)\n",
        "print(f\"Sentiment: {sentiment}\")"
      ],
      "metadata": {
        "colab": {
          "base_uri": "https://localhost:8080/"
        },
        "id": "M9iPcneAzoOu",
        "outputId": "0fc66abb-7ab8-4a7a-d2c7-ea3e4fe415d2"
      },
      "execution_count": 62,
      "outputs": [
        {
          "output_type": "stream",
          "name": "stdout",
          "text": [
            "1/1 [==============================] - 0s 78ms/step\n",
            "Sentiment: [[0.9958268  0.00417316]]\n"
          ]
        }
      ]
    },
    {
      "cell_type": "code",
      "source": [
        "# Contoh Penggunaan\n",
        "sample_comment =\"Unforgettable movie! I’m definitely watching this again.\"\n",
        "sentiment = predict_sentiment(sample_comment)\n",
        "print(f\"Sentiment: {sentiment}\")"
      ],
      "metadata": {
        "colab": {
          "base_uri": "https://localhost:8080/"
        },
        "id": "LsKynRwFzyMk",
        "outputId": "99b98772-c024-4461-b6a2-5688ce5d1cfe"
      },
      "execution_count": 63,
      "outputs": [
        {
          "output_type": "stream",
          "name": "stdout",
          "text": [
            "1/1 [==============================] - 0s 72ms/step\n",
            "Sentiment: [[0.01800062 0.9819994 ]]\n"
          ]
        }
      ]
    },
    {
      "cell_type": "code",
      "source": [
        "# Contoh Penggunaan\n",
        "sample_comment =\"Big disappointment! Waste of time and effort.\"\n",
        "sentiment = predict_sentiment(sample_comment)\n",
        "print(f\"Sentiment: {sentiment}\")"
      ],
      "metadata": {
        "colab": {
          "base_uri": "https://localhost:8080/"
        },
        "id": "jnpk4jw60XGl",
        "outputId": "ab02488e-45f0-4408-8934-79337cc59e87"
      },
      "execution_count": 64,
      "outputs": [
        {
          "output_type": "stream",
          "name": "stdout",
          "text": [
            "1/1 [==============================] - 0s 126ms/step\n",
            "Sentiment: [[0.9927348  0.00726521]]\n"
          ]
        }
      ]
    },
    {
      "cell_type": "code",
      "source": [
        "# Contoh Penggunaan\n",
        "sample_comment =\"It's evident the actors tried their best, but the emotional depth required for such a story seemed beyond their reach. The lead’s delivery lacked nuance, making pivotal scenes feel flat. While the cinematography was commendable, the editing often disrupted the flow, leaving the audience disconnected. The script had potential, yet it leaned heavily on clichés, making the dialogue predictable. A more experienced cast might have elevated the material, and tighter pacing could’ve enhanced the narrative. It's not entirely bad, but it feels like a missed opportunity for something truly impactful.\"\n",
        "sentiment = predict_sentiment(sample_comment)\n",
        "print(f\"Sentiment: {sentiment}\")"
      ],
      "metadata": {
        "colab": {
          "base_uri": "https://localhost:8080/"
        },
        "id": "B04BFG1j00ye",
        "outputId": "0dbdbec7-92c4-44e9-d384-e984a9c38455"
      },
      "execution_count": 65,
      "outputs": [
        {
          "output_type": "stream",
          "name": "stdout",
          "text": [
            "1/1 [==============================] - 0s 176ms/step\n",
            "Sentiment: [[0.9167543  0.08324575]]\n"
          ]
        }
      ]
    },
    {
      "cell_type": "code",
      "source": [
        "# Contoh Penggunaan\n",
        "sample_comment =\"<html> WOW! This movie was absolutely amaaazing! 😍😍 The lead actor's performance was nothing short of speeeeectacular, bringing so much looooooveeeee and depth to the role!! ✨✨ Even the supporting cast was 🥰 incredible, and the story kept me hooked from start to finish!! The cinematography…WOW!! Sooooooo stunning. Sure, there were a few minor flaws, but who caresssss when the overall experience is soooo goooood?? 🎥💖 I’d <b>highly recommend</b> this gem to anyone!!! Totally worth the watch!!! 👏👏👏\"\n",
        "sentiment = predict_sentiment(sample_comment)\n",
        "print(f\"Sentiment: {sentiment}\")"
      ],
      "metadata": {
        "colab": {
          "base_uri": "https://localhost:8080/"
        },
        "id": "7XCa83wP1Szc",
        "outputId": "be5362f9-f0c4-476b-8421-ece458f24284"
      },
      "execution_count": 66,
      "outputs": [
        {
          "output_type": "stream",
          "name": "stdout",
          "text": [
            "1/1 [==============================] - 0s 146ms/step\n",
            "Sentiment: [[0.00575767 0.99424225]]\n"
          ]
        }
      ]
    },
    {
      "cell_type": "code",
      "source": [
        "# Contoh Penggunaan\n",
        "sample_comment =\"this movie was so bad, it not worth it for 10 dollar ticket\"\n",
        "sentiment = predict_sentiment(sample_comment)\n",
        "print(f\"Sentiment: {sentiment}\")"
      ],
      "metadata": {
        "colab": {
          "base_uri": "https://localhost:8080/"
        },
        "id": "ZpPQm2HNOmAl",
        "outputId": "c121b390-4440-44de-c0ee-8ca5c8e6bc0c"
      },
      "execution_count": 67,
      "outputs": [
        {
          "output_type": "stream",
          "name": "stdout",
          "text": [
            "1/1 [==============================] - 0s 154ms/step\n",
            "Sentiment: [[0.99451196 0.00548807]]\n"
          ]
        }
      ]
    },
    {
      "cell_type": "code",
      "source": [
        "# Contoh Penggunaan\n",
        "sample_comment =\"finally i can smiling a long i watched this movie, because mr.carl can be converted to islam an found his a right path in his life\"\n",
        "sentiment = predict_sentiment(sample_comment)\n",
        "print(f\"Sentiment: {sentiment}\")"
      ],
      "metadata": {
        "colab": {
          "base_uri": "https://localhost:8080/"
        },
        "id": "G9-Y25KUOyKe",
        "outputId": "11c165a2-aff6-425a-da2b-791129de0428"
      },
      "execution_count": 68,
      "outputs": [
        {
          "output_type": "stream",
          "name": "stdout",
          "text": [
            "1/1 [==============================] - 0s 150ms/step\n",
            "Sentiment: [[0.48758256 0.5124174 ]]\n"
          ]
        }
      ]
    },
    {
      "cell_type": "code",
      "source": [
        "# Contoh Penggunaan\n",
        "sample_comment =\"this movie are not recommended as a family movie because there is a sexual scene that unfit for under 18\"\n",
        "sentiment = predict_sentiment(sample_comment)\n",
        "print(f\"Sentiment: {sentiment}\")"
      ],
      "metadata": {
        "colab": {
          "base_uri": "https://localhost:8080/"
        },
        "id": "wEtDr60PPLYV",
        "outputId": "9f776a31-3b06-45a6-8478-2645601791fc"
      },
      "execution_count": 69,
      "outputs": [
        {
          "output_type": "stream",
          "name": "stdout",
          "text": [
            "1/1 [==============================] - 0s 152ms/step\n",
            "Sentiment: [[0.90880674 0.0911932 ]]\n"
          ]
        }
      ]
    },
    {
      "cell_type": "code",
      "source": [
        "# Contoh Penggunaan\n",
        "sample_comment =\"what an amazing movie, i can feel for the every scene in this movie\"\n",
        "sentiment = predict_sentiment(sample_comment)\n",
        "print(f\"Sentiment: {sentiment}\")"
      ],
      "metadata": {
        "colab": {
          "base_uri": "https://localhost:8080/"
        },
        "id": "d5OIY9IfPe9F",
        "outputId": "9277c694-1319-4354-e242-baaf922648bd"
      },
      "execution_count": 70,
      "outputs": [
        {
          "output_type": "stream",
          "name": "stdout",
          "text": [
            "1/1 [==============================] - 0s 200ms/step\n",
            "Sentiment: [[0.01157223 0.9884278 ]]\n"
          ]
        }
      ]
    },
    {
      "cell_type": "markdown",
      "source": [
        "## CONCLUSION"
      ],
      "metadata": {
        "id": "IK8gYy3wfjWJ"
      }
    },
    {
      "cell_type": "markdown",
      "source": [
        "Model analisis sentimen komentar film di platform IMDb yang dikembangkan menggunakan algoritma Bidirectional LSTM menunjukkan kemampuan yang baik dalam menganalisis sentimen, baik negatif maupun positif. Berdasarkan hasil classification report, model ini memiliki akurasi 88%, recall 87%, dan f1-score 87%, yang menunjukkan bahwa model dapat mengklasifikasikan sentimen dengan seimbang pada kedua kelas."
      ],
      "metadata": {
        "id": "vAd7EMD3fnN4"
      }
    }
  ],
  "metadata": {
    "colab": {
      "provenance": [],
      "collapsed_sections": [
        "IK8gYy3wfjWJ"
      ]
    },
    "kernelspec": {
      "display_name": "Python 3",
      "name": "python3"
    },
    "language_info": {
      "codemirror_mode": {
        "name": "ipython",
        "version": 3
      },
      "file_extension": ".py",
      "mimetype": "text/x-python",
      "name": "python",
      "nbconvert_exporter": "python",
      "pygments_lexer": "ipython3",
      "version": "3.10.0"
    },
    "widgets": {
      "application/vnd.jupyter.widget-state+json": {
        "9a9088babebc4652bc11d18f19156cba": {
          "model_module": "@jupyter-widgets/controls",
          "model_name": "HBoxModel",
          "model_module_version": "1.5.0",
          "state": {
            "_dom_classes": [],
            "_model_module": "@jupyter-widgets/controls",
            "_model_module_version": "1.5.0",
            "_model_name": "HBoxModel",
            "_view_count": null,
            "_view_module": "@jupyter-widgets/controls",
            "_view_module_version": "1.5.0",
            "_view_name": "HBoxView",
            "box_style": "",
            "children": [
              "IPY_MODEL_63f49a03ec41469d96141ed576dc97eb",
              "IPY_MODEL_eef6e365485b498e8aaa701cb95a8cc7",
              "IPY_MODEL_191f419086474c3a91de2c0d52c0600c"
            ],
            "layout": "IPY_MODEL_6d07dc105d3647d797acf6724bfafe67"
          }
        },
        "63f49a03ec41469d96141ed576dc97eb": {
          "model_module": "@jupyter-widgets/controls",
          "model_name": "HTMLModel",
          "model_module_version": "1.5.0",
          "state": {
            "_dom_classes": [],
            "_model_module": "@jupyter-widgets/controls",
            "_model_module_version": "1.5.0",
            "_model_name": "HTMLModel",
            "_view_count": null,
            "_view_module": "@jupyter-widgets/controls",
            "_view_module_version": "1.5.0",
            "_view_name": "HTMLView",
            "description": "",
            "description_tooltip": null,
            "layout": "IPY_MODEL_3c5994e079534f6f9110f2ebe7fadb25",
            "placeholder": "​",
            "style": "IPY_MODEL_20bfba960444438b93b4fa1da3d513b5",
            "value": "Dl Completed...: 100%"
          }
        },
        "eef6e365485b498e8aaa701cb95a8cc7": {
          "model_module": "@jupyter-widgets/controls",
          "model_name": "FloatProgressModel",
          "model_module_version": "1.5.0",
          "state": {
            "_dom_classes": [],
            "_model_module": "@jupyter-widgets/controls",
            "_model_module_version": "1.5.0",
            "_model_name": "FloatProgressModel",
            "_view_count": null,
            "_view_module": "@jupyter-widgets/controls",
            "_view_module_version": "1.5.0",
            "_view_name": "ProgressView",
            "bar_style": "success",
            "description": "",
            "description_tooltip": null,
            "layout": "IPY_MODEL_c299e9d596114924bcae9d3c3d4188ce",
            "max": 1,
            "min": 0,
            "orientation": "horizontal",
            "style": "IPY_MODEL_654dcb18afaf4d308976ae4c8f1036a4",
            "value": 1
          }
        },
        "191f419086474c3a91de2c0d52c0600c": {
          "model_module": "@jupyter-widgets/controls",
          "model_name": "HTMLModel",
          "model_module_version": "1.5.0",
          "state": {
            "_dom_classes": [],
            "_model_module": "@jupyter-widgets/controls",
            "_model_module_version": "1.5.0",
            "_model_name": "HTMLModel",
            "_view_count": null,
            "_view_module": "@jupyter-widgets/controls",
            "_view_module_version": "1.5.0",
            "_view_name": "HTMLView",
            "description": "",
            "description_tooltip": null,
            "layout": "IPY_MODEL_1ecfd92b75984fa189ae1ca4a53d0f44",
            "placeholder": "​",
            "style": "IPY_MODEL_0d5d087016d24e178642454e0d2b00f3",
            "value": " 1/1 [00:14&lt;00:00, 14.46s/ url]"
          }
        },
        "6d07dc105d3647d797acf6724bfafe67": {
          "model_module": "@jupyter-widgets/base",
          "model_name": "LayoutModel",
          "model_module_version": "1.2.0",
          "state": {
            "_model_module": "@jupyter-widgets/base",
            "_model_module_version": "1.2.0",
            "_model_name": "LayoutModel",
            "_view_count": null,
            "_view_module": "@jupyter-widgets/base",
            "_view_module_version": "1.2.0",
            "_view_name": "LayoutView",
            "align_content": null,
            "align_items": null,
            "align_self": null,
            "border": null,
            "bottom": null,
            "display": null,
            "flex": null,
            "flex_flow": null,
            "grid_area": null,
            "grid_auto_columns": null,
            "grid_auto_flow": null,
            "grid_auto_rows": null,
            "grid_column": null,
            "grid_gap": null,
            "grid_row": null,
            "grid_template_areas": null,
            "grid_template_columns": null,
            "grid_template_rows": null,
            "height": null,
            "justify_content": null,
            "justify_items": null,
            "left": null,
            "margin": null,
            "max_height": null,
            "max_width": null,
            "min_height": null,
            "min_width": null,
            "object_fit": null,
            "object_position": null,
            "order": null,
            "overflow": null,
            "overflow_x": null,
            "overflow_y": null,
            "padding": null,
            "right": null,
            "top": null,
            "visibility": null,
            "width": null
          }
        },
        "3c5994e079534f6f9110f2ebe7fadb25": {
          "model_module": "@jupyter-widgets/base",
          "model_name": "LayoutModel",
          "model_module_version": "1.2.0",
          "state": {
            "_model_module": "@jupyter-widgets/base",
            "_model_module_version": "1.2.0",
            "_model_name": "LayoutModel",
            "_view_count": null,
            "_view_module": "@jupyter-widgets/base",
            "_view_module_version": "1.2.0",
            "_view_name": "LayoutView",
            "align_content": null,
            "align_items": null,
            "align_self": null,
            "border": null,
            "bottom": null,
            "display": null,
            "flex": null,
            "flex_flow": null,
            "grid_area": null,
            "grid_auto_columns": null,
            "grid_auto_flow": null,
            "grid_auto_rows": null,
            "grid_column": null,
            "grid_gap": null,
            "grid_row": null,
            "grid_template_areas": null,
            "grid_template_columns": null,
            "grid_template_rows": null,
            "height": null,
            "justify_content": null,
            "justify_items": null,
            "left": null,
            "margin": null,
            "max_height": null,
            "max_width": null,
            "min_height": null,
            "min_width": null,
            "object_fit": null,
            "object_position": null,
            "order": null,
            "overflow": null,
            "overflow_x": null,
            "overflow_y": null,
            "padding": null,
            "right": null,
            "top": null,
            "visibility": null,
            "width": null
          }
        },
        "20bfba960444438b93b4fa1da3d513b5": {
          "model_module": "@jupyter-widgets/controls",
          "model_name": "DescriptionStyleModel",
          "model_module_version": "1.5.0",
          "state": {
            "_model_module": "@jupyter-widgets/controls",
            "_model_module_version": "1.5.0",
            "_model_name": "DescriptionStyleModel",
            "_view_count": null,
            "_view_module": "@jupyter-widgets/base",
            "_view_module_version": "1.2.0",
            "_view_name": "StyleView",
            "description_width": ""
          }
        },
        "c299e9d596114924bcae9d3c3d4188ce": {
          "model_module": "@jupyter-widgets/base",
          "model_name": "LayoutModel",
          "model_module_version": "1.2.0",
          "state": {
            "_model_module": "@jupyter-widgets/base",
            "_model_module_version": "1.2.0",
            "_model_name": "LayoutModel",
            "_view_count": null,
            "_view_module": "@jupyter-widgets/base",
            "_view_module_version": "1.2.0",
            "_view_name": "LayoutView",
            "align_content": null,
            "align_items": null,
            "align_self": null,
            "border": null,
            "bottom": null,
            "display": null,
            "flex": null,
            "flex_flow": null,
            "grid_area": null,
            "grid_auto_columns": null,
            "grid_auto_flow": null,
            "grid_auto_rows": null,
            "grid_column": null,
            "grid_gap": null,
            "grid_row": null,
            "grid_template_areas": null,
            "grid_template_columns": null,
            "grid_template_rows": null,
            "height": null,
            "justify_content": null,
            "justify_items": null,
            "left": null,
            "margin": null,
            "max_height": null,
            "max_width": null,
            "min_height": null,
            "min_width": null,
            "object_fit": null,
            "object_position": null,
            "order": null,
            "overflow": null,
            "overflow_x": null,
            "overflow_y": null,
            "padding": null,
            "right": null,
            "top": null,
            "visibility": null,
            "width": "20px"
          }
        },
        "654dcb18afaf4d308976ae4c8f1036a4": {
          "model_module": "@jupyter-widgets/controls",
          "model_name": "ProgressStyleModel",
          "model_module_version": "1.5.0",
          "state": {
            "_model_module": "@jupyter-widgets/controls",
            "_model_module_version": "1.5.0",
            "_model_name": "ProgressStyleModel",
            "_view_count": null,
            "_view_module": "@jupyter-widgets/base",
            "_view_module_version": "1.2.0",
            "_view_name": "StyleView",
            "bar_color": null,
            "description_width": ""
          }
        },
        "1ecfd92b75984fa189ae1ca4a53d0f44": {
          "model_module": "@jupyter-widgets/base",
          "model_name": "LayoutModel",
          "model_module_version": "1.2.0",
          "state": {
            "_model_module": "@jupyter-widgets/base",
            "_model_module_version": "1.2.0",
            "_model_name": "LayoutModel",
            "_view_count": null,
            "_view_module": "@jupyter-widgets/base",
            "_view_module_version": "1.2.0",
            "_view_name": "LayoutView",
            "align_content": null,
            "align_items": null,
            "align_self": null,
            "border": null,
            "bottom": null,
            "display": null,
            "flex": null,
            "flex_flow": null,
            "grid_area": null,
            "grid_auto_columns": null,
            "grid_auto_flow": null,
            "grid_auto_rows": null,
            "grid_column": null,
            "grid_gap": null,
            "grid_row": null,
            "grid_template_areas": null,
            "grid_template_columns": null,
            "grid_template_rows": null,
            "height": null,
            "justify_content": null,
            "justify_items": null,
            "left": null,
            "margin": null,
            "max_height": null,
            "max_width": null,
            "min_height": null,
            "min_width": null,
            "object_fit": null,
            "object_position": null,
            "order": null,
            "overflow": null,
            "overflow_x": null,
            "overflow_y": null,
            "padding": null,
            "right": null,
            "top": null,
            "visibility": null,
            "width": null
          }
        },
        "0d5d087016d24e178642454e0d2b00f3": {
          "model_module": "@jupyter-widgets/controls",
          "model_name": "DescriptionStyleModel",
          "model_module_version": "1.5.0",
          "state": {
            "_model_module": "@jupyter-widgets/controls",
            "_model_module_version": "1.5.0",
            "_model_name": "DescriptionStyleModel",
            "_view_count": null,
            "_view_module": "@jupyter-widgets/base",
            "_view_module_version": "1.2.0",
            "_view_name": "StyleView",
            "description_width": ""
          }
        },
        "9d782d489dd8441699dd6c65e62d44b2": {
          "model_module": "@jupyter-widgets/controls",
          "model_name": "HBoxModel",
          "model_module_version": "1.5.0",
          "state": {
            "_dom_classes": [],
            "_model_module": "@jupyter-widgets/controls",
            "_model_module_version": "1.5.0",
            "_model_name": "HBoxModel",
            "_view_count": null,
            "_view_module": "@jupyter-widgets/controls",
            "_view_module_version": "1.5.0",
            "_view_name": "HBoxView",
            "box_style": "",
            "children": [
              "IPY_MODEL_40ea8c962e25417ba694202381bb3726",
              "IPY_MODEL_df2e9f51e7624344b3ad94cdc58a44fc",
              "IPY_MODEL_025a57f3e7fe407d8f86d4bb0fe9ae2c"
            ],
            "layout": "IPY_MODEL_818cb79449d14f8a9f0d6ced88ad2237"
          }
        },
        "40ea8c962e25417ba694202381bb3726": {
          "model_module": "@jupyter-widgets/controls",
          "model_name": "HTMLModel",
          "model_module_version": "1.5.0",
          "state": {
            "_dom_classes": [],
            "_model_module": "@jupyter-widgets/controls",
            "_model_module_version": "1.5.0",
            "_model_name": "HTMLModel",
            "_view_count": null,
            "_view_module": "@jupyter-widgets/controls",
            "_view_module_version": "1.5.0",
            "_view_name": "HTMLView",
            "description": "",
            "description_tooltip": null,
            "layout": "IPY_MODEL_40c1c6d4bd8a48ab837cd4d8e3c8c8c5",
            "placeholder": "​",
            "style": "IPY_MODEL_3d9e3a9cabc8457a8c0f2de1c82819b0",
            "value": "Dl Size...: 100%"
          }
        },
        "df2e9f51e7624344b3ad94cdc58a44fc": {
          "model_module": "@jupyter-widgets/controls",
          "model_name": "FloatProgressModel",
          "model_module_version": "1.5.0",
          "state": {
            "_dom_classes": [],
            "_model_module": "@jupyter-widgets/controls",
            "_model_module_version": "1.5.0",
            "_model_name": "FloatProgressModel",
            "_view_count": null,
            "_view_module": "@jupyter-widgets/controls",
            "_view_module_version": "1.5.0",
            "_view_name": "ProgressView",
            "bar_style": "success",
            "description": "",
            "description_tooltip": null,
            "layout": "IPY_MODEL_5e06e2dec1244f2d98b727277176781c",
            "max": 1,
            "min": 0,
            "orientation": "horizontal",
            "style": "IPY_MODEL_c4faf9dabd94450d871ebab56e9d17d6",
            "value": 1
          }
        },
        "025a57f3e7fe407d8f86d4bb0fe9ae2c": {
          "model_module": "@jupyter-widgets/controls",
          "model_name": "HTMLModel",
          "model_module_version": "1.5.0",
          "state": {
            "_dom_classes": [],
            "_model_module": "@jupyter-widgets/controls",
            "_model_module_version": "1.5.0",
            "_model_name": "HTMLModel",
            "_view_count": null,
            "_view_module": "@jupyter-widgets/controls",
            "_view_module_version": "1.5.0",
            "_view_name": "HTMLView",
            "description": "",
            "description_tooltip": null,
            "layout": "IPY_MODEL_0dfa704a46494e22b948bc9d47474254",
            "placeholder": "​",
            "style": "IPY_MODEL_d608b9f8940344f78e5950cdf3c7bf9b",
            "value": " 80/80 [00:14&lt;00:00,  8.78 MiB/s]"
          }
        },
        "818cb79449d14f8a9f0d6ced88ad2237": {
          "model_module": "@jupyter-widgets/base",
          "model_name": "LayoutModel",
          "model_module_version": "1.2.0",
          "state": {
            "_model_module": "@jupyter-widgets/base",
            "_model_module_version": "1.2.0",
            "_model_name": "LayoutModel",
            "_view_count": null,
            "_view_module": "@jupyter-widgets/base",
            "_view_module_version": "1.2.0",
            "_view_name": "LayoutView",
            "align_content": null,
            "align_items": null,
            "align_self": null,
            "border": null,
            "bottom": null,
            "display": null,
            "flex": null,
            "flex_flow": null,
            "grid_area": null,
            "grid_auto_columns": null,
            "grid_auto_flow": null,
            "grid_auto_rows": null,
            "grid_column": null,
            "grid_gap": null,
            "grid_row": null,
            "grid_template_areas": null,
            "grid_template_columns": null,
            "grid_template_rows": null,
            "height": null,
            "justify_content": null,
            "justify_items": null,
            "left": null,
            "margin": null,
            "max_height": null,
            "max_width": null,
            "min_height": null,
            "min_width": null,
            "object_fit": null,
            "object_position": null,
            "order": null,
            "overflow": null,
            "overflow_x": null,
            "overflow_y": null,
            "padding": null,
            "right": null,
            "top": null,
            "visibility": null,
            "width": null
          }
        },
        "40c1c6d4bd8a48ab837cd4d8e3c8c8c5": {
          "model_module": "@jupyter-widgets/base",
          "model_name": "LayoutModel",
          "model_module_version": "1.2.0",
          "state": {
            "_model_module": "@jupyter-widgets/base",
            "_model_module_version": "1.2.0",
            "_model_name": "LayoutModel",
            "_view_count": null,
            "_view_module": "@jupyter-widgets/base",
            "_view_module_version": "1.2.0",
            "_view_name": "LayoutView",
            "align_content": null,
            "align_items": null,
            "align_self": null,
            "border": null,
            "bottom": null,
            "display": null,
            "flex": null,
            "flex_flow": null,
            "grid_area": null,
            "grid_auto_columns": null,
            "grid_auto_flow": null,
            "grid_auto_rows": null,
            "grid_column": null,
            "grid_gap": null,
            "grid_row": null,
            "grid_template_areas": null,
            "grid_template_columns": null,
            "grid_template_rows": null,
            "height": null,
            "justify_content": null,
            "justify_items": null,
            "left": null,
            "margin": null,
            "max_height": null,
            "max_width": null,
            "min_height": null,
            "min_width": null,
            "object_fit": null,
            "object_position": null,
            "order": null,
            "overflow": null,
            "overflow_x": null,
            "overflow_y": null,
            "padding": null,
            "right": null,
            "top": null,
            "visibility": null,
            "width": null
          }
        },
        "3d9e3a9cabc8457a8c0f2de1c82819b0": {
          "model_module": "@jupyter-widgets/controls",
          "model_name": "DescriptionStyleModel",
          "model_module_version": "1.5.0",
          "state": {
            "_model_module": "@jupyter-widgets/controls",
            "_model_module_version": "1.5.0",
            "_model_name": "DescriptionStyleModel",
            "_view_count": null,
            "_view_module": "@jupyter-widgets/base",
            "_view_module_version": "1.2.0",
            "_view_name": "StyleView",
            "description_width": ""
          }
        },
        "5e06e2dec1244f2d98b727277176781c": {
          "model_module": "@jupyter-widgets/base",
          "model_name": "LayoutModel",
          "model_module_version": "1.2.0",
          "state": {
            "_model_module": "@jupyter-widgets/base",
            "_model_module_version": "1.2.0",
            "_model_name": "LayoutModel",
            "_view_count": null,
            "_view_module": "@jupyter-widgets/base",
            "_view_module_version": "1.2.0",
            "_view_name": "LayoutView",
            "align_content": null,
            "align_items": null,
            "align_self": null,
            "border": null,
            "bottom": null,
            "display": null,
            "flex": null,
            "flex_flow": null,
            "grid_area": null,
            "grid_auto_columns": null,
            "grid_auto_flow": null,
            "grid_auto_rows": null,
            "grid_column": null,
            "grid_gap": null,
            "grid_row": null,
            "grid_template_areas": null,
            "grid_template_columns": null,
            "grid_template_rows": null,
            "height": null,
            "justify_content": null,
            "justify_items": null,
            "left": null,
            "margin": null,
            "max_height": null,
            "max_width": null,
            "min_height": null,
            "min_width": null,
            "object_fit": null,
            "object_position": null,
            "order": null,
            "overflow": null,
            "overflow_x": null,
            "overflow_y": null,
            "padding": null,
            "right": null,
            "top": null,
            "visibility": null,
            "width": "20px"
          }
        },
        "c4faf9dabd94450d871ebab56e9d17d6": {
          "model_module": "@jupyter-widgets/controls",
          "model_name": "ProgressStyleModel",
          "model_module_version": "1.5.0",
          "state": {
            "_model_module": "@jupyter-widgets/controls",
            "_model_module_version": "1.5.0",
            "_model_name": "ProgressStyleModel",
            "_view_count": null,
            "_view_module": "@jupyter-widgets/base",
            "_view_module_version": "1.2.0",
            "_view_name": "StyleView",
            "bar_color": null,
            "description_width": ""
          }
        },
        "0dfa704a46494e22b948bc9d47474254": {
          "model_module": "@jupyter-widgets/base",
          "model_name": "LayoutModel",
          "model_module_version": "1.2.0",
          "state": {
            "_model_module": "@jupyter-widgets/base",
            "_model_module_version": "1.2.0",
            "_model_name": "LayoutModel",
            "_view_count": null,
            "_view_module": "@jupyter-widgets/base",
            "_view_module_version": "1.2.0",
            "_view_name": "LayoutView",
            "align_content": null,
            "align_items": null,
            "align_self": null,
            "border": null,
            "bottom": null,
            "display": null,
            "flex": null,
            "flex_flow": null,
            "grid_area": null,
            "grid_auto_columns": null,
            "grid_auto_flow": null,
            "grid_auto_rows": null,
            "grid_column": null,
            "grid_gap": null,
            "grid_row": null,
            "grid_template_areas": null,
            "grid_template_columns": null,
            "grid_template_rows": null,
            "height": null,
            "justify_content": null,
            "justify_items": null,
            "left": null,
            "margin": null,
            "max_height": null,
            "max_width": null,
            "min_height": null,
            "min_width": null,
            "object_fit": null,
            "object_position": null,
            "order": null,
            "overflow": null,
            "overflow_x": null,
            "overflow_y": null,
            "padding": null,
            "right": null,
            "top": null,
            "visibility": null,
            "width": null
          }
        },
        "d608b9f8940344f78e5950cdf3c7bf9b": {
          "model_module": "@jupyter-widgets/controls",
          "model_name": "DescriptionStyleModel",
          "model_module_version": "1.5.0",
          "state": {
            "_model_module": "@jupyter-widgets/controls",
            "_model_module_version": "1.5.0",
            "_model_name": "DescriptionStyleModel",
            "_view_count": null,
            "_view_module": "@jupyter-widgets/base",
            "_view_module_version": "1.2.0",
            "_view_name": "StyleView",
            "description_width": ""
          }
        },
        "e4d9ac53dc6944e7b26a890400a89144": {
          "model_module": "@jupyter-widgets/controls",
          "model_name": "HBoxModel",
          "model_module_version": "1.5.0",
          "state": {
            "_dom_classes": [],
            "_model_module": "@jupyter-widgets/controls",
            "_model_module_version": "1.5.0",
            "_model_name": "HBoxModel",
            "_view_count": null,
            "_view_module": "@jupyter-widgets/controls",
            "_view_module_version": "1.5.0",
            "_view_name": "HBoxView",
            "box_style": "",
            "children": [
              "IPY_MODEL_eb06f33ca89f43bdb3324d70750cf831",
              "IPY_MODEL_6856874e0e13404c9067a3e922dc4f6d",
              "IPY_MODEL_43a258daf6ce43249936bc0b110bff43"
            ],
            "layout": "IPY_MODEL_3e59e2d493394d578fd782996f00a992"
          }
        },
        "eb06f33ca89f43bdb3324d70750cf831": {
          "model_module": "@jupyter-widgets/controls",
          "model_name": "HTMLModel",
          "model_module_version": "1.5.0",
          "state": {
            "_dom_classes": [],
            "_model_module": "@jupyter-widgets/controls",
            "_model_module_version": "1.5.0",
            "_model_name": "HTMLModel",
            "_view_count": null,
            "_view_module": "@jupyter-widgets/controls",
            "_view_module_version": "1.5.0",
            "_view_name": "HTMLView",
            "description": "",
            "description_tooltip": null,
            "layout": "IPY_MODEL_34a5c6bc508d4395982daa9e4bc95230",
            "placeholder": "​",
            "style": "IPY_MODEL_ce63959bfa334117855b0eaef515a36f",
            "value": "Generating splits...: 100%"
          }
        },
        "6856874e0e13404c9067a3e922dc4f6d": {
          "model_module": "@jupyter-widgets/controls",
          "model_name": "FloatProgressModel",
          "model_module_version": "1.5.0",
          "state": {
            "_dom_classes": [],
            "_model_module": "@jupyter-widgets/controls",
            "_model_module_version": "1.5.0",
            "_model_name": "FloatProgressModel",
            "_view_count": null,
            "_view_module": "@jupyter-widgets/controls",
            "_view_module_version": "1.5.0",
            "_view_name": "ProgressView",
            "bar_style": "",
            "description": "",
            "description_tooltip": null,
            "layout": "IPY_MODEL_51675d03178b4a33bb373ef91ea822fe",
            "max": 3,
            "min": 0,
            "orientation": "horizontal",
            "style": "IPY_MODEL_4671c2495cc04092bbf0e3372494088c",
            "value": 3
          }
        },
        "43a258daf6ce43249936bc0b110bff43": {
          "model_module": "@jupyter-widgets/controls",
          "model_name": "HTMLModel",
          "model_module_version": "1.5.0",
          "state": {
            "_dom_classes": [],
            "_model_module": "@jupyter-widgets/controls",
            "_model_module_version": "1.5.0",
            "_model_name": "HTMLModel",
            "_view_count": null,
            "_view_module": "@jupyter-widgets/controls",
            "_view_module_version": "1.5.0",
            "_view_name": "HTMLView",
            "description": "",
            "description_tooltip": null,
            "layout": "IPY_MODEL_cf111859000d4914af955127a0ca7f53",
            "placeholder": "​",
            "style": "IPY_MODEL_0c18d1a7bcab4862be5ff057a1719b27",
            "value": " 3/3 [00:34&lt;00:00, 11.73s/ splits]"
          }
        },
        "3e59e2d493394d578fd782996f00a992": {
          "model_module": "@jupyter-widgets/base",
          "model_name": "LayoutModel",
          "model_module_version": "1.2.0",
          "state": {
            "_model_module": "@jupyter-widgets/base",
            "_model_module_version": "1.2.0",
            "_model_name": "LayoutModel",
            "_view_count": null,
            "_view_module": "@jupyter-widgets/base",
            "_view_module_version": "1.2.0",
            "_view_name": "LayoutView",
            "align_content": null,
            "align_items": null,
            "align_self": null,
            "border": null,
            "bottom": null,
            "display": null,
            "flex": null,
            "flex_flow": null,
            "grid_area": null,
            "grid_auto_columns": null,
            "grid_auto_flow": null,
            "grid_auto_rows": null,
            "grid_column": null,
            "grid_gap": null,
            "grid_row": null,
            "grid_template_areas": null,
            "grid_template_columns": null,
            "grid_template_rows": null,
            "height": null,
            "justify_content": null,
            "justify_items": null,
            "left": null,
            "margin": null,
            "max_height": null,
            "max_width": null,
            "min_height": null,
            "min_width": null,
            "object_fit": null,
            "object_position": null,
            "order": null,
            "overflow": null,
            "overflow_x": null,
            "overflow_y": null,
            "padding": null,
            "right": null,
            "top": null,
            "visibility": "hidden",
            "width": null
          }
        },
        "34a5c6bc508d4395982daa9e4bc95230": {
          "model_module": "@jupyter-widgets/base",
          "model_name": "LayoutModel",
          "model_module_version": "1.2.0",
          "state": {
            "_model_module": "@jupyter-widgets/base",
            "_model_module_version": "1.2.0",
            "_model_name": "LayoutModel",
            "_view_count": null,
            "_view_module": "@jupyter-widgets/base",
            "_view_module_version": "1.2.0",
            "_view_name": "LayoutView",
            "align_content": null,
            "align_items": null,
            "align_self": null,
            "border": null,
            "bottom": null,
            "display": null,
            "flex": null,
            "flex_flow": null,
            "grid_area": null,
            "grid_auto_columns": null,
            "grid_auto_flow": null,
            "grid_auto_rows": null,
            "grid_column": null,
            "grid_gap": null,
            "grid_row": null,
            "grid_template_areas": null,
            "grid_template_columns": null,
            "grid_template_rows": null,
            "height": null,
            "justify_content": null,
            "justify_items": null,
            "left": null,
            "margin": null,
            "max_height": null,
            "max_width": null,
            "min_height": null,
            "min_width": null,
            "object_fit": null,
            "object_position": null,
            "order": null,
            "overflow": null,
            "overflow_x": null,
            "overflow_y": null,
            "padding": null,
            "right": null,
            "top": null,
            "visibility": null,
            "width": null
          }
        },
        "ce63959bfa334117855b0eaef515a36f": {
          "model_module": "@jupyter-widgets/controls",
          "model_name": "DescriptionStyleModel",
          "model_module_version": "1.5.0",
          "state": {
            "_model_module": "@jupyter-widgets/controls",
            "_model_module_version": "1.5.0",
            "_model_name": "DescriptionStyleModel",
            "_view_count": null,
            "_view_module": "@jupyter-widgets/base",
            "_view_module_version": "1.2.0",
            "_view_name": "StyleView",
            "description_width": ""
          }
        },
        "51675d03178b4a33bb373ef91ea822fe": {
          "model_module": "@jupyter-widgets/base",
          "model_name": "LayoutModel",
          "model_module_version": "1.2.0",
          "state": {
            "_model_module": "@jupyter-widgets/base",
            "_model_module_version": "1.2.0",
            "_model_name": "LayoutModel",
            "_view_count": null,
            "_view_module": "@jupyter-widgets/base",
            "_view_module_version": "1.2.0",
            "_view_name": "LayoutView",
            "align_content": null,
            "align_items": null,
            "align_self": null,
            "border": null,
            "bottom": null,
            "display": null,
            "flex": null,
            "flex_flow": null,
            "grid_area": null,
            "grid_auto_columns": null,
            "grid_auto_flow": null,
            "grid_auto_rows": null,
            "grid_column": null,
            "grid_gap": null,
            "grid_row": null,
            "grid_template_areas": null,
            "grid_template_columns": null,
            "grid_template_rows": null,
            "height": null,
            "justify_content": null,
            "justify_items": null,
            "left": null,
            "margin": null,
            "max_height": null,
            "max_width": null,
            "min_height": null,
            "min_width": null,
            "object_fit": null,
            "object_position": null,
            "order": null,
            "overflow": null,
            "overflow_x": null,
            "overflow_y": null,
            "padding": null,
            "right": null,
            "top": null,
            "visibility": null,
            "width": null
          }
        },
        "4671c2495cc04092bbf0e3372494088c": {
          "model_module": "@jupyter-widgets/controls",
          "model_name": "ProgressStyleModel",
          "model_module_version": "1.5.0",
          "state": {
            "_model_module": "@jupyter-widgets/controls",
            "_model_module_version": "1.5.0",
            "_model_name": "ProgressStyleModel",
            "_view_count": null,
            "_view_module": "@jupyter-widgets/base",
            "_view_module_version": "1.2.0",
            "_view_name": "StyleView",
            "bar_color": null,
            "description_width": ""
          }
        },
        "cf111859000d4914af955127a0ca7f53": {
          "model_module": "@jupyter-widgets/base",
          "model_name": "LayoutModel",
          "model_module_version": "1.2.0",
          "state": {
            "_model_module": "@jupyter-widgets/base",
            "_model_module_version": "1.2.0",
            "_model_name": "LayoutModel",
            "_view_count": null,
            "_view_module": "@jupyter-widgets/base",
            "_view_module_version": "1.2.0",
            "_view_name": "LayoutView",
            "align_content": null,
            "align_items": null,
            "align_self": null,
            "border": null,
            "bottom": null,
            "display": null,
            "flex": null,
            "flex_flow": null,
            "grid_area": null,
            "grid_auto_columns": null,
            "grid_auto_flow": null,
            "grid_auto_rows": null,
            "grid_column": null,
            "grid_gap": null,
            "grid_row": null,
            "grid_template_areas": null,
            "grid_template_columns": null,
            "grid_template_rows": null,
            "height": null,
            "justify_content": null,
            "justify_items": null,
            "left": null,
            "margin": null,
            "max_height": null,
            "max_width": null,
            "min_height": null,
            "min_width": null,
            "object_fit": null,
            "object_position": null,
            "order": null,
            "overflow": null,
            "overflow_x": null,
            "overflow_y": null,
            "padding": null,
            "right": null,
            "top": null,
            "visibility": null,
            "width": null
          }
        },
        "0c18d1a7bcab4862be5ff057a1719b27": {
          "model_module": "@jupyter-widgets/controls",
          "model_name": "DescriptionStyleModel",
          "model_module_version": "1.5.0",
          "state": {
            "_model_module": "@jupyter-widgets/controls",
            "_model_module_version": "1.5.0",
            "_model_name": "DescriptionStyleModel",
            "_view_count": null,
            "_view_module": "@jupyter-widgets/base",
            "_view_module_version": "1.2.0",
            "_view_name": "StyleView",
            "description_width": ""
          }
        },
        "aa33e0dded984e539402b0d67bfb6964": {
          "model_module": "@jupyter-widgets/controls",
          "model_name": "HBoxModel",
          "model_module_version": "1.5.0",
          "state": {
            "_dom_classes": [],
            "_model_module": "@jupyter-widgets/controls",
            "_model_module_version": "1.5.0",
            "_model_name": "HBoxModel",
            "_view_count": null,
            "_view_module": "@jupyter-widgets/controls",
            "_view_module_version": "1.5.0",
            "_view_name": "HBoxView",
            "box_style": "",
            "children": [
              "IPY_MODEL_38eeb52cec754e619bbd3c01455e6098",
              "IPY_MODEL_db592718bd27408dbcc69ee77547eaff",
              "IPY_MODEL_0a8913eb01224d1a92f71a826982d15d"
            ],
            "layout": "IPY_MODEL_4a91aeafc3e0471b8cf0f8de374ebbbf"
          }
        },
        "38eeb52cec754e619bbd3c01455e6098": {
          "model_module": "@jupyter-widgets/controls",
          "model_name": "HTMLModel",
          "model_module_version": "1.5.0",
          "state": {
            "_dom_classes": [],
            "_model_module": "@jupyter-widgets/controls",
            "_model_module_version": "1.5.0",
            "_model_name": "HTMLModel",
            "_view_count": null,
            "_view_module": "@jupyter-widgets/controls",
            "_view_module_version": "1.5.0",
            "_view_name": "HTMLView",
            "description": "",
            "description_tooltip": null,
            "layout": "IPY_MODEL_f030a22e84b9480fa0dcf47c776218e0",
            "placeholder": "​",
            "style": "IPY_MODEL_20048d961bd2499380e2f571f6cc300a",
            "value": "Generating train examples...:  76%"
          }
        },
        "db592718bd27408dbcc69ee77547eaff": {
          "model_module": "@jupyter-widgets/controls",
          "model_name": "FloatProgressModel",
          "model_module_version": "1.5.0",
          "state": {
            "_dom_classes": [],
            "_model_module": "@jupyter-widgets/controls",
            "_model_module_version": "1.5.0",
            "_model_name": "FloatProgressModel",
            "_view_count": null,
            "_view_module": "@jupyter-widgets/controls",
            "_view_module_version": "1.5.0",
            "_view_name": "ProgressView",
            "bar_style": "",
            "description": "",
            "description_tooltip": null,
            "layout": "IPY_MODEL_21a42b4df3d24c0196482876021ff123",
            "max": 25000,
            "min": 0,
            "orientation": "horizontal",
            "style": "IPY_MODEL_9dc2951ab3524641a148219f25f42f58",
            "value": 25000
          }
        },
        "0a8913eb01224d1a92f71a826982d15d": {
          "model_module": "@jupyter-widgets/controls",
          "model_name": "HTMLModel",
          "model_module_version": "1.5.0",
          "state": {
            "_dom_classes": [],
            "_model_module": "@jupyter-widgets/controls",
            "_model_module_version": "1.5.0",
            "_model_name": "HTMLModel",
            "_view_count": null,
            "_view_module": "@jupyter-widgets/controls",
            "_view_module_version": "1.5.0",
            "_view_name": "HTMLView",
            "description": "",
            "description_tooltip": null,
            "layout": "IPY_MODEL_ac3a7702330f4645a8f3ecb8795fb035",
            "placeholder": "​",
            "style": "IPY_MODEL_f0b05f79cb444120b3b8a9a5e6c8bede",
            "value": " 18886/25000 [00:05&lt;00:01, 4653.37 examples/s]"
          }
        },
        "4a91aeafc3e0471b8cf0f8de374ebbbf": {
          "model_module": "@jupyter-widgets/base",
          "model_name": "LayoutModel",
          "model_module_version": "1.2.0",
          "state": {
            "_model_module": "@jupyter-widgets/base",
            "_model_module_version": "1.2.0",
            "_model_name": "LayoutModel",
            "_view_count": null,
            "_view_module": "@jupyter-widgets/base",
            "_view_module_version": "1.2.0",
            "_view_name": "LayoutView",
            "align_content": null,
            "align_items": null,
            "align_self": null,
            "border": null,
            "bottom": null,
            "display": null,
            "flex": null,
            "flex_flow": null,
            "grid_area": null,
            "grid_auto_columns": null,
            "grid_auto_flow": null,
            "grid_auto_rows": null,
            "grid_column": null,
            "grid_gap": null,
            "grid_row": null,
            "grid_template_areas": null,
            "grid_template_columns": null,
            "grid_template_rows": null,
            "height": null,
            "justify_content": null,
            "justify_items": null,
            "left": null,
            "margin": null,
            "max_height": null,
            "max_width": null,
            "min_height": null,
            "min_width": null,
            "object_fit": null,
            "object_position": null,
            "order": null,
            "overflow": null,
            "overflow_x": null,
            "overflow_y": null,
            "padding": null,
            "right": null,
            "top": null,
            "visibility": "hidden",
            "width": null
          }
        },
        "f030a22e84b9480fa0dcf47c776218e0": {
          "model_module": "@jupyter-widgets/base",
          "model_name": "LayoutModel",
          "model_module_version": "1.2.0",
          "state": {
            "_model_module": "@jupyter-widgets/base",
            "_model_module_version": "1.2.0",
            "_model_name": "LayoutModel",
            "_view_count": null,
            "_view_module": "@jupyter-widgets/base",
            "_view_module_version": "1.2.0",
            "_view_name": "LayoutView",
            "align_content": null,
            "align_items": null,
            "align_self": null,
            "border": null,
            "bottom": null,
            "display": null,
            "flex": null,
            "flex_flow": null,
            "grid_area": null,
            "grid_auto_columns": null,
            "grid_auto_flow": null,
            "grid_auto_rows": null,
            "grid_column": null,
            "grid_gap": null,
            "grid_row": null,
            "grid_template_areas": null,
            "grid_template_columns": null,
            "grid_template_rows": null,
            "height": null,
            "justify_content": null,
            "justify_items": null,
            "left": null,
            "margin": null,
            "max_height": null,
            "max_width": null,
            "min_height": null,
            "min_width": null,
            "object_fit": null,
            "object_position": null,
            "order": null,
            "overflow": null,
            "overflow_x": null,
            "overflow_y": null,
            "padding": null,
            "right": null,
            "top": null,
            "visibility": null,
            "width": null
          }
        },
        "20048d961bd2499380e2f571f6cc300a": {
          "model_module": "@jupyter-widgets/controls",
          "model_name": "DescriptionStyleModel",
          "model_module_version": "1.5.0",
          "state": {
            "_model_module": "@jupyter-widgets/controls",
            "_model_module_version": "1.5.0",
            "_model_name": "DescriptionStyleModel",
            "_view_count": null,
            "_view_module": "@jupyter-widgets/base",
            "_view_module_version": "1.2.0",
            "_view_name": "StyleView",
            "description_width": ""
          }
        },
        "21a42b4df3d24c0196482876021ff123": {
          "model_module": "@jupyter-widgets/base",
          "model_name": "LayoutModel",
          "model_module_version": "1.2.0",
          "state": {
            "_model_module": "@jupyter-widgets/base",
            "_model_module_version": "1.2.0",
            "_model_name": "LayoutModel",
            "_view_count": null,
            "_view_module": "@jupyter-widgets/base",
            "_view_module_version": "1.2.0",
            "_view_name": "LayoutView",
            "align_content": null,
            "align_items": null,
            "align_self": null,
            "border": null,
            "bottom": null,
            "display": null,
            "flex": null,
            "flex_flow": null,
            "grid_area": null,
            "grid_auto_columns": null,
            "grid_auto_flow": null,
            "grid_auto_rows": null,
            "grid_column": null,
            "grid_gap": null,
            "grid_row": null,
            "grid_template_areas": null,
            "grid_template_columns": null,
            "grid_template_rows": null,
            "height": null,
            "justify_content": null,
            "justify_items": null,
            "left": null,
            "margin": null,
            "max_height": null,
            "max_width": null,
            "min_height": null,
            "min_width": null,
            "object_fit": null,
            "object_position": null,
            "order": null,
            "overflow": null,
            "overflow_x": null,
            "overflow_y": null,
            "padding": null,
            "right": null,
            "top": null,
            "visibility": null,
            "width": null
          }
        },
        "9dc2951ab3524641a148219f25f42f58": {
          "model_module": "@jupyter-widgets/controls",
          "model_name": "ProgressStyleModel",
          "model_module_version": "1.5.0",
          "state": {
            "_model_module": "@jupyter-widgets/controls",
            "_model_module_version": "1.5.0",
            "_model_name": "ProgressStyleModel",
            "_view_count": null,
            "_view_module": "@jupyter-widgets/base",
            "_view_module_version": "1.2.0",
            "_view_name": "StyleView",
            "bar_color": null,
            "description_width": ""
          }
        },
        "ac3a7702330f4645a8f3ecb8795fb035": {
          "model_module": "@jupyter-widgets/base",
          "model_name": "LayoutModel",
          "model_module_version": "1.2.0",
          "state": {
            "_model_module": "@jupyter-widgets/base",
            "_model_module_version": "1.2.0",
            "_model_name": "LayoutModel",
            "_view_count": null,
            "_view_module": "@jupyter-widgets/base",
            "_view_module_version": "1.2.0",
            "_view_name": "LayoutView",
            "align_content": null,
            "align_items": null,
            "align_self": null,
            "border": null,
            "bottom": null,
            "display": null,
            "flex": null,
            "flex_flow": null,
            "grid_area": null,
            "grid_auto_columns": null,
            "grid_auto_flow": null,
            "grid_auto_rows": null,
            "grid_column": null,
            "grid_gap": null,
            "grid_row": null,
            "grid_template_areas": null,
            "grid_template_columns": null,
            "grid_template_rows": null,
            "height": null,
            "justify_content": null,
            "justify_items": null,
            "left": null,
            "margin": null,
            "max_height": null,
            "max_width": null,
            "min_height": null,
            "min_width": null,
            "object_fit": null,
            "object_position": null,
            "order": null,
            "overflow": null,
            "overflow_x": null,
            "overflow_y": null,
            "padding": null,
            "right": null,
            "top": null,
            "visibility": null,
            "width": null
          }
        },
        "f0b05f79cb444120b3b8a9a5e6c8bede": {
          "model_module": "@jupyter-widgets/controls",
          "model_name": "DescriptionStyleModel",
          "model_module_version": "1.5.0",
          "state": {
            "_model_module": "@jupyter-widgets/controls",
            "_model_module_version": "1.5.0",
            "_model_name": "DescriptionStyleModel",
            "_view_count": null,
            "_view_module": "@jupyter-widgets/base",
            "_view_module_version": "1.2.0",
            "_view_name": "StyleView",
            "description_width": ""
          }
        },
        "349da7d9ef094a50a269c54474a4ad6a": {
          "model_module": "@jupyter-widgets/controls",
          "model_name": "HBoxModel",
          "model_module_version": "1.5.0",
          "state": {
            "_dom_classes": [],
            "_model_module": "@jupyter-widgets/controls",
            "_model_module_version": "1.5.0",
            "_model_name": "HBoxModel",
            "_view_count": null,
            "_view_module": "@jupyter-widgets/controls",
            "_view_module_version": "1.5.0",
            "_view_name": "HBoxView",
            "box_style": "",
            "children": [
              "IPY_MODEL_51037ca4f049462e8775ccdba8e20adf",
              "IPY_MODEL_01764990fe5940a7b44ccd911cc3a3d8",
              "IPY_MODEL_2164f50f836543f8b42922385324e282"
            ],
            "layout": "IPY_MODEL_d07c5c5e7f8840278ef9d5ba467f8c77"
          }
        },
        "51037ca4f049462e8775ccdba8e20adf": {
          "model_module": "@jupyter-widgets/controls",
          "model_name": "HTMLModel",
          "model_module_version": "1.5.0",
          "state": {
            "_dom_classes": [],
            "_model_module": "@jupyter-widgets/controls",
            "_model_module_version": "1.5.0",
            "_model_name": "HTMLModel",
            "_view_count": null,
            "_view_module": "@jupyter-widgets/controls",
            "_view_module_version": "1.5.0",
            "_view_name": "HTMLView",
            "description": "",
            "description_tooltip": null,
            "layout": "IPY_MODEL_243f420f44884e25892ddb842c2d2c44",
            "placeholder": "​",
            "style": "IPY_MODEL_1dbe76b87d8f43a39bebdc282b4dea35",
            "value": "Shuffling /root/tensorflow_datasets/imdb_reviews/plain_text/incomplete.IO1EI3_1.0.0/imdb_reviews-train.tfrecord*...:   0%"
          }
        },
        "01764990fe5940a7b44ccd911cc3a3d8": {
          "model_module": "@jupyter-widgets/controls",
          "model_name": "FloatProgressModel",
          "model_module_version": "1.5.0",
          "state": {
            "_dom_classes": [],
            "_model_module": "@jupyter-widgets/controls",
            "_model_module_version": "1.5.0",
            "_model_name": "FloatProgressModel",
            "_view_count": null,
            "_view_module": "@jupyter-widgets/controls",
            "_view_module_version": "1.5.0",
            "_view_name": "ProgressView",
            "bar_style": "",
            "description": "",
            "description_tooltip": null,
            "layout": "IPY_MODEL_bfc835525c0649f0bd4d0e2dd0e6016a",
            "max": 25000,
            "min": 0,
            "orientation": "horizontal",
            "style": "IPY_MODEL_cb8d895c2c734358a428d0a3dff5b987",
            "value": 25000
          }
        },
        "2164f50f836543f8b42922385324e282": {
          "model_module": "@jupyter-widgets/controls",
          "model_name": "HTMLModel",
          "model_module_version": "1.5.0",
          "state": {
            "_dom_classes": [],
            "_model_module": "@jupyter-widgets/controls",
            "_model_module_version": "1.5.0",
            "_model_name": "HTMLModel",
            "_view_count": null,
            "_view_module": "@jupyter-widgets/controls",
            "_view_module_version": "1.5.0",
            "_view_name": "HTMLView",
            "description": "",
            "description_tooltip": null,
            "layout": "IPY_MODEL_cff4d49b7dcb4179bef6ca55cfaebb96",
            "placeholder": "​",
            "style": "IPY_MODEL_7c66af3cee424e409e00dd0f3d7438b6",
            "value": " 0/25000 [00:00&lt;?, ? examples/s]"
          }
        },
        "d07c5c5e7f8840278ef9d5ba467f8c77": {
          "model_module": "@jupyter-widgets/base",
          "model_name": "LayoutModel",
          "model_module_version": "1.2.0",
          "state": {
            "_model_module": "@jupyter-widgets/base",
            "_model_module_version": "1.2.0",
            "_model_name": "LayoutModel",
            "_view_count": null,
            "_view_module": "@jupyter-widgets/base",
            "_view_module_version": "1.2.0",
            "_view_name": "LayoutView",
            "align_content": null,
            "align_items": null,
            "align_self": null,
            "border": null,
            "bottom": null,
            "display": null,
            "flex": null,
            "flex_flow": null,
            "grid_area": null,
            "grid_auto_columns": null,
            "grid_auto_flow": null,
            "grid_auto_rows": null,
            "grid_column": null,
            "grid_gap": null,
            "grid_row": null,
            "grid_template_areas": null,
            "grid_template_columns": null,
            "grid_template_rows": null,
            "height": null,
            "justify_content": null,
            "justify_items": null,
            "left": null,
            "margin": null,
            "max_height": null,
            "max_width": null,
            "min_height": null,
            "min_width": null,
            "object_fit": null,
            "object_position": null,
            "order": null,
            "overflow": null,
            "overflow_x": null,
            "overflow_y": null,
            "padding": null,
            "right": null,
            "top": null,
            "visibility": "hidden",
            "width": null
          }
        },
        "243f420f44884e25892ddb842c2d2c44": {
          "model_module": "@jupyter-widgets/base",
          "model_name": "LayoutModel",
          "model_module_version": "1.2.0",
          "state": {
            "_model_module": "@jupyter-widgets/base",
            "_model_module_version": "1.2.0",
            "_model_name": "LayoutModel",
            "_view_count": null,
            "_view_module": "@jupyter-widgets/base",
            "_view_module_version": "1.2.0",
            "_view_name": "LayoutView",
            "align_content": null,
            "align_items": null,
            "align_self": null,
            "border": null,
            "bottom": null,
            "display": null,
            "flex": null,
            "flex_flow": null,
            "grid_area": null,
            "grid_auto_columns": null,
            "grid_auto_flow": null,
            "grid_auto_rows": null,
            "grid_column": null,
            "grid_gap": null,
            "grid_row": null,
            "grid_template_areas": null,
            "grid_template_columns": null,
            "grid_template_rows": null,
            "height": null,
            "justify_content": null,
            "justify_items": null,
            "left": null,
            "margin": null,
            "max_height": null,
            "max_width": null,
            "min_height": null,
            "min_width": null,
            "object_fit": null,
            "object_position": null,
            "order": null,
            "overflow": null,
            "overflow_x": null,
            "overflow_y": null,
            "padding": null,
            "right": null,
            "top": null,
            "visibility": null,
            "width": null
          }
        },
        "1dbe76b87d8f43a39bebdc282b4dea35": {
          "model_module": "@jupyter-widgets/controls",
          "model_name": "DescriptionStyleModel",
          "model_module_version": "1.5.0",
          "state": {
            "_model_module": "@jupyter-widgets/controls",
            "_model_module_version": "1.5.0",
            "_model_name": "DescriptionStyleModel",
            "_view_count": null,
            "_view_module": "@jupyter-widgets/base",
            "_view_module_version": "1.2.0",
            "_view_name": "StyleView",
            "description_width": ""
          }
        },
        "bfc835525c0649f0bd4d0e2dd0e6016a": {
          "model_module": "@jupyter-widgets/base",
          "model_name": "LayoutModel",
          "model_module_version": "1.2.0",
          "state": {
            "_model_module": "@jupyter-widgets/base",
            "_model_module_version": "1.2.0",
            "_model_name": "LayoutModel",
            "_view_count": null,
            "_view_module": "@jupyter-widgets/base",
            "_view_module_version": "1.2.0",
            "_view_name": "LayoutView",
            "align_content": null,
            "align_items": null,
            "align_self": null,
            "border": null,
            "bottom": null,
            "display": null,
            "flex": null,
            "flex_flow": null,
            "grid_area": null,
            "grid_auto_columns": null,
            "grid_auto_flow": null,
            "grid_auto_rows": null,
            "grid_column": null,
            "grid_gap": null,
            "grid_row": null,
            "grid_template_areas": null,
            "grid_template_columns": null,
            "grid_template_rows": null,
            "height": null,
            "justify_content": null,
            "justify_items": null,
            "left": null,
            "margin": null,
            "max_height": null,
            "max_width": null,
            "min_height": null,
            "min_width": null,
            "object_fit": null,
            "object_position": null,
            "order": null,
            "overflow": null,
            "overflow_x": null,
            "overflow_y": null,
            "padding": null,
            "right": null,
            "top": null,
            "visibility": null,
            "width": null
          }
        },
        "cb8d895c2c734358a428d0a3dff5b987": {
          "model_module": "@jupyter-widgets/controls",
          "model_name": "ProgressStyleModel",
          "model_module_version": "1.5.0",
          "state": {
            "_model_module": "@jupyter-widgets/controls",
            "_model_module_version": "1.5.0",
            "_model_name": "ProgressStyleModel",
            "_view_count": null,
            "_view_module": "@jupyter-widgets/base",
            "_view_module_version": "1.2.0",
            "_view_name": "StyleView",
            "bar_color": null,
            "description_width": ""
          }
        },
        "cff4d49b7dcb4179bef6ca55cfaebb96": {
          "model_module": "@jupyter-widgets/base",
          "model_name": "LayoutModel",
          "model_module_version": "1.2.0",
          "state": {
            "_model_module": "@jupyter-widgets/base",
            "_model_module_version": "1.2.0",
            "_model_name": "LayoutModel",
            "_view_count": null,
            "_view_module": "@jupyter-widgets/base",
            "_view_module_version": "1.2.0",
            "_view_name": "LayoutView",
            "align_content": null,
            "align_items": null,
            "align_self": null,
            "border": null,
            "bottom": null,
            "display": null,
            "flex": null,
            "flex_flow": null,
            "grid_area": null,
            "grid_auto_columns": null,
            "grid_auto_flow": null,
            "grid_auto_rows": null,
            "grid_column": null,
            "grid_gap": null,
            "grid_row": null,
            "grid_template_areas": null,
            "grid_template_columns": null,
            "grid_template_rows": null,
            "height": null,
            "justify_content": null,
            "justify_items": null,
            "left": null,
            "margin": null,
            "max_height": null,
            "max_width": null,
            "min_height": null,
            "min_width": null,
            "object_fit": null,
            "object_position": null,
            "order": null,
            "overflow": null,
            "overflow_x": null,
            "overflow_y": null,
            "padding": null,
            "right": null,
            "top": null,
            "visibility": null,
            "width": null
          }
        },
        "7c66af3cee424e409e00dd0f3d7438b6": {
          "model_module": "@jupyter-widgets/controls",
          "model_name": "DescriptionStyleModel",
          "model_module_version": "1.5.0",
          "state": {
            "_model_module": "@jupyter-widgets/controls",
            "_model_module_version": "1.5.0",
            "_model_name": "DescriptionStyleModel",
            "_view_count": null,
            "_view_module": "@jupyter-widgets/base",
            "_view_module_version": "1.2.0",
            "_view_name": "StyleView",
            "description_width": ""
          }
        },
        "1b5336210cf143c4819f902c45d3887d": {
          "model_module": "@jupyter-widgets/controls",
          "model_name": "HBoxModel",
          "model_module_version": "1.5.0",
          "state": {
            "_dom_classes": [],
            "_model_module": "@jupyter-widgets/controls",
            "_model_module_version": "1.5.0",
            "_model_name": "HBoxModel",
            "_view_count": null,
            "_view_module": "@jupyter-widgets/controls",
            "_view_module_version": "1.5.0",
            "_view_name": "HBoxView",
            "box_style": "",
            "children": [
              "IPY_MODEL_10981b6322bd4bb187bcd2616861907b",
              "IPY_MODEL_2c22cb983b714ab3a60e1416f4b2cb6f",
              "IPY_MODEL_d05542e5e22b408898814b7e1be814aa"
            ],
            "layout": "IPY_MODEL_94bb4412c64a4675b6f31a99b1198197"
          }
        },
        "10981b6322bd4bb187bcd2616861907b": {
          "model_module": "@jupyter-widgets/controls",
          "model_name": "HTMLModel",
          "model_module_version": "1.5.0",
          "state": {
            "_dom_classes": [],
            "_model_module": "@jupyter-widgets/controls",
            "_model_module_version": "1.5.0",
            "_model_name": "HTMLModel",
            "_view_count": null,
            "_view_module": "@jupyter-widgets/controls",
            "_view_module_version": "1.5.0",
            "_view_name": "HTMLView",
            "description": "",
            "description_tooltip": null,
            "layout": "IPY_MODEL_454479318565426da671451a8c58190c",
            "placeholder": "​",
            "style": "IPY_MODEL_cba681690ba84e63979602888c7b3e3c",
            "value": "Generating test examples...:  78%"
          }
        },
        "2c22cb983b714ab3a60e1416f4b2cb6f": {
          "model_module": "@jupyter-widgets/controls",
          "model_name": "FloatProgressModel",
          "model_module_version": "1.5.0",
          "state": {
            "_dom_classes": [],
            "_model_module": "@jupyter-widgets/controls",
            "_model_module_version": "1.5.0",
            "_model_name": "FloatProgressModel",
            "_view_count": null,
            "_view_module": "@jupyter-widgets/controls",
            "_view_module_version": "1.5.0",
            "_view_name": "ProgressView",
            "bar_style": "",
            "description": "",
            "description_tooltip": null,
            "layout": "IPY_MODEL_5d470e7101994818ba0c9096937cc310",
            "max": 25000,
            "min": 0,
            "orientation": "horizontal",
            "style": "IPY_MODEL_42fde6a8ed5c4562a9a1604ae2d43f9f",
            "value": 25000
          }
        },
        "d05542e5e22b408898814b7e1be814aa": {
          "model_module": "@jupyter-widgets/controls",
          "model_name": "HTMLModel",
          "model_module_version": "1.5.0",
          "state": {
            "_dom_classes": [],
            "_model_module": "@jupyter-widgets/controls",
            "_model_module_version": "1.5.0",
            "_model_name": "HTMLModel",
            "_view_count": null,
            "_view_module": "@jupyter-widgets/controls",
            "_view_module_version": "1.5.0",
            "_view_name": "HTMLView",
            "description": "",
            "description_tooltip": null,
            "layout": "IPY_MODEL_ec38eb7ff4e940cf8d06576076b1662b",
            "placeholder": "​",
            "style": "IPY_MODEL_6cefaf7d924a48648344218cdd76e76c",
            "value": " 19499/25000 [00:04&lt;00:00, 5541.39 examples/s]"
          }
        },
        "94bb4412c64a4675b6f31a99b1198197": {
          "model_module": "@jupyter-widgets/base",
          "model_name": "LayoutModel",
          "model_module_version": "1.2.0",
          "state": {
            "_model_module": "@jupyter-widgets/base",
            "_model_module_version": "1.2.0",
            "_model_name": "LayoutModel",
            "_view_count": null,
            "_view_module": "@jupyter-widgets/base",
            "_view_module_version": "1.2.0",
            "_view_name": "LayoutView",
            "align_content": null,
            "align_items": null,
            "align_self": null,
            "border": null,
            "bottom": null,
            "display": null,
            "flex": null,
            "flex_flow": null,
            "grid_area": null,
            "grid_auto_columns": null,
            "grid_auto_flow": null,
            "grid_auto_rows": null,
            "grid_column": null,
            "grid_gap": null,
            "grid_row": null,
            "grid_template_areas": null,
            "grid_template_columns": null,
            "grid_template_rows": null,
            "height": null,
            "justify_content": null,
            "justify_items": null,
            "left": null,
            "margin": null,
            "max_height": null,
            "max_width": null,
            "min_height": null,
            "min_width": null,
            "object_fit": null,
            "object_position": null,
            "order": null,
            "overflow": null,
            "overflow_x": null,
            "overflow_y": null,
            "padding": null,
            "right": null,
            "top": null,
            "visibility": "hidden",
            "width": null
          }
        },
        "454479318565426da671451a8c58190c": {
          "model_module": "@jupyter-widgets/base",
          "model_name": "LayoutModel",
          "model_module_version": "1.2.0",
          "state": {
            "_model_module": "@jupyter-widgets/base",
            "_model_module_version": "1.2.0",
            "_model_name": "LayoutModel",
            "_view_count": null,
            "_view_module": "@jupyter-widgets/base",
            "_view_module_version": "1.2.0",
            "_view_name": "LayoutView",
            "align_content": null,
            "align_items": null,
            "align_self": null,
            "border": null,
            "bottom": null,
            "display": null,
            "flex": null,
            "flex_flow": null,
            "grid_area": null,
            "grid_auto_columns": null,
            "grid_auto_flow": null,
            "grid_auto_rows": null,
            "grid_column": null,
            "grid_gap": null,
            "grid_row": null,
            "grid_template_areas": null,
            "grid_template_columns": null,
            "grid_template_rows": null,
            "height": null,
            "justify_content": null,
            "justify_items": null,
            "left": null,
            "margin": null,
            "max_height": null,
            "max_width": null,
            "min_height": null,
            "min_width": null,
            "object_fit": null,
            "object_position": null,
            "order": null,
            "overflow": null,
            "overflow_x": null,
            "overflow_y": null,
            "padding": null,
            "right": null,
            "top": null,
            "visibility": null,
            "width": null
          }
        },
        "cba681690ba84e63979602888c7b3e3c": {
          "model_module": "@jupyter-widgets/controls",
          "model_name": "DescriptionStyleModel",
          "model_module_version": "1.5.0",
          "state": {
            "_model_module": "@jupyter-widgets/controls",
            "_model_module_version": "1.5.0",
            "_model_name": "DescriptionStyleModel",
            "_view_count": null,
            "_view_module": "@jupyter-widgets/base",
            "_view_module_version": "1.2.0",
            "_view_name": "StyleView",
            "description_width": ""
          }
        },
        "5d470e7101994818ba0c9096937cc310": {
          "model_module": "@jupyter-widgets/base",
          "model_name": "LayoutModel",
          "model_module_version": "1.2.0",
          "state": {
            "_model_module": "@jupyter-widgets/base",
            "_model_module_version": "1.2.0",
            "_model_name": "LayoutModel",
            "_view_count": null,
            "_view_module": "@jupyter-widgets/base",
            "_view_module_version": "1.2.0",
            "_view_name": "LayoutView",
            "align_content": null,
            "align_items": null,
            "align_self": null,
            "border": null,
            "bottom": null,
            "display": null,
            "flex": null,
            "flex_flow": null,
            "grid_area": null,
            "grid_auto_columns": null,
            "grid_auto_flow": null,
            "grid_auto_rows": null,
            "grid_column": null,
            "grid_gap": null,
            "grid_row": null,
            "grid_template_areas": null,
            "grid_template_columns": null,
            "grid_template_rows": null,
            "height": null,
            "justify_content": null,
            "justify_items": null,
            "left": null,
            "margin": null,
            "max_height": null,
            "max_width": null,
            "min_height": null,
            "min_width": null,
            "object_fit": null,
            "object_position": null,
            "order": null,
            "overflow": null,
            "overflow_x": null,
            "overflow_y": null,
            "padding": null,
            "right": null,
            "top": null,
            "visibility": null,
            "width": null
          }
        },
        "42fde6a8ed5c4562a9a1604ae2d43f9f": {
          "model_module": "@jupyter-widgets/controls",
          "model_name": "ProgressStyleModel",
          "model_module_version": "1.5.0",
          "state": {
            "_model_module": "@jupyter-widgets/controls",
            "_model_module_version": "1.5.0",
            "_model_name": "ProgressStyleModel",
            "_view_count": null,
            "_view_module": "@jupyter-widgets/base",
            "_view_module_version": "1.2.0",
            "_view_name": "StyleView",
            "bar_color": null,
            "description_width": ""
          }
        },
        "ec38eb7ff4e940cf8d06576076b1662b": {
          "model_module": "@jupyter-widgets/base",
          "model_name": "LayoutModel",
          "model_module_version": "1.2.0",
          "state": {
            "_model_module": "@jupyter-widgets/base",
            "_model_module_version": "1.2.0",
            "_model_name": "LayoutModel",
            "_view_count": null,
            "_view_module": "@jupyter-widgets/base",
            "_view_module_version": "1.2.0",
            "_view_name": "LayoutView",
            "align_content": null,
            "align_items": null,
            "align_self": null,
            "border": null,
            "bottom": null,
            "display": null,
            "flex": null,
            "flex_flow": null,
            "grid_area": null,
            "grid_auto_columns": null,
            "grid_auto_flow": null,
            "grid_auto_rows": null,
            "grid_column": null,
            "grid_gap": null,
            "grid_row": null,
            "grid_template_areas": null,
            "grid_template_columns": null,
            "grid_template_rows": null,
            "height": null,
            "justify_content": null,
            "justify_items": null,
            "left": null,
            "margin": null,
            "max_height": null,
            "max_width": null,
            "min_height": null,
            "min_width": null,
            "object_fit": null,
            "object_position": null,
            "order": null,
            "overflow": null,
            "overflow_x": null,
            "overflow_y": null,
            "padding": null,
            "right": null,
            "top": null,
            "visibility": null,
            "width": null
          }
        },
        "6cefaf7d924a48648344218cdd76e76c": {
          "model_module": "@jupyter-widgets/controls",
          "model_name": "DescriptionStyleModel",
          "model_module_version": "1.5.0",
          "state": {
            "_model_module": "@jupyter-widgets/controls",
            "_model_module_version": "1.5.0",
            "_model_name": "DescriptionStyleModel",
            "_view_count": null,
            "_view_module": "@jupyter-widgets/base",
            "_view_module_version": "1.2.0",
            "_view_name": "StyleView",
            "description_width": ""
          }
        },
        "37d229d13ea2444894523353e0e5166c": {
          "model_module": "@jupyter-widgets/controls",
          "model_name": "HBoxModel",
          "model_module_version": "1.5.0",
          "state": {
            "_dom_classes": [],
            "_model_module": "@jupyter-widgets/controls",
            "_model_module_version": "1.5.0",
            "_model_name": "HBoxModel",
            "_view_count": null,
            "_view_module": "@jupyter-widgets/controls",
            "_view_module_version": "1.5.0",
            "_view_name": "HBoxView",
            "box_style": "",
            "children": [
              "IPY_MODEL_b3e1dda7d2a84624be05a9f76f155188",
              "IPY_MODEL_e377ed783bcb48ac9212d8342388bf3f",
              "IPY_MODEL_22cf67653bf34fa98151a87439996346"
            ],
            "layout": "IPY_MODEL_084aab4116ed45d18a8c803bccd41036"
          }
        },
        "b3e1dda7d2a84624be05a9f76f155188": {
          "model_module": "@jupyter-widgets/controls",
          "model_name": "HTMLModel",
          "model_module_version": "1.5.0",
          "state": {
            "_dom_classes": [],
            "_model_module": "@jupyter-widgets/controls",
            "_model_module_version": "1.5.0",
            "_model_name": "HTMLModel",
            "_view_count": null,
            "_view_module": "@jupyter-widgets/controls",
            "_view_module_version": "1.5.0",
            "_view_name": "HTMLView",
            "description": "",
            "description_tooltip": null,
            "layout": "IPY_MODEL_98f398d62f76467ba641c54458547c43",
            "placeholder": "​",
            "style": "IPY_MODEL_b52effac96344ed9bd8a60c395790815",
            "value": "Shuffling /root/tensorflow_datasets/imdb_reviews/plain_text/incomplete.IO1EI3_1.0.0/imdb_reviews-test.tfrecord*...:   0%"
          }
        },
        "e377ed783bcb48ac9212d8342388bf3f": {
          "model_module": "@jupyter-widgets/controls",
          "model_name": "FloatProgressModel",
          "model_module_version": "1.5.0",
          "state": {
            "_dom_classes": [],
            "_model_module": "@jupyter-widgets/controls",
            "_model_module_version": "1.5.0",
            "_model_name": "FloatProgressModel",
            "_view_count": null,
            "_view_module": "@jupyter-widgets/controls",
            "_view_module_version": "1.5.0",
            "_view_name": "ProgressView",
            "bar_style": "",
            "description": "",
            "description_tooltip": null,
            "layout": "IPY_MODEL_1921a7f3038342c4bd5d9bd0528c3dc6",
            "max": 25000,
            "min": 0,
            "orientation": "horizontal",
            "style": "IPY_MODEL_c6854bed6b884b7ab8986d26136c9fce",
            "value": 25000
          }
        },
        "22cf67653bf34fa98151a87439996346": {
          "model_module": "@jupyter-widgets/controls",
          "model_name": "HTMLModel",
          "model_module_version": "1.5.0",
          "state": {
            "_dom_classes": [],
            "_model_module": "@jupyter-widgets/controls",
            "_model_module_version": "1.5.0",
            "_model_name": "HTMLModel",
            "_view_count": null,
            "_view_module": "@jupyter-widgets/controls",
            "_view_module_version": "1.5.0",
            "_view_name": "HTMLView",
            "description": "",
            "description_tooltip": null,
            "layout": "IPY_MODEL_5a380d2187614030b47cd5e0152f981b",
            "placeholder": "​",
            "style": "IPY_MODEL_23bd113e9bdf4b6580f64c833b9ba97b",
            "value": " 0/25000 [00:00&lt;?, ? examples/s]"
          }
        },
        "084aab4116ed45d18a8c803bccd41036": {
          "model_module": "@jupyter-widgets/base",
          "model_name": "LayoutModel",
          "model_module_version": "1.2.0",
          "state": {
            "_model_module": "@jupyter-widgets/base",
            "_model_module_version": "1.2.0",
            "_model_name": "LayoutModel",
            "_view_count": null,
            "_view_module": "@jupyter-widgets/base",
            "_view_module_version": "1.2.0",
            "_view_name": "LayoutView",
            "align_content": null,
            "align_items": null,
            "align_self": null,
            "border": null,
            "bottom": null,
            "display": null,
            "flex": null,
            "flex_flow": null,
            "grid_area": null,
            "grid_auto_columns": null,
            "grid_auto_flow": null,
            "grid_auto_rows": null,
            "grid_column": null,
            "grid_gap": null,
            "grid_row": null,
            "grid_template_areas": null,
            "grid_template_columns": null,
            "grid_template_rows": null,
            "height": null,
            "justify_content": null,
            "justify_items": null,
            "left": null,
            "margin": null,
            "max_height": null,
            "max_width": null,
            "min_height": null,
            "min_width": null,
            "object_fit": null,
            "object_position": null,
            "order": null,
            "overflow": null,
            "overflow_x": null,
            "overflow_y": null,
            "padding": null,
            "right": null,
            "top": null,
            "visibility": "hidden",
            "width": null
          }
        },
        "98f398d62f76467ba641c54458547c43": {
          "model_module": "@jupyter-widgets/base",
          "model_name": "LayoutModel",
          "model_module_version": "1.2.0",
          "state": {
            "_model_module": "@jupyter-widgets/base",
            "_model_module_version": "1.2.0",
            "_model_name": "LayoutModel",
            "_view_count": null,
            "_view_module": "@jupyter-widgets/base",
            "_view_module_version": "1.2.0",
            "_view_name": "LayoutView",
            "align_content": null,
            "align_items": null,
            "align_self": null,
            "border": null,
            "bottom": null,
            "display": null,
            "flex": null,
            "flex_flow": null,
            "grid_area": null,
            "grid_auto_columns": null,
            "grid_auto_flow": null,
            "grid_auto_rows": null,
            "grid_column": null,
            "grid_gap": null,
            "grid_row": null,
            "grid_template_areas": null,
            "grid_template_columns": null,
            "grid_template_rows": null,
            "height": null,
            "justify_content": null,
            "justify_items": null,
            "left": null,
            "margin": null,
            "max_height": null,
            "max_width": null,
            "min_height": null,
            "min_width": null,
            "object_fit": null,
            "object_position": null,
            "order": null,
            "overflow": null,
            "overflow_x": null,
            "overflow_y": null,
            "padding": null,
            "right": null,
            "top": null,
            "visibility": null,
            "width": null
          }
        },
        "b52effac96344ed9bd8a60c395790815": {
          "model_module": "@jupyter-widgets/controls",
          "model_name": "DescriptionStyleModel",
          "model_module_version": "1.5.0",
          "state": {
            "_model_module": "@jupyter-widgets/controls",
            "_model_module_version": "1.5.0",
            "_model_name": "DescriptionStyleModel",
            "_view_count": null,
            "_view_module": "@jupyter-widgets/base",
            "_view_module_version": "1.2.0",
            "_view_name": "StyleView",
            "description_width": ""
          }
        },
        "1921a7f3038342c4bd5d9bd0528c3dc6": {
          "model_module": "@jupyter-widgets/base",
          "model_name": "LayoutModel",
          "model_module_version": "1.2.0",
          "state": {
            "_model_module": "@jupyter-widgets/base",
            "_model_module_version": "1.2.0",
            "_model_name": "LayoutModel",
            "_view_count": null,
            "_view_module": "@jupyter-widgets/base",
            "_view_module_version": "1.2.0",
            "_view_name": "LayoutView",
            "align_content": null,
            "align_items": null,
            "align_self": null,
            "border": null,
            "bottom": null,
            "display": null,
            "flex": null,
            "flex_flow": null,
            "grid_area": null,
            "grid_auto_columns": null,
            "grid_auto_flow": null,
            "grid_auto_rows": null,
            "grid_column": null,
            "grid_gap": null,
            "grid_row": null,
            "grid_template_areas": null,
            "grid_template_columns": null,
            "grid_template_rows": null,
            "height": null,
            "justify_content": null,
            "justify_items": null,
            "left": null,
            "margin": null,
            "max_height": null,
            "max_width": null,
            "min_height": null,
            "min_width": null,
            "object_fit": null,
            "object_position": null,
            "order": null,
            "overflow": null,
            "overflow_x": null,
            "overflow_y": null,
            "padding": null,
            "right": null,
            "top": null,
            "visibility": null,
            "width": null
          }
        },
        "c6854bed6b884b7ab8986d26136c9fce": {
          "model_module": "@jupyter-widgets/controls",
          "model_name": "ProgressStyleModel",
          "model_module_version": "1.5.0",
          "state": {
            "_model_module": "@jupyter-widgets/controls",
            "_model_module_version": "1.5.0",
            "_model_name": "ProgressStyleModel",
            "_view_count": null,
            "_view_module": "@jupyter-widgets/base",
            "_view_module_version": "1.2.0",
            "_view_name": "StyleView",
            "bar_color": null,
            "description_width": ""
          }
        },
        "5a380d2187614030b47cd5e0152f981b": {
          "model_module": "@jupyter-widgets/base",
          "model_name": "LayoutModel",
          "model_module_version": "1.2.0",
          "state": {
            "_model_module": "@jupyter-widgets/base",
            "_model_module_version": "1.2.0",
            "_model_name": "LayoutModel",
            "_view_count": null,
            "_view_module": "@jupyter-widgets/base",
            "_view_module_version": "1.2.0",
            "_view_name": "LayoutView",
            "align_content": null,
            "align_items": null,
            "align_self": null,
            "border": null,
            "bottom": null,
            "display": null,
            "flex": null,
            "flex_flow": null,
            "grid_area": null,
            "grid_auto_columns": null,
            "grid_auto_flow": null,
            "grid_auto_rows": null,
            "grid_column": null,
            "grid_gap": null,
            "grid_row": null,
            "grid_template_areas": null,
            "grid_template_columns": null,
            "grid_template_rows": null,
            "height": null,
            "justify_content": null,
            "justify_items": null,
            "left": null,
            "margin": null,
            "max_height": null,
            "max_width": null,
            "min_height": null,
            "min_width": null,
            "object_fit": null,
            "object_position": null,
            "order": null,
            "overflow": null,
            "overflow_x": null,
            "overflow_y": null,
            "padding": null,
            "right": null,
            "top": null,
            "visibility": null,
            "width": null
          }
        },
        "23bd113e9bdf4b6580f64c833b9ba97b": {
          "model_module": "@jupyter-widgets/controls",
          "model_name": "DescriptionStyleModel",
          "model_module_version": "1.5.0",
          "state": {
            "_model_module": "@jupyter-widgets/controls",
            "_model_module_version": "1.5.0",
            "_model_name": "DescriptionStyleModel",
            "_view_count": null,
            "_view_module": "@jupyter-widgets/base",
            "_view_module_version": "1.2.0",
            "_view_name": "StyleView",
            "description_width": ""
          }
        },
        "b8b13a85eede4023887a410a325dad1a": {
          "model_module": "@jupyter-widgets/controls",
          "model_name": "HBoxModel",
          "model_module_version": "1.5.0",
          "state": {
            "_dom_classes": [],
            "_model_module": "@jupyter-widgets/controls",
            "_model_module_version": "1.5.0",
            "_model_name": "HBoxModel",
            "_view_count": null,
            "_view_module": "@jupyter-widgets/controls",
            "_view_module_version": "1.5.0",
            "_view_name": "HBoxView",
            "box_style": "",
            "children": [
              "IPY_MODEL_da5d1e4776af44d5879d69026eb07886",
              "IPY_MODEL_f1d901e750234450a6265e39589fd49a",
              "IPY_MODEL_d2d0e3d62c3a47d4af33f0ebe07059d8"
            ],
            "layout": "IPY_MODEL_d1a95544b2dc4d5da24c5cf0e7bf1ca7"
          }
        },
        "da5d1e4776af44d5879d69026eb07886": {
          "model_module": "@jupyter-widgets/controls",
          "model_name": "HTMLModel",
          "model_module_version": "1.5.0",
          "state": {
            "_dom_classes": [],
            "_model_module": "@jupyter-widgets/controls",
            "_model_module_version": "1.5.0",
            "_model_name": "HTMLModel",
            "_view_count": null,
            "_view_module": "@jupyter-widgets/controls",
            "_view_module_version": "1.5.0",
            "_view_name": "HTMLView",
            "description": "",
            "description_tooltip": null,
            "layout": "IPY_MODEL_52903b4d1f374fdab0bce187486a4273",
            "placeholder": "​",
            "style": "IPY_MODEL_212553a6c17643c39f34b45e57718c3c",
            "value": "Generating unsupervised examples...:  89%"
          }
        },
        "f1d901e750234450a6265e39589fd49a": {
          "model_module": "@jupyter-widgets/controls",
          "model_name": "FloatProgressModel",
          "model_module_version": "1.5.0",
          "state": {
            "_dom_classes": [],
            "_model_module": "@jupyter-widgets/controls",
            "_model_module_version": "1.5.0",
            "_model_name": "FloatProgressModel",
            "_view_count": null,
            "_view_module": "@jupyter-widgets/controls",
            "_view_module_version": "1.5.0",
            "_view_name": "ProgressView",
            "bar_style": "",
            "description": "",
            "description_tooltip": null,
            "layout": "IPY_MODEL_8c97975392914deaa8af69a85e2ebfbe",
            "max": 50000,
            "min": 0,
            "orientation": "horizontal",
            "style": "IPY_MODEL_0a0d5c644e5d443e9ff8169b1c12e88d",
            "value": 50000
          }
        },
        "d2d0e3d62c3a47d4af33f0ebe07059d8": {
          "model_module": "@jupyter-widgets/controls",
          "model_name": "HTMLModel",
          "model_module_version": "1.5.0",
          "state": {
            "_dom_classes": [],
            "_model_module": "@jupyter-widgets/controls",
            "_model_module_version": "1.5.0",
            "_model_name": "HTMLModel",
            "_view_count": null,
            "_view_module": "@jupyter-widgets/controls",
            "_view_module_version": "1.5.0",
            "_view_name": "HTMLView",
            "description": "",
            "description_tooltip": null,
            "layout": "IPY_MODEL_efa00ccac10145e89cdbc533421d7645",
            "placeholder": "​",
            "style": "IPY_MODEL_4992b4e9a8274577b46e45ce2c2e1726",
            "value": " 44381/50000 [00:12&lt;00:01, 5547.27 examples/s]"
          }
        },
        "d1a95544b2dc4d5da24c5cf0e7bf1ca7": {
          "model_module": "@jupyter-widgets/base",
          "model_name": "LayoutModel",
          "model_module_version": "1.2.0",
          "state": {
            "_model_module": "@jupyter-widgets/base",
            "_model_module_version": "1.2.0",
            "_model_name": "LayoutModel",
            "_view_count": null,
            "_view_module": "@jupyter-widgets/base",
            "_view_module_version": "1.2.0",
            "_view_name": "LayoutView",
            "align_content": null,
            "align_items": null,
            "align_self": null,
            "border": null,
            "bottom": null,
            "display": null,
            "flex": null,
            "flex_flow": null,
            "grid_area": null,
            "grid_auto_columns": null,
            "grid_auto_flow": null,
            "grid_auto_rows": null,
            "grid_column": null,
            "grid_gap": null,
            "grid_row": null,
            "grid_template_areas": null,
            "grid_template_columns": null,
            "grid_template_rows": null,
            "height": null,
            "justify_content": null,
            "justify_items": null,
            "left": null,
            "margin": null,
            "max_height": null,
            "max_width": null,
            "min_height": null,
            "min_width": null,
            "object_fit": null,
            "object_position": null,
            "order": null,
            "overflow": null,
            "overflow_x": null,
            "overflow_y": null,
            "padding": null,
            "right": null,
            "top": null,
            "visibility": "hidden",
            "width": null
          }
        },
        "52903b4d1f374fdab0bce187486a4273": {
          "model_module": "@jupyter-widgets/base",
          "model_name": "LayoutModel",
          "model_module_version": "1.2.0",
          "state": {
            "_model_module": "@jupyter-widgets/base",
            "_model_module_version": "1.2.0",
            "_model_name": "LayoutModel",
            "_view_count": null,
            "_view_module": "@jupyter-widgets/base",
            "_view_module_version": "1.2.0",
            "_view_name": "LayoutView",
            "align_content": null,
            "align_items": null,
            "align_self": null,
            "border": null,
            "bottom": null,
            "display": null,
            "flex": null,
            "flex_flow": null,
            "grid_area": null,
            "grid_auto_columns": null,
            "grid_auto_flow": null,
            "grid_auto_rows": null,
            "grid_column": null,
            "grid_gap": null,
            "grid_row": null,
            "grid_template_areas": null,
            "grid_template_columns": null,
            "grid_template_rows": null,
            "height": null,
            "justify_content": null,
            "justify_items": null,
            "left": null,
            "margin": null,
            "max_height": null,
            "max_width": null,
            "min_height": null,
            "min_width": null,
            "object_fit": null,
            "object_position": null,
            "order": null,
            "overflow": null,
            "overflow_x": null,
            "overflow_y": null,
            "padding": null,
            "right": null,
            "top": null,
            "visibility": null,
            "width": null
          }
        },
        "212553a6c17643c39f34b45e57718c3c": {
          "model_module": "@jupyter-widgets/controls",
          "model_name": "DescriptionStyleModel",
          "model_module_version": "1.5.0",
          "state": {
            "_model_module": "@jupyter-widgets/controls",
            "_model_module_version": "1.5.0",
            "_model_name": "DescriptionStyleModel",
            "_view_count": null,
            "_view_module": "@jupyter-widgets/base",
            "_view_module_version": "1.2.0",
            "_view_name": "StyleView",
            "description_width": ""
          }
        },
        "8c97975392914deaa8af69a85e2ebfbe": {
          "model_module": "@jupyter-widgets/base",
          "model_name": "LayoutModel",
          "model_module_version": "1.2.0",
          "state": {
            "_model_module": "@jupyter-widgets/base",
            "_model_module_version": "1.2.0",
            "_model_name": "LayoutModel",
            "_view_count": null,
            "_view_module": "@jupyter-widgets/base",
            "_view_module_version": "1.2.0",
            "_view_name": "LayoutView",
            "align_content": null,
            "align_items": null,
            "align_self": null,
            "border": null,
            "bottom": null,
            "display": null,
            "flex": null,
            "flex_flow": null,
            "grid_area": null,
            "grid_auto_columns": null,
            "grid_auto_flow": null,
            "grid_auto_rows": null,
            "grid_column": null,
            "grid_gap": null,
            "grid_row": null,
            "grid_template_areas": null,
            "grid_template_columns": null,
            "grid_template_rows": null,
            "height": null,
            "justify_content": null,
            "justify_items": null,
            "left": null,
            "margin": null,
            "max_height": null,
            "max_width": null,
            "min_height": null,
            "min_width": null,
            "object_fit": null,
            "object_position": null,
            "order": null,
            "overflow": null,
            "overflow_x": null,
            "overflow_y": null,
            "padding": null,
            "right": null,
            "top": null,
            "visibility": null,
            "width": null
          }
        },
        "0a0d5c644e5d443e9ff8169b1c12e88d": {
          "model_module": "@jupyter-widgets/controls",
          "model_name": "ProgressStyleModel",
          "model_module_version": "1.5.0",
          "state": {
            "_model_module": "@jupyter-widgets/controls",
            "_model_module_version": "1.5.0",
            "_model_name": "ProgressStyleModel",
            "_view_count": null,
            "_view_module": "@jupyter-widgets/base",
            "_view_module_version": "1.2.0",
            "_view_name": "StyleView",
            "bar_color": null,
            "description_width": ""
          }
        },
        "efa00ccac10145e89cdbc533421d7645": {
          "model_module": "@jupyter-widgets/base",
          "model_name": "LayoutModel",
          "model_module_version": "1.2.0",
          "state": {
            "_model_module": "@jupyter-widgets/base",
            "_model_module_version": "1.2.0",
            "_model_name": "LayoutModel",
            "_view_count": null,
            "_view_module": "@jupyter-widgets/base",
            "_view_module_version": "1.2.0",
            "_view_name": "LayoutView",
            "align_content": null,
            "align_items": null,
            "align_self": null,
            "border": null,
            "bottom": null,
            "display": null,
            "flex": null,
            "flex_flow": null,
            "grid_area": null,
            "grid_auto_columns": null,
            "grid_auto_flow": null,
            "grid_auto_rows": null,
            "grid_column": null,
            "grid_gap": null,
            "grid_row": null,
            "grid_template_areas": null,
            "grid_template_columns": null,
            "grid_template_rows": null,
            "height": null,
            "justify_content": null,
            "justify_items": null,
            "left": null,
            "margin": null,
            "max_height": null,
            "max_width": null,
            "min_height": null,
            "min_width": null,
            "object_fit": null,
            "object_position": null,
            "order": null,
            "overflow": null,
            "overflow_x": null,
            "overflow_y": null,
            "padding": null,
            "right": null,
            "top": null,
            "visibility": null,
            "width": null
          }
        },
        "4992b4e9a8274577b46e45ce2c2e1726": {
          "model_module": "@jupyter-widgets/controls",
          "model_name": "DescriptionStyleModel",
          "model_module_version": "1.5.0",
          "state": {
            "_model_module": "@jupyter-widgets/controls",
            "_model_module_version": "1.5.0",
            "_model_name": "DescriptionStyleModel",
            "_view_count": null,
            "_view_module": "@jupyter-widgets/base",
            "_view_module_version": "1.2.0",
            "_view_name": "StyleView",
            "description_width": ""
          }
        },
        "d09db7a76f5247f6ab79b541bac6f57d": {
          "model_module": "@jupyter-widgets/controls",
          "model_name": "HBoxModel",
          "model_module_version": "1.5.0",
          "state": {
            "_dom_classes": [],
            "_model_module": "@jupyter-widgets/controls",
            "_model_module_version": "1.5.0",
            "_model_name": "HBoxModel",
            "_view_count": null,
            "_view_module": "@jupyter-widgets/controls",
            "_view_module_version": "1.5.0",
            "_view_name": "HBoxView",
            "box_style": "",
            "children": [
              "IPY_MODEL_3f6b86ef32524154bfb989f697740c7d",
              "IPY_MODEL_8bda6d2b7f0d4567a2051a9b4b0864f7",
              "IPY_MODEL_7dc33af25e5848c68a87abcb5672e595"
            ],
            "layout": "IPY_MODEL_39ed728293184138a65b248ab00c3b28"
          }
        },
        "3f6b86ef32524154bfb989f697740c7d": {
          "model_module": "@jupyter-widgets/controls",
          "model_name": "HTMLModel",
          "model_module_version": "1.5.0",
          "state": {
            "_dom_classes": [],
            "_model_module": "@jupyter-widgets/controls",
            "_model_module_version": "1.5.0",
            "_model_name": "HTMLModel",
            "_view_count": null,
            "_view_module": "@jupyter-widgets/controls",
            "_view_module_version": "1.5.0",
            "_view_name": "HTMLView",
            "description": "",
            "description_tooltip": null,
            "layout": "IPY_MODEL_1d275f11899145959a591d75ce27609a",
            "placeholder": "​",
            "style": "IPY_MODEL_3e220cc4da8b40e9a7bb1bbde0ead364",
            "value": "Shuffling /root/tensorflow_datasets/imdb_reviews/plain_text/incomplete.IO1EI3_1.0.0/imdb_reviews-unsupervised.tfrecord*...:   0%"
          }
        },
        "8bda6d2b7f0d4567a2051a9b4b0864f7": {
          "model_module": "@jupyter-widgets/controls",
          "model_name": "FloatProgressModel",
          "model_module_version": "1.5.0",
          "state": {
            "_dom_classes": [],
            "_model_module": "@jupyter-widgets/controls",
            "_model_module_version": "1.5.0",
            "_model_name": "FloatProgressModel",
            "_view_count": null,
            "_view_module": "@jupyter-widgets/controls",
            "_view_module_version": "1.5.0",
            "_view_name": "ProgressView",
            "bar_style": "",
            "description": "",
            "description_tooltip": null,
            "layout": "IPY_MODEL_fd80faf6fb2d498d82bc8ee11456a983",
            "max": 50000,
            "min": 0,
            "orientation": "horizontal",
            "style": "IPY_MODEL_0859cab817744b6a82a5d3de2dc2f816",
            "value": 50000
          }
        },
        "7dc33af25e5848c68a87abcb5672e595": {
          "model_module": "@jupyter-widgets/controls",
          "model_name": "HTMLModel",
          "model_module_version": "1.5.0",
          "state": {
            "_dom_classes": [],
            "_model_module": "@jupyter-widgets/controls",
            "_model_module_version": "1.5.0",
            "_model_name": "HTMLModel",
            "_view_count": null,
            "_view_module": "@jupyter-widgets/controls",
            "_view_module_version": "1.5.0",
            "_view_name": "HTMLView",
            "description": "",
            "description_tooltip": null,
            "layout": "IPY_MODEL_60ea60c4eba94da6a66b739da33141c1",
            "placeholder": "​",
            "style": "IPY_MODEL_9d92237417ef4acdbb10b3bc13889654",
            "value": " 0/50000 [00:00&lt;?, ? examples/s]"
          }
        },
        "39ed728293184138a65b248ab00c3b28": {
          "model_module": "@jupyter-widgets/base",
          "model_name": "LayoutModel",
          "model_module_version": "1.2.0",
          "state": {
            "_model_module": "@jupyter-widgets/base",
            "_model_module_version": "1.2.0",
            "_model_name": "LayoutModel",
            "_view_count": null,
            "_view_module": "@jupyter-widgets/base",
            "_view_module_version": "1.2.0",
            "_view_name": "LayoutView",
            "align_content": null,
            "align_items": null,
            "align_self": null,
            "border": null,
            "bottom": null,
            "display": null,
            "flex": null,
            "flex_flow": null,
            "grid_area": null,
            "grid_auto_columns": null,
            "grid_auto_flow": null,
            "grid_auto_rows": null,
            "grid_column": null,
            "grid_gap": null,
            "grid_row": null,
            "grid_template_areas": null,
            "grid_template_columns": null,
            "grid_template_rows": null,
            "height": null,
            "justify_content": null,
            "justify_items": null,
            "left": null,
            "margin": null,
            "max_height": null,
            "max_width": null,
            "min_height": null,
            "min_width": null,
            "object_fit": null,
            "object_position": null,
            "order": null,
            "overflow": null,
            "overflow_x": null,
            "overflow_y": null,
            "padding": null,
            "right": null,
            "top": null,
            "visibility": "hidden",
            "width": null
          }
        },
        "1d275f11899145959a591d75ce27609a": {
          "model_module": "@jupyter-widgets/base",
          "model_name": "LayoutModel",
          "model_module_version": "1.2.0",
          "state": {
            "_model_module": "@jupyter-widgets/base",
            "_model_module_version": "1.2.0",
            "_model_name": "LayoutModel",
            "_view_count": null,
            "_view_module": "@jupyter-widgets/base",
            "_view_module_version": "1.2.0",
            "_view_name": "LayoutView",
            "align_content": null,
            "align_items": null,
            "align_self": null,
            "border": null,
            "bottom": null,
            "display": null,
            "flex": null,
            "flex_flow": null,
            "grid_area": null,
            "grid_auto_columns": null,
            "grid_auto_flow": null,
            "grid_auto_rows": null,
            "grid_column": null,
            "grid_gap": null,
            "grid_row": null,
            "grid_template_areas": null,
            "grid_template_columns": null,
            "grid_template_rows": null,
            "height": null,
            "justify_content": null,
            "justify_items": null,
            "left": null,
            "margin": null,
            "max_height": null,
            "max_width": null,
            "min_height": null,
            "min_width": null,
            "object_fit": null,
            "object_position": null,
            "order": null,
            "overflow": null,
            "overflow_x": null,
            "overflow_y": null,
            "padding": null,
            "right": null,
            "top": null,
            "visibility": null,
            "width": null
          }
        },
        "3e220cc4da8b40e9a7bb1bbde0ead364": {
          "model_module": "@jupyter-widgets/controls",
          "model_name": "DescriptionStyleModel",
          "model_module_version": "1.5.0",
          "state": {
            "_model_module": "@jupyter-widgets/controls",
            "_model_module_version": "1.5.0",
            "_model_name": "DescriptionStyleModel",
            "_view_count": null,
            "_view_module": "@jupyter-widgets/base",
            "_view_module_version": "1.2.0",
            "_view_name": "StyleView",
            "description_width": ""
          }
        },
        "fd80faf6fb2d498d82bc8ee11456a983": {
          "model_module": "@jupyter-widgets/base",
          "model_name": "LayoutModel",
          "model_module_version": "1.2.0",
          "state": {
            "_model_module": "@jupyter-widgets/base",
            "_model_module_version": "1.2.0",
            "_model_name": "LayoutModel",
            "_view_count": null,
            "_view_module": "@jupyter-widgets/base",
            "_view_module_version": "1.2.0",
            "_view_name": "LayoutView",
            "align_content": null,
            "align_items": null,
            "align_self": null,
            "border": null,
            "bottom": null,
            "display": null,
            "flex": null,
            "flex_flow": null,
            "grid_area": null,
            "grid_auto_columns": null,
            "grid_auto_flow": null,
            "grid_auto_rows": null,
            "grid_column": null,
            "grid_gap": null,
            "grid_row": null,
            "grid_template_areas": null,
            "grid_template_columns": null,
            "grid_template_rows": null,
            "height": null,
            "justify_content": null,
            "justify_items": null,
            "left": null,
            "margin": null,
            "max_height": null,
            "max_width": null,
            "min_height": null,
            "min_width": null,
            "object_fit": null,
            "object_position": null,
            "order": null,
            "overflow": null,
            "overflow_x": null,
            "overflow_y": null,
            "padding": null,
            "right": null,
            "top": null,
            "visibility": null,
            "width": null
          }
        },
        "0859cab817744b6a82a5d3de2dc2f816": {
          "model_module": "@jupyter-widgets/controls",
          "model_name": "ProgressStyleModel",
          "model_module_version": "1.5.0",
          "state": {
            "_model_module": "@jupyter-widgets/controls",
            "_model_module_version": "1.5.0",
            "_model_name": "ProgressStyleModel",
            "_view_count": null,
            "_view_module": "@jupyter-widgets/base",
            "_view_module_version": "1.2.0",
            "_view_name": "StyleView",
            "bar_color": null,
            "description_width": ""
          }
        },
        "60ea60c4eba94da6a66b739da33141c1": {
          "model_module": "@jupyter-widgets/base",
          "model_name": "LayoutModel",
          "model_module_version": "1.2.0",
          "state": {
            "_model_module": "@jupyter-widgets/base",
            "_model_module_version": "1.2.0",
            "_model_name": "LayoutModel",
            "_view_count": null,
            "_view_module": "@jupyter-widgets/base",
            "_view_module_version": "1.2.0",
            "_view_name": "LayoutView",
            "align_content": null,
            "align_items": null,
            "align_self": null,
            "border": null,
            "bottom": null,
            "display": null,
            "flex": null,
            "flex_flow": null,
            "grid_area": null,
            "grid_auto_columns": null,
            "grid_auto_flow": null,
            "grid_auto_rows": null,
            "grid_column": null,
            "grid_gap": null,
            "grid_row": null,
            "grid_template_areas": null,
            "grid_template_columns": null,
            "grid_template_rows": null,
            "height": null,
            "justify_content": null,
            "justify_items": null,
            "left": null,
            "margin": null,
            "max_height": null,
            "max_width": null,
            "min_height": null,
            "min_width": null,
            "object_fit": null,
            "object_position": null,
            "order": null,
            "overflow": null,
            "overflow_x": null,
            "overflow_y": null,
            "padding": null,
            "right": null,
            "top": null,
            "visibility": null,
            "width": null
          }
        },
        "9d92237417ef4acdbb10b3bc13889654": {
          "model_module": "@jupyter-widgets/controls",
          "model_name": "DescriptionStyleModel",
          "model_module_version": "1.5.0",
          "state": {
            "_model_module": "@jupyter-widgets/controls",
            "_model_module_version": "1.5.0",
            "_model_name": "DescriptionStyleModel",
            "_view_count": null,
            "_view_module": "@jupyter-widgets/base",
            "_view_module_version": "1.2.0",
            "_view_name": "StyleView",
            "description_width": ""
          }
        }
      }
    }
  },
  "nbformat": 4,
  "nbformat_minor": 0
}